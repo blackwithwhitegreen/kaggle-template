{
  "metadata": {
    "kernelspec": {
      "language": "python",
      "display_name": "Python 3",
      "name": "python3"
    },
    "language_info": {
      "name": "python",
      "version": "3.10.12",
      "mimetype": "text/x-python",
      "codemirror_mode": {
        "name": "ipython",
        "version": 3
      },
      "pygments_lexer": "ipython3",
      "nbconvert_exporter": "python",
      "file_extension": ".py"
    },
    "kaggle": {
      "accelerator": "none",
      "dataSources": [
        {
          "sourceId": 11042372,
          "sourceType": "datasetVersion",
          "datasetId": 6878303
        }
      ],
      "dockerImageVersionId": 30918,
      "isInternetEnabled": true,
      "language": "python",
      "sourceType": "notebook",
      "isGpuEnabled": false
    },
    "colab": {
      "name": "All time Best performace Analyze",
      "provenance": [],
      "include_colab_link": true
    }
  },
  "nbformat_minor": 0,
  "nbformat": 4,
  "cells": [
    {
      "cell_type": "markdown",
      "metadata": {
        "id": "view-in-github",
        "colab_type": "text"
      },
      "source": [
        "<a href=\"https://colab.research.google.com/github/blackwithwhitegreen/kaggle-template/blob/main/All_time_Best_performace_Analyze.ipynb\" target=\"_parent\"><img src=\"https://colab.research.google.com/assets/colab-badge.svg\" alt=\"Open In Colab\"/></a>"
      ]
    },
    {
      "source": [
        "# IMPORTANT: RUN THIS CELL IN ORDER TO IMPORT YOUR KAGGLE DATA SOURCES,\n",
        "# THEN FEEL FREE TO DELETE THIS CELL.\n",
        "# NOTE: THIS NOTEBOOK ENVIRONMENT DIFFERS FROM KAGGLE'S PYTHON\n",
        "# ENVIRONMENT SO THERE MAY BE MISSING LIBRARIES USED BY YOUR\n",
        "# NOTEBOOK.\n",
        "import kagglehub\n",
        "baddu01_ipl_2025_player_lifetime_statistics_path = kagglehub.dataset_download('baddu01/ipl-2025-player-lifetime-statistics')\n",
        "\n",
        "print('Data source import complete.')\n"
      ],
      "metadata": {
        "id": "8DU94tDfOAsv"
      },
      "cell_type": "code",
      "outputs": [],
      "execution_count": null
    },
    {
      "cell_type": "code",
      "source": [
        "# This Python 3 environment comes with many helpful analytics libraries installed\n",
        "# It is defined by the kaggle/python Docker image: https://github.com/kaggle/docker-python\n",
        "# For example, here's several helpful packages to load\n",
        "\n",
        "import numpy as np # linear algebra\n",
        "import pandas as pd # data processing, CSV file I/O (e.g. pd.read_csv)\n",
        "import warnings\n",
        "warnings.filterwarnings('ignore')\n",
        "\n",
        "# Input data files are available in the read-only \"../input/\" directory\n",
        "# For example, running this (by clicking run or pressing Shift+Enter) will list all files under the input directory\n",
        "\n",
        "import os\n",
        "for dirname, _, filenames in os.walk('/kaggle/input'):\n",
        "    for filename in filenames:\n",
        "        print(os.path.join(dirname, filename))\n",
        "\n",
        "# You can write up to 20GB to the current directory (/kaggle/working/) that gets preserved as output when you create a version using \"Save & Run All\"\n",
        "# You can also write temporary files to /kaggle/temp/, but they won't be saved outside of the current session"
      ],
      "metadata": {
        "_uuid": "8f2839f25d086af736a60e9eeb907d3b93b6e0e5",
        "_cell_guid": "b1076dfc-b9ad-4769-8c92-a6c4dae69d19",
        "trusted": true,
        "execution": {
          "iopub.status.busy": "2025-03-29T07:39:56.527332Z",
          "iopub.execute_input": "2025-03-29T07:39:56.527705Z",
          "iopub.status.idle": "2025-03-29T07:39:56.550162Z",
          "shell.execute_reply.started": "2025-03-29T07:39:56.527678Z",
          "shell.execute_reply": "2025-03-29T07:39:56.548797Z"
        },
        "id": "_g8y-mnGOAsw"
      },
      "outputs": [],
      "execution_count": null
    },
    {
      "cell_type": "code",
      "source": [
        "df = pd.read_csv('/kaggle/input/ipl-2025-player-lifetime-statistics/cricket_data_2025.csv',na_values = ['(NA)','(NAN)','(inf)']).fillna(0)"
      ],
      "metadata": {
        "trusted": true,
        "execution": {
          "iopub.status.busy": "2025-03-29T07:39:56.551392Z",
          "iopub.execute_input": "2025-03-29T07:39:56.551673Z",
          "iopub.status.idle": "2025-03-29T07:39:56.585918Z",
          "shell.execute_reply.started": "2025-03-29T07:39:56.551649Z",
          "shell.execute_reply": "2025-03-29T07:39:56.584663Z"
        },
        "id": "qhbi-6IAOAsy"
      },
      "outputs": [],
      "execution_count": null
    },
    {
      "cell_type": "code",
      "source": [
        "df"
      ],
      "metadata": {
        "trusted": true,
        "execution": {
          "iopub.status.busy": "2025-03-29T07:39:56.588437Z",
          "iopub.execute_input": "2025-03-29T07:39:56.58882Z",
          "iopub.status.idle": "2025-03-29T07:39:56.617465Z",
          "shell.execute_reply.started": "2025-03-29T07:39:56.588788Z",
          "shell.execute_reply": "2025-03-29T07:39:56.615876Z"
        },
        "id": "kn3Gkrx7OAsy"
      },
      "outputs": [],
      "execution_count": null
    },
    {
      "cell_type": "code",
      "source": [
        "df = df.drop(columns=['Best_Bowling_Match'])"
      ],
      "metadata": {
        "trusted": true,
        "execution": {
          "iopub.status.busy": "2025-03-29T07:39:56.618949Z",
          "iopub.execute_input": "2025-03-29T07:39:56.619248Z",
          "iopub.status.idle": "2025-03-29T07:39:56.625818Z",
          "shell.execute_reply.started": "2025-03-29T07:39:56.619223Z",
          "shell.execute_reply": "2025-03-29T07:39:56.624779Z"
        },
        "id": "sy6LAo0eOAs0"
      },
      "outputs": [],
      "execution_count": null
    },
    {
      "cell_type": "markdown",
      "source": [
        "# DATA PREPROCESSING"
      ],
      "metadata": {
        "id": "OdC5hF5-OAs1"
      }
    },
    {
      "cell_type": "code",
      "source": [
        "df = df.replace({'No stats':'0','NaN':'0'})"
      ],
      "metadata": {
        "trusted": true,
        "execution": {
          "iopub.status.busy": "2025-03-29T07:39:56.626909Z",
          "iopub.execute_input": "2025-03-29T07:39:56.627214Z",
          "iopub.status.idle": "2025-03-29T07:39:56.654901Z",
          "shell.execute_reply.started": "2025-03-29T07:39:56.627186Z",
          "shell.execute_reply": "2025-03-29T07:39:56.653567Z"
        },
        "id": "cjW8BEA6OAs5"
      },
      "outputs": [],
      "execution_count": null
    },
    {
      "cell_type": "code",
      "source": [
        "df['Highest_Score'] = df['Highest_Score'].str.replace('*', '', regex=False)\n",
        "\n",
        "# Convert 'Highest_Score' to numeric\n",
        "df['Highest_Score'] = pd.to_numeric(df['Highest_Score'], errors='coerce')"
      ],
      "metadata": {
        "trusted": true,
        "execution": {
          "iopub.status.busy": "2025-03-29T07:39:56.656195Z",
          "iopub.execute_input": "2025-03-29T07:39:56.656664Z",
          "iopub.status.idle": "2025-03-29T07:39:56.667749Z",
          "shell.execute_reply.started": "2025-03-29T07:39:56.65663Z",
          "shell.execute_reply": "2025-03-29T07:39:56.666413Z"
        },
        "id": "1wUwUkG-OAs6"
      },
      "outputs": [],
      "execution_count": null
    },
    {
      "cell_type": "code",
      "source": [
        "df"
      ],
      "metadata": {
        "trusted": true,
        "execution": {
          "iopub.status.busy": "2025-03-29T07:39:56.669895Z",
          "iopub.execute_input": "2025-03-29T07:39:56.670237Z",
          "iopub.status.idle": "2025-03-29T07:39:56.713999Z",
          "shell.execute_reply.started": "2025-03-29T07:39:56.670199Z",
          "shell.execute_reply": "2025-03-29T07:39:56.712928Z"
        },
        "id": "J4nQMMziOAs7"
      },
      "outputs": [],
      "execution_count": null
    },
    {
      "cell_type": "code",
      "source": [
        "df.columns.values"
      ],
      "metadata": {
        "trusted": true,
        "execution": {
          "iopub.status.busy": "2025-03-29T07:39:56.715208Z",
          "iopub.execute_input": "2025-03-29T07:39:56.71553Z",
          "iopub.status.idle": "2025-03-29T07:39:56.738857Z",
          "shell.execute_reply.started": "2025-03-29T07:39:56.715497Z",
          "shell.execute_reply": "2025-03-29T07:39:56.737007Z"
        },
        "id": "twDoeErDOAs9"
      },
      "outputs": [],
      "execution_count": null
    },
    {
      "cell_type": "code",
      "source": [
        "df.info()"
      ],
      "metadata": {
        "trusted": true,
        "execution": {
          "iopub.status.busy": "2025-03-29T07:39:56.741429Z",
          "iopub.execute_input": "2025-03-29T07:39:56.741803Z",
          "iopub.status.idle": "2025-03-29T07:39:56.774013Z",
          "shell.execute_reply.started": "2025-03-29T07:39:56.741771Z",
          "shell.execute_reply": "2025-03-29T07:39:56.772506Z"
        },
        "id": "stwB1qoZOAs-"
      },
      "outputs": [],
      "execution_count": null
    },
    {
      "cell_type": "code",
      "source": [
        "cols = ['Matches_Batted', 'Not_Outs', 'Runs_Scored',\n",
        "       'Highest_Score', 'Batting_Average', 'Balls_Faced',\n",
        "       'Batting_Strike_Rate', 'Centuries', 'Half_Centuries', 'Fours',\n",
        "       'Sixes', 'Catches_Taken', 'Stumpings', 'Matches_Bowled',\n",
        "       'Balls_Bowled', 'Runs_Conceded', 'Wickets_Taken',\n",
        "       'Bowling_Average', 'Economy_Rate',\n",
        "       'Bowling_Strike_Rate', 'Four_Wicket_Hauls', 'Five_Wicket_Hauls']"
      ],
      "metadata": {
        "trusted": true,
        "execution": {
          "iopub.status.busy": "2025-03-29T07:39:56.775709Z",
          "iopub.execute_input": "2025-03-29T07:39:56.776025Z",
          "iopub.status.idle": "2025-03-29T07:39:56.796528Z",
          "shell.execute_reply.started": "2025-03-29T07:39:56.775999Z",
          "shell.execute_reply": "2025-03-29T07:39:56.795395Z"
        },
        "id": "PjTocEy4OAs_"
      },
      "outputs": [],
      "execution_count": null
    },
    {
      "cell_type": "code",
      "source": [
        "df[cols] = df[cols].apply(pd.to_numeric,errors='ignore')"
      ],
      "metadata": {
        "trusted": true,
        "execution": {
          "iopub.status.busy": "2025-03-29T07:39:56.797752Z",
          "iopub.execute_input": "2025-03-29T07:39:56.798072Z",
          "iopub.status.idle": "2025-03-29T07:39:56.839187Z",
          "shell.execute_reply.started": "2025-03-29T07:39:56.798043Z",
          "shell.execute_reply": "2025-03-29T07:39:56.837981Z"
        },
        "id": "SQ3CAaTZOAtA"
      },
      "outputs": [],
      "execution_count": null
    },
    {
      "cell_type": "code",
      "source": [
        "df[cols] = df[cols].astype('int',errors ='ignore')"
      ],
      "metadata": {
        "trusted": true,
        "execution": {
          "iopub.status.busy": "2025-03-29T07:39:56.84216Z",
          "iopub.execute_input": "2025-03-29T07:39:56.842673Z",
          "iopub.status.idle": "2025-03-29T07:39:56.853998Z",
          "shell.execute_reply.started": "2025-03-29T07:39:56.842634Z",
          "shell.execute_reply": "2025-03-29T07:39:56.852859Z"
        },
        "id": "-LQDiKJPOAtD"
      },
      "outputs": [],
      "execution_count": null
    },
    {
      "cell_type": "code",
      "source": [
        "df.info()"
      ],
      "metadata": {
        "trusted": true,
        "execution": {
          "iopub.status.busy": "2025-03-29T07:40:34.017206Z",
          "iopub.execute_input": "2025-03-29T07:40:34.017644Z",
          "iopub.status.idle": "2025-03-29T07:40:34.031608Z",
          "shell.execute_reply.started": "2025-03-29T07:40:34.017613Z",
          "shell.execute_reply": "2025-03-29T07:40:34.030439Z"
        },
        "id": "IUk5Z65bOAtD"
      },
      "outputs": [],
      "execution_count": null
    },
    {
      "cell_type": "code",
      "source": [
        "df"
      ],
      "metadata": {
        "trusted": true,
        "execution": {
          "iopub.status.busy": "2025-03-29T07:40:34.697857Z",
          "iopub.execute_input": "2025-03-29T07:40:34.698192Z",
          "iopub.status.idle": "2025-03-29T07:40:34.724043Z",
          "shell.execute_reply.started": "2025-03-29T07:40:34.698166Z",
          "shell.execute_reply": "2025-03-29T07:40:34.722833Z"
        },
        "id": "0O9kW2llOAtE"
      },
      "outputs": [],
      "execution_count": null
    },
    {
      "cell_type": "code",
      "source": [
        "# Replace all non-numeric values with 0 in the 'cols' columns\n",
        "for col in cols:\n",
        "    df[col] = pd.to_numeric(df[col], errors='coerce').fillna(0)\n",
        "\n",
        "new_df = df.groupby('Player_Name')[cols].max()\n",
        "new_df"
      ],
      "metadata": {
        "trusted": true,
        "execution": {
          "iopub.status.busy": "2025-03-29T07:40:36.988625Z",
          "iopub.execute_input": "2025-03-29T07:40:36.989002Z",
          "iopub.status.idle": "2025-03-29T07:40:37.026624Z",
          "shell.execute_reply.started": "2025-03-29T07:40:36.988969Z",
          "shell.execute_reply": "2025-03-29T07:40:37.025472Z"
        },
        "id": "StH7qt9OOAtF"
      },
      "outputs": [],
      "execution_count": null
    },
    {
      "cell_type": "code",
      "source": [
        "# Filter out rows where both 'Matches_Bowled' and 'Matches_Batted' are 0\n",
        "df = df[(df['Matches_Bowled'] != 0) | (df['Matches_Batted'] != 0)]\n",
        "\n",
        "for col in cols:\n",
        "    df[col] = pd.to_numeric(df[col], errors='coerce').fillna(0)\n",
        "\n",
        "new_df = df.groupby('Player_Name')[cols].max().reset_index()\n",
        "new_df"
      ],
      "metadata": {
        "trusted": true,
        "execution": {
          "iopub.status.busy": "2025-03-29T07:40:39.484925Z",
          "iopub.execute_input": "2025-03-29T07:40:39.48531Z",
          "iopub.status.idle": "2025-03-29T07:40:39.52156Z",
          "shell.execute_reply.started": "2025-03-29T07:40:39.48524Z",
          "shell.execute_reply": "2025-03-29T07:40:39.520244Z"
        },
        "id": "QsubhiBjOAtG"
      },
      "outputs": [],
      "execution_count": null
    },
    {
      "cell_type": "code",
      "source": [
        "new_df.columns.values"
      ],
      "metadata": {
        "trusted": true,
        "execution": {
          "iopub.status.busy": "2025-03-29T07:40:44.146139Z",
          "iopub.execute_input": "2025-03-29T07:40:44.146586Z",
          "iopub.status.idle": "2025-03-29T07:40:44.15374Z",
          "shell.execute_reply.started": "2025-03-29T07:40:44.146552Z",
          "shell.execute_reply": "2025-03-29T07:40:44.152629Z"
        },
        "id": "QDOb2AanOAtH"
      },
      "outputs": [],
      "execution_count": null
    },
    {
      "cell_type": "markdown",
      "source": [
        "# FULL VIZUALIZATION"
      ],
      "metadata": {
        "id": "HWG1ehZWOAtI"
      }
    },
    {
      "cell_type": "code",
      "source": [
        "import matplotlib.pyplot as plt\n",
        "import seaborn as sns"
      ],
      "metadata": {
        "trusted": true,
        "execution": {
          "iopub.status.busy": "2025-03-29T07:40:44.570833Z",
          "iopub.execute_input": "2025-03-29T07:40:44.571237Z",
          "iopub.status.idle": "2025-03-29T07:40:44.576379Z",
          "shell.execute_reply.started": "2025-03-29T07:40:44.571203Z",
          "shell.execute_reply": "2025-03-29T07:40:44.57513Z"
        },
        "id": "6hsFhYAROAtI"
      },
      "outputs": [],
      "execution_count": null
    },
    {
      "cell_type": "code",
      "source": [
        "for features in cols:\n",
        "    if features in df.columns:\n",
        "        plt.figure(figsize=(12,5))\n",
        "        sns.lineplot(new_df[features].dropna(),marker='o',color='purple')\n",
        "        plt.title(f'Histogram of {features}')\n",
        "        plt.xlabel(features)\n",
        "        plt.ylabel('Count')\n",
        "        plt.tight_layout()\n",
        "        plt.show()\n",
        "\n",
        "\n",
        "\n",
        "for features in cols:\n",
        "    if features in df.columns:\n",
        "        plt.figure(figsize=(12,5))\n",
        "        sns.histplot(new_df[features].dropna(),kde = True,color='green')\n",
        "        plt.title(f'Histogram of {features}')\n",
        "        plt.xlabel(features)\n",
        "        plt.ylabel('Count')\n",
        "        plt.tight_layout()\n",
        "        plt.show()\n",
        "\n",
        "\n",
        "\n",
        "cols_df = new_df.select_dtypes(include=[np.number])\n",
        "if cols_df.shape[1] >= 4:\n",
        "    plt.figure(figsize=(12,5))\n",
        "    correlation_matrix = cols_df.corr()\n",
        "    sns.heatmap(correlation_matrix,annot=True,cmap='coolwarm',fmt = '.2f')\n",
        "    plt.title('Correlation Heatmap of Numeric Features.')\n",
        "    plt.tight_layout()\n",
        "    plt.show()\n",
        "\n",
        "\n",
        "\n",
        "\n",
        "# PAIR PLOT FOR THE BATTING STATS\n",
        "selected_columns = ['Matches_Batted', 'Not_Outs', 'Runs_Scored',\n",
        "       'Highest_Score', 'Batting_Average',\n",
        "       'Batting_Strike_Rate', 'Centuries', 'Half_Centuries', 'Fours', 'Sixes']\n",
        "if set(selected_columns).issubset(new_df.columns):\n",
        "    sns.pairplot(new_df[selected_columns].dropna(),diag_kind = 'kde')\n",
        "    plt.show()\n",
        "\n",
        "\n",
        "\n",
        "#PAIR PLOT FOR THE BOWLING STATS\n",
        "selected_columns = ['Matches_Bowled', 'Balls_Bowled',\n",
        "       'Runs_Conceded', 'Wickets_Taken', 'Bowling_Average', 'Economy_Rate',\n",
        "       'Bowling_Strike_Rate', 'Four_Wicket_Hauls', 'Five_Wicket_Hauls']\n",
        "if set(selected_columns).issubset(new_df.columns):\n",
        "    sns.pairplot(new_df[selected_columns].dropna(),diag_kind = 'kde')\n",
        "    plt.show()\n",
        "\n",
        "\n",
        "\n",
        "# BATTING STATS FOR ALL TIME.\n",
        "cateogrical_columns = ['Player_Name','Runs_Scored']\n",
        "\n",
        "for features in cateogrical_columns:\n",
        "    if features in new_df.columns:\n",
        "        top_player = new_df.nlargest(20,'Runs_Scored')\n",
        "        plt.figure(figsize=(20,5))\n",
        "        sns.barplot(y ='Runs_Scored',x=features,data = top_player,palette='viridis', order=top_player[features].value_counts().index)\n",
        "        plt.title(f'Count Plot of {features}')\n",
        "        plt.tight_layout()\n",
        "        plt.xticks(rotation=90)\n",
        "        plt.show()\n",
        "\n",
        "\n",
        "\n",
        "# BOWLING STATS FOR ALL TIME\n",
        "cateogrical_columns = ['Player_Name','Wickets_Taken']\n",
        "\n",
        "for features in cateogrical_columns:\n",
        "    if features in new_df.columns:\n",
        "        top_player = new_df.nlargest(20,'Wickets_Taken')\n",
        "        plt.figure(figsize=(20,5))\n",
        "        sns.barplot(y ='Matches_Bowled',x=features,data = top_player,palette='viridis', order=top_player[features].value_counts().index)\n",
        "        plt.title(f'Count Plot of {features}')\n",
        "        plt.tight_layout()\n",
        "        plt.xticks(rotation=90)\n",
        "        plt.show()\n",
        "\n",
        "\n"
      ],
      "metadata": {
        "trusted": true,
        "execution": {
          "iopub.status.busy": "2025-03-29T08:30:36.889334Z",
          "iopub.execute_input": "2025-03-29T08:30:36.889754Z",
          "iopub.status.idle": "2025-03-29T08:31:46.724742Z",
          "shell.execute_reply.started": "2025-03-29T08:30:36.889725Z",
          "shell.execute_reply": "2025-03-29T08:31:46.723482Z"
        },
        "id": "-gvvCk9AOAtI"
      },
      "outputs": [],
      "execution_count": null
    },
    {
      "cell_type": "code",
      "source": [
        "new_df.columns"
      ],
      "metadata": {
        "trusted": true,
        "execution": {
          "iopub.status.busy": "2025-03-29T07:40:44.863379Z",
          "iopub.execute_input": "2025-03-29T07:40:44.863725Z",
          "iopub.status.idle": "2025-03-29T07:40:44.870557Z",
          "shell.execute_reply.started": "2025-03-29T07:40:44.863699Z",
          "shell.execute_reply": "2025-03-29T07:40:44.869324Z"
        },
        "id": "7cJHV5TiOAtK"
      },
      "outputs": [],
      "execution_count": null
    },
    {
      "cell_type": "markdown",
      "source": [
        "# MODELS SECTION"
      ],
      "metadata": {
        "id": "HIT-WItIOAtK"
      }
    },
    {
      "cell_type": "code",
      "source": [
        "from sklearn.model_selection import train_test_split\n",
        "from sklearn.ensemble import RandomForestRegressor\n",
        "from sklearn.metrics import mean_squared_error,r2_score,accuracy_score,mean_absolute_error\n",
        "from sklearn.linear_model import LogisticRegression\n",
        "from sklearn.tree import DecisionTreeClassifier\n",
        "from sklearn.svm import SVC\n",
        "from sklearn.ensemble import GradientBoostingClassifier,RandomForestClassifier\n",
        "from sklearn.neighbors import KNeighborsClassifier"
      ],
      "metadata": {
        "trusted": true,
        "execution": {
          "iopub.status.busy": "2025-03-29T08:44:49.259822Z",
          "iopub.execute_input": "2025-03-29T08:44:49.260259Z",
          "iopub.status.idle": "2025-03-29T08:44:49.265675Z",
          "shell.execute_reply.started": "2025-03-29T08:44:49.260228Z",
          "shell.execute_reply": "2025-03-29T08:44:49.264541Z"
        },
        "id": "A5rurqmEOAtL"
      },
      "outputs": [],
      "execution_count": null
    },
    {
      "cell_type": "code",
      "source": [
        "cols = ['Player_Name', 'Matches_Batted', 'Not_Outs',\n",
        "       'Highest_Score', 'Batting_Average', 'Balls_Faced',\n",
        "       'Batting_Strike_Rate', 'Centuries', 'Half_Centuries', 'Fours', 'Sixes',\n",
        "       'Catches_Taken', 'Stumpings', 'Matches_Bowled', 'Balls_Bowled',\n",
        "       'Runs_Conceded', 'Wickets_Taken', 'Bowling_Average', 'Economy_Rate',\n",
        "       'Bowling_Strike_Rate', 'Four_Wicket_Hauls', 'Five_Wicket_Hauls']"
      ],
      "metadata": {
        "trusted": true,
        "id": "_IfJ5sbJOAtL"
      },
      "outputs": [],
      "execution_count": null
    },
    {
      "cell_type": "code",
      "source": [
        "X = df[cols]\n",
        "y = df['Runs_Scored']"
      ],
      "metadata": {
        "trusted": true,
        "execution": {
          "iopub.status.busy": "2025-03-29T08:38:22.518247Z",
          "iopub.execute_input": "2025-03-29T08:38:22.518768Z",
          "iopub.status.idle": "2025-03-29T08:38:22.526657Z",
          "shell.execute_reply.started": "2025-03-29T08:38:22.518736Z",
          "shell.execute_reply": "2025-03-29T08:38:22.525358Z"
        },
        "id": "7zWQBs9TOAtL"
      },
      "outputs": [],
      "execution_count": null
    },
    {
      "cell_type": "code",
      "source": [
        "X_train,X_test,y_train,y_test = train_test_split(X,y,test_size=0.2,random_state=42)"
      ],
      "metadata": {
        "trusted": true,
        "execution": {
          "iopub.status.busy": "2025-03-29T08:39:17.5303Z",
          "iopub.execute_input": "2025-03-29T08:39:17.530716Z",
          "iopub.status.idle": "2025-03-29T08:39:17.544714Z",
          "shell.execute_reply.started": "2025-03-29T08:39:17.530685Z",
          "shell.execute_reply": "2025-03-29T08:39:17.54259Z"
        },
        "id": "v9swwbVGOAtM"
      },
      "outputs": [],
      "execution_count": null
    },
    {
      "cell_type": "markdown",
      "source": [
        "# RandomForestRegressor"
      ],
      "metadata": {
        "id": "_vEna7YCOAtM"
      }
    },
    {
      "cell_type": "code",
      "source": [
        "rf = RandomForestRegressor(n_estimators=100)"
      ],
      "metadata": {
        "trusted": true,
        "execution": {
          "iopub.status.busy": "2025-03-29T08:40:34.20245Z",
          "iopub.execute_input": "2025-03-29T08:40:34.202888Z",
          "iopub.status.idle": "2025-03-29T08:40:34.20799Z",
          "shell.execute_reply.started": "2025-03-29T08:40:34.202857Z",
          "shell.execute_reply": "2025-03-29T08:40:34.206689Z"
        },
        "id": "1pFwgGjiOAtM"
      },
      "outputs": [],
      "execution_count": null
    },
    {
      "cell_type": "code",
      "source": [
        "rf.fit(X_train,y_train)"
      ],
      "metadata": {
        "trusted": true,
        "execution": {
          "iopub.status.busy": "2025-03-29T08:41:04.881338Z",
          "iopub.execute_input": "2025-03-29T08:41:04.881711Z",
          "iopub.status.idle": "2025-03-29T08:41:05.398548Z",
          "shell.execute_reply.started": "2025-03-29T08:41:04.881684Z",
          "shell.execute_reply": "2025-03-29T08:41:05.397397Z"
        },
        "id": "iRu1gfmYOAtM"
      },
      "outputs": [],
      "execution_count": null
    },
    {
      "cell_type": "code",
      "source": [
        "y_pred_rf = rf.predict(X_test)"
      ],
      "metadata": {
        "trusted": true,
        "execution": {
          "iopub.status.busy": "2025-03-29T08:41:06.634828Z",
          "iopub.execute_input": "2025-03-29T08:41:06.63517Z",
          "iopub.status.idle": "2025-03-29T08:41:06.648576Z",
          "shell.execute_reply.started": "2025-03-29T08:41:06.635142Z",
          "shell.execute_reply": "2025-03-29T08:41:06.647561Z"
        },
        "id": "T7Qee_9-OAtN"
      },
      "outputs": [],
      "execution_count": null
    },
    {
      "cell_type": "code",
      "source": [
        "rmse = mean_absolute_error(y_pred_rf,y_test)\n",
        "r2_score = r2_score(y_pred_rf,y_test)"
      ],
      "metadata": {
        "trusted": true,
        "execution": {
          "iopub.status.busy": "2025-03-29T08:45:27.166192Z",
          "iopub.execute_input": "2025-03-29T08:45:27.166738Z",
          "iopub.status.idle": "2025-03-29T08:45:27.17469Z",
          "shell.execute_reply.started": "2025-03-29T08:45:27.166693Z",
          "shell.execute_reply": "2025-03-29T08:45:27.173433Z"
        },
        "id": "TGUKwh6pOAtO"
      },
      "outputs": [],
      "execution_count": null
    },
    {
      "cell_type": "code",
      "source": [
        "print(f'rmse:',rmse)\n",
        "print(f'r2-score :',r2_score)"
      ],
      "metadata": {
        "trusted": true,
        "execution": {
          "iopub.status.busy": "2025-03-29T08:45:28.586438Z",
          "iopub.execute_input": "2025-03-29T08:45:28.586844Z",
          "iopub.status.idle": "2025-03-29T08:45:28.594499Z",
          "shell.execute_reply.started": "2025-03-29T08:45:28.586809Z",
          "shell.execute_reply": "2025-03-29T08:45:28.592974Z"
        },
        "id": "Ibk4CUK8OAtP"
      },
      "outputs": [],
      "execution_count": null
    },
    {
      "cell_type": "markdown",
      "source": [
        "# LogisticRegression"
      ],
      "metadata": {
        "id": "Fpv2luhLOAtP"
      }
    },
    {
      "cell_type": "code",
      "source": [
        "lr = LogisticRegression()"
      ],
      "metadata": {
        "trusted": true,
        "execution": {
          "iopub.status.busy": "2025-03-29T09:03:41.219071Z",
          "iopub.execute_input": "2025-03-29T09:03:41.219455Z",
          "iopub.status.idle": "2025-03-29T09:03:41.224754Z",
          "shell.execute_reply.started": "2025-03-29T09:03:41.219424Z",
          "shell.execute_reply": "2025-03-29T09:03:41.223011Z"
        },
        "id": "4g55_iblOAtQ"
      },
      "outputs": [],
      "execution_count": null
    },
    {
      "cell_type": "code",
      "source": [
        "lr.fit(X_train,y_train)"
      ],
      "metadata": {
        "trusted": true,
        "execution": {
          "iopub.status.busy": "2025-03-29T09:03:42.536445Z",
          "iopub.execute_input": "2025-03-29T09:03:42.536839Z",
          "iopub.status.idle": "2025-03-29T09:03:43.223347Z",
          "shell.execute_reply.started": "2025-03-29T09:03:42.536806Z",
          "shell.execute_reply": "2025-03-29T09:03:43.222315Z"
        },
        "id": "1IllWk13OAtQ"
      },
      "outputs": [],
      "execution_count": null
    },
    {
      "cell_type": "code",
      "source": [
        "y_pred_lr = lr.predict(X_test)"
      ],
      "metadata": {
        "trusted": true,
        "execution": {
          "iopub.status.busy": "2025-03-29T09:03:44.235593Z",
          "iopub.execute_input": "2025-03-29T09:03:44.235948Z",
          "iopub.status.idle": "2025-03-29T09:03:44.243822Z",
          "shell.execute_reply.started": "2025-03-29T09:03:44.235919Z",
          "shell.execute_reply": "2025-03-29T09:03:44.242793Z"
        },
        "id": "t338uAIEOAtQ"
      },
      "outputs": [],
      "execution_count": null
    },
    {
      "cell_type": "code",
      "source": [
        "acc_lr = accuracy_score(y_pred_lr,y_test)\n",
        "print(f'acc_lr:',acc_lr)"
      ],
      "metadata": {
        "trusted": true,
        "execution": {
          "iopub.status.busy": "2025-03-29T09:03:45.426126Z",
          "iopub.execute_input": "2025-03-29T09:03:45.426535Z",
          "iopub.status.idle": "2025-03-29T09:03:45.434462Z",
          "shell.execute_reply.started": "2025-03-29T09:03:45.426501Z",
          "shell.execute_reply": "2025-03-29T09:03:45.432966Z"
        },
        "id": "uCvxDiP-OAtR"
      },
      "outputs": [],
      "execution_count": null
    },
    {
      "cell_type": "markdown",
      "source": [
        "# DecisionTreeClassifier"
      ],
      "metadata": {
        "id": "2P13a97dOAtS"
      }
    },
    {
      "cell_type": "code",
      "source": [
        "dt = DecisionTreeClassifier()"
      ],
      "metadata": {
        "trusted": true,
        "execution": {
          "iopub.status.busy": "2025-03-29T08:53:41.67603Z",
          "iopub.execute_input": "2025-03-29T08:53:41.6765Z",
          "iopub.status.idle": "2025-03-29T08:53:41.681564Z",
          "shell.execute_reply.started": "2025-03-29T08:53:41.676466Z",
          "shell.execute_reply": "2025-03-29T08:53:41.680407Z"
        },
        "id": "ktx_u13cOAtT"
      },
      "outputs": [],
      "execution_count": null
    },
    {
      "cell_type": "code",
      "source": [
        "dt.fit(X_train,y_train)"
      ],
      "metadata": {
        "trusted": true,
        "execution": {
          "iopub.status.busy": "2025-03-29T08:53:55.044977Z",
          "iopub.execute_input": "2025-03-29T08:53:55.045391Z",
          "iopub.status.idle": "2025-03-29T08:53:55.109952Z",
          "shell.execute_reply.started": "2025-03-29T08:53:55.045354Z",
          "shell.execute_reply": "2025-03-29T08:53:55.109004Z"
        },
        "id": "2QlY-NIbOAtT"
      },
      "outputs": [],
      "execution_count": null
    },
    {
      "cell_type": "code",
      "source": [
        "y_pred_dt = dt.predict(X_test)"
      ],
      "metadata": {
        "trusted": true,
        "execution": {
          "iopub.status.busy": "2025-03-29T08:54:18.028156Z",
          "iopub.execute_input": "2025-03-29T08:54:18.0287Z",
          "iopub.status.idle": "2025-03-29T08:54:18.038691Z",
          "shell.execute_reply.started": "2025-03-29T08:54:18.028663Z",
          "shell.execute_reply": "2025-03-29T08:54:18.037089Z"
        },
        "id": "gSHMnw6ZOAtU"
      },
      "outputs": [],
      "execution_count": null
    },
    {
      "cell_type": "code",
      "source": [
        "acc_dt = accuracy_score(y_pred_dt,y_test)\n",
        "print(f'acc_lr:',acc_dt)"
      ],
      "metadata": {
        "trusted": true,
        "execution": {
          "iopub.status.busy": "2025-03-29T08:54:45.670209Z",
          "iopub.execute_input": "2025-03-29T08:54:45.670701Z",
          "iopub.status.idle": "2025-03-29T08:54:45.678552Z",
          "shell.execute_reply.started": "2025-03-29T08:54:45.670666Z",
          "shell.execute_reply": "2025-03-29T08:54:45.677246Z"
        },
        "id": "zm66wHpKOAtV"
      },
      "outputs": [],
      "execution_count": null
    },
    {
      "cell_type": "markdown",
      "source": [
        "# SVC (Support Vector Classifier)"
      ],
      "metadata": {
        "id": "l9j9GD9rOAtV"
      }
    },
    {
      "cell_type": "code",
      "source": [
        "sv = SVC()"
      ],
      "metadata": {
        "trusted": true,
        "execution": {
          "iopub.status.busy": "2025-03-29T08:55:08.599697Z",
          "iopub.execute_input": "2025-03-29T08:55:08.600095Z",
          "iopub.status.idle": "2025-03-29T08:55:08.605237Z",
          "shell.execute_reply.started": "2025-03-29T08:55:08.600061Z",
          "shell.execute_reply": "2025-03-29T08:55:08.603859Z"
        },
        "id": "HPxGkn0vOAtX"
      },
      "outputs": [],
      "execution_count": null
    },
    {
      "cell_type": "code",
      "source": [
        "sv.fit(X_train,y_train)"
      ],
      "metadata": {
        "trusted": true,
        "execution": {
          "iopub.status.busy": "2025-03-29T08:55:23.213851Z",
          "iopub.execute_input": "2025-03-29T08:55:23.214254Z",
          "iopub.status.idle": "2025-03-29T08:55:23.479635Z",
          "shell.execute_reply.started": "2025-03-29T08:55:23.214222Z",
          "shell.execute_reply": "2025-03-29T08:55:23.478461Z"
        },
        "id": "Vcin8OQgOAta"
      },
      "outputs": [],
      "execution_count": null
    },
    {
      "cell_type": "code",
      "source": [
        "y_pred_sv = sv.predict(X_test)"
      ],
      "metadata": {
        "trusted": true,
        "execution": {
          "iopub.status.busy": "2025-03-29T08:55:42.490629Z",
          "iopub.execute_input": "2025-03-29T08:55:42.49107Z",
          "iopub.status.idle": "2025-03-29T08:55:42.635927Z",
          "shell.execute_reply.started": "2025-03-29T08:55:42.491035Z",
          "shell.execute_reply": "2025-03-29T08:55:42.634348Z"
        },
        "id": "gzCWHAKMOAtb"
      },
      "outputs": [],
      "execution_count": null
    },
    {
      "cell_type": "code",
      "source": [
        "acc_sv = accuracy_score(y_pred_sv,y_test)\n",
        "print(f'acc_sv:',acc_sv)"
      ],
      "metadata": {
        "trusted": true,
        "execution": {
          "iopub.status.busy": "2025-03-29T08:56:18.519004Z",
          "iopub.execute_input": "2025-03-29T08:56:18.519554Z",
          "iopub.status.idle": "2025-03-29T08:56:18.528095Z",
          "shell.execute_reply.started": "2025-03-29T08:56:18.519518Z",
          "shell.execute_reply": "2025-03-29T08:56:18.526767Z"
        },
        "id": "ZeFiG03YOAtd"
      },
      "outputs": [],
      "execution_count": null
    },
    {
      "cell_type": "markdown",
      "source": [
        "# GradientBoostingClassifier"
      ],
      "metadata": {
        "id": "aUKLAGItOAtf"
      }
    },
    {
      "cell_type": "code",
      "source": [
        "gb = GradientBoostingClassifier()"
      ],
      "metadata": {
        "trusted": true,
        "execution": {
          "iopub.status.busy": "2025-03-29T08:56:46.696159Z",
          "iopub.execute_input": "2025-03-29T08:56:46.696679Z",
          "iopub.status.idle": "2025-03-29T08:56:46.701685Z",
          "shell.execute_reply.started": "2025-03-29T08:56:46.696645Z",
          "shell.execute_reply": "2025-03-29T08:56:46.700426Z"
        },
        "id": "TaEG--NOOAtg"
      },
      "outputs": [],
      "execution_count": null
    },
    {
      "cell_type": "code",
      "source": [
        "gb.fit(X_train,y_train)"
      ],
      "metadata": {
        "trusted": true,
        "execution": {
          "iopub.status.busy": "2025-03-29T08:57:05.344426Z",
          "iopub.execute_input": "2025-03-29T08:57:05.344786Z",
          "iopub.status.idle": "2025-03-29T08:59:30.477332Z",
          "shell.execute_reply.started": "2025-03-29T08:57:05.344758Z",
          "shell.execute_reply": "2025-03-29T08:59:30.476144Z"
        },
        "id": "t9fA2DnOOAtg"
      },
      "outputs": [],
      "execution_count": null
    },
    {
      "cell_type": "code",
      "source": [
        "y_pred_gb = gb.predict(X_test)"
      ],
      "metadata": {
        "trusted": true,
        "execution": {
          "iopub.status.busy": "2025-03-29T08:59:30.479062Z",
          "iopub.execute_input": "2025-03-29T08:59:30.479532Z",
          "iopub.status.idle": "2025-03-29T08:59:30.556611Z",
          "shell.execute_reply.started": "2025-03-29T08:59:30.479486Z",
          "shell.execute_reply": "2025-03-29T08:59:30.555656Z"
        },
        "id": "3dKJv49UOAth"
      },
      "outputs": [],
      "execution_count": null
    },
    {
      "cell_type": "code",
      "source": [
        "acc_gb = accuracy_score(y_pred_gb,y_test)\n",
        "print(f'acc_gb:',acc_gb)"
      ],
      "metadata": {
        "trusted": true,
        "execution": {
          "iopub.status.busy": "2025-03-29T08:59:30.567363Z",
          "iopub.execute_input": "2025-03-29T08:59:30.567668Z",
          "iopub.status.idle": "2025-03-29T08:59:30.59124Z",
          "shell.execute_reply.started": "2025-03-29T08:59:30.567642Z",
          "shell.execute_reply": "2025-03-29T08:59:30.590103Z"
        },
        "id": "AMprdhzIOAti"
      },
      "outputs": [],
      "execution_count": null
    },
    {
      "cell_type": "markdown",
      "source": [
        "# RandomForestClassifier"
      ],
      "metadata": {
        "id": "BvUJ-GhvOAtj"
      }
    },
    {
      "cell_type": "code",
      "source": [
        "rfc = RandomForestClassifier()"
      ],
      "metadata": {
        "trusted": true,
        "execution": {
          "iopub.status.busy": "2025-03-29T08:59:46.435532Z",
          "iopub.execute_input": "2025-03-29T08:59:46.435931Z",
          "iopub.status.idle": "2025-03-29T08:59:46.440616Z",
          "shell.execute_reply.started": "2025-03-29T08:59:46.435894Z",
          "shell.execute_reply": "2025-03-29T08:59:46.439423Z"
        },
        "id": "ap8ZQfGuOAtj"
      },
      "outputs": [],
      "execution_count": null
    },
    {
      "cell_type": "code",
      "source": [
        "rfc.fit(X_train,y_train)"
      ],
      "metadata": {
        "trusted": true,
        "execution": {
          "iopub.status.busy": "2025-03-29T09:00:22.463135Z",
          "iopub.execute_input": "2025-03-29T09:00:22.463552Z",
          "iopub.status.idle": "2025-03-29T09:00:23.611997Z",
          "shell.execute_reply.started": "2025-03-29T09:00:22.46352Z",
          "shell.execute_reply": "2025-03-29T09:00:23.610797Z"
        },
        "id": "58cAMFlwOAtk"
      },
      "outputs": [],
      "execution_count": null
    },
    {
      "cell_type": "code",
      "source": [
        "y_pred_rfc = rfc.predict(X_test)"
      ],
      "metadata": {
        "trusted": true,
        "execution": {
          "iopub.status.busy": "2025-03-29T09:00:50.170966Z",
          "iopub.execute_input": "2025-03-29T09:00:50.171388Z",
          "iopub.status.idle": "2025-03-29T09:00:50.220813Z",
          "shell.execute_reply.started": "2025-03-29T09:00:50.171355Z",
          "shell.execute_reply": "2025-03-29T09:00:50.219396Z"
        },
        "id": "jQGNnsf8OAtk"
      },
      "outputs": [],
      "execution_count": null
    },
    {
      "cell_type": "code",
      "source": [
        "acc_rfc = accuracy_score(y_pred_rfc,y_test)\n",
        "print(f'acc_rfc:',acc_rfc)"
      ],
      "metadata": {
        "trusted": true,
        "execution": {
          "iopub.status.busy": "2025-03-29T09:01:23.072731Z",
          "iopub.execute_input": "2025-03-29T09:01:23.073137Z",
          "iopub.status.idle": "2025-03-29T09:01:23.080984Z",
          "shell.execute_reply.started": "2025-03-29T09:01:23.073104Z",
          "shell.execute_reply": "2025-03-29T09:01:23.079868Z"
        },
        "id": "pxe720viOAtk"
      },
      "outputs": [],
      "execution_count": null
    },
    {
      "cell_type": "markdown",
      "source": [
        "# KNeighborsClassifier"
      ],
      "metadata": {
        "id": "-Ny_g4F7OAtl"
      }
    },
    {
      "cell_type": "code",
      "source": [
        "kn = KNeighborsClassifier()"
      ],
      "metadata": {
        "trusted": true,
        "execution": {
          "iopub.status.busy": "2025-03-29T09:01:51.412303Z",
          "iopub.execute_input": "2025-03-29T09:01:51.41267Z",
          "iopub.status.idle": "2025-03-29T09:01:51.417541Z",
          "shell.execute_reply.started": "2025-03-29T09:01:51.412643Z",
          "shell.execute_reply": "2025-03-29T09:01:51.416445Z"
        },
        "id": "zFTTfNt1OAtm"
      },
      "outputs": [],
      "execution_count": null
    },
    {
      "cell_type": "code",
      "source": [
        "kn.fit(X_train,y_train)"
      ],
      "metadata": {
        "trusted": true,
        "execution": {
          "iopub.status.busy": "2025-03-29T09:02:08.075005Z",
          "iopub.execute_input": "2025-03-29T09:02:08.075415Z",
          "iopub.status.idle": "2025-03-29T09:02:08.087093Z",
          "shell.execute_reply.started": "2025-03-29T09:02:08.075381Z",
          "shell.execute_reply": "2025-03-29T09:02:08.085926Z"
        },
        "id": "uFZ68e0gOAtm"
      },
      "outputs": [],
      "execution_count": null
    },
    {
      "cell_type": "code",
      "source": [
        "y_pred_kn = kn.predict(X_test)"
      ],
      "metadata": {
        "trusted": true,
        "execution": {
          "iopub.status.busy": "2025-03-29T09:02:27.031991Z",
          "iopub.execute_input": "2025-03-29T09:02:27.032418Z",
          "iopub.status.idle": "2025-03-29T09:02:27.06454Z",
          "shell.execute_reply.started": "2025-03-29T09:02:27.032384Z",
          "shell.execute_reply": "2025-03-29T09:02:27.063406Z"
        },
        "id": "dqZWSoazOAtn"
      },
      "outputs": [],
      "execution_count": null
    },
    {
      "cell_type": "code",
      "source": [
        "acc_kn = accuracy_score(y_pred_kn,y_test)\n",
        "print(f'acc_rfc:',acc_kn)"
      ],
      "metadata": {
        "trusted": true,
        "execution": {
          "iopub.status.busy": "2025-03-29T09:02:50.954Z",
          "iopub.execute_input": "2025-03-29T09:02:50.954694Z",
          "iopub.status.idle": "2025-03-29T09:02:50.963832Z",
          "shell.execute_reply.started": "2025-03-29T09:02:50.954646Z",
          "shell.execute_reply": "2025-03-29T09:02:50.962554Z"
        },
        "id": "xRKsTCLFOAtp"
      },
      "outputs": [],
      "execution_count": null
    },
    {
      "cell_type": "markdown",
      "source": [
        "# CONCLUSION\n",
        "**- NEED THE FINE-TUENING**\n",
        "\n",
        "****- RandomForestRegressor give the good *r2_score* but *MAE* need to more fine-tune.****"
      ],
      "metadata": {
        "id": "8A_aq78kOAtq"
      }
    }
  ]
}