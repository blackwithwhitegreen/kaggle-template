{
  "metadata": {
    "kernelspec": {
      "language": "python",
      "display_name": "Python 3",
      "name": "python3"
    },
    "language_info": {
      "name": "python",
      "version": "3.10.12",
      "mimetype": "text/x-python",
      "codemirror_mode": {
        "name": "ipython",
        "version": 3
      },
      "pygments_lexer": "ipython3",
      "nbconvert_exporter": "python",
      "file_extension": ".py"
    },
    "kaggle": {
      "accelerator": "none",
      "dataSources": [
        {
          "sourceId": 11157266,
          "sourceType": "datasetVersion",
          "datasetId": 6961460
        }
      ],
      "dockerImageVersionId": 30918,
      "isInternetEnabled": true,
      "language": "python",
      "sourceType": "notebook",
      "isGpuEnabled": false
    },
    "colab": {
      "name": "Seasonality Factors Analyzer",
      "provenance": [],
      "include_colab_link": true
    }
  },
  "nbformat_minor": 0,
  "nbformat": 4,
  "cells": [
    {
      "cell_type": "markdown",
      "metadata": {
        "id": "view-in-github",
        "colab_type": "text"
      },
      "source": [
        "<a href=\"https://colab.research.google.com/github/blackwithwhitegreen/kaggle-template/blob/main/Seasonality_Factors_Analyzer.ipynb\" target=\"_parent\"><img src=\"https://colab.research.google.com/assets/colab-badge.svg\" alt=\"Open In Colab\"/></a>"
      ]
    },
    {
      "source": [
        "# IMPORTANT: RUN THIS CELL IN ORDER TO IMPORT YOUR KAGGLE DATA SOURCES,\n",
        "# THEN FEEL FREE TO DELETE THIS CELL.\n",
        "# NOTE: THIS NOTEBOOK ENVIRONMENT DIFFERS FROM KAGGLE'S PYTHON\n",
        "# ENVIRONMENT SO THERE MAY BE MISSING LIBRARIES USED BY YOUR\n",
        "# NOTEBOOK.\n",
        "import kagglehub\n",
        "suvroo_inventory_optimization_for_retail_path = kagglehub.dataset_download('suvroo/inventory-optimization-for-retail')\n",
        "\n",
        "print('Data source import complete.')\n"
      ],
      "metadata": {
        "id": "mDcLm2K2igll"
      },
      "cell_type": "code",
      "outputs": [],
      "execution_count": null
    },
    {
      "cell_type": "code",
      "source": [
        "# This Python 3 environment comes with many helpful analytics libraries installed\n",
        "# It is defined by the kaggle/python Docker image: https://github.com/kaggle/docker-python\n",
        "# For example, here's several helpful packages to load\n",
        "\n",
        "import numpy as np # linear algebra\n",
        "import pandas as pd # data processing, CSV file I/O (e.g. pd.read_csv)\n",
        "import warnings\n",
        "warnings.filterwarnings('ignore')\n",
        "\n",
        "# Input data files are available in the read-only \"../input/\" directory\n",
        "# For example, running this (by clicking run or pressing Shift+Enter) will list all files under the input directory\n",
        "\n",
        "import os\n",
        "for dirname, _, filenames in os.walk('/kaggle/input'):\n",
        "    for filename in filenames:\n",
        "        print(os.path.join(dirname, filename))\n",
        "\n",
        "# You can write up to 20GB to the current directory (/kaggle/working/) that gets preserved as output when you create a version using \"Save & Run All\"\n",
        "# You can also write temporary files to /kaggle/temp/, but they won't be saved outside of the current session"
      ],
      "metadata": {
        "_uuid": "8f2839f25d086af736a60e9eeb907d3b93b6e0e5",
        "_cell_guid": "b1076dfc-b9ad-4769-8c92-a6c4dae69d19",
        "trusted": true,
        "execution": {
          "iopub.status.busy": "2025-03-31T13:42:37.768839Z",
          "iopub.execute_input": "2025-03-31T13:42:37.769244Z",
          "iopub.status.idle": "2025-03-31T13:42:37.79091Z",
          "shell.execute_reply.started": "2025-03-31T13:42:37.769211Z",
          "shell.execute_reply": "2025-03-31T13:42:37.789615Z"
        },
        "id": "KRN5PMUEiglm"
      },
      "outputs": [],
      "execution_count": null
    },
    {
      "cell_type": "code",
      "source": [
        "df1 = pd.read_csv('/kaggle/input/inventory-optimization-for-retail/demand_forecasting.csv').fillna(0)\n",
        "df1"
      ],
      "metadata": {
        "trusted": true,
        "execution": {
          "iopub.status.busy": "2025-03-31T13:42:37.810997Z",
          "iopub.execute_input": "2025-03-31T13:42:37.811482Z",
          "iopub.status.idle": "2025-03-31T13:42:37.856084Z",
          "shell.execute_reply.started": "2025-03-31T13:42:37.811444Z",
          "shell.execute_reply": "2025-03-31T13:42:37.854959Z"
        },
        "id": "nLfwVj0iigln"
      },
      "outputs": [],
      "execution_count": null
    },
    {
      "cell_type": "code",
      "source": [
        "df1.info()"
      ],
      "metadata": {
        "trusted": true,
        "execution": {
          "iopub.status.busy": "2025-03-31T13:42:37.857615Z",
          "iopub.execute_input": "2025-03-31T13:42:37.858006Z",
          "iopub.status.idle": "2025-03-31T13:42:37.873372Z",
          "shell.execute_reply.started": "2025-03-31T13:42:37.857959Z",
          "shell.execute_reply": "2025-03-31T13:42:37.872287Z"
        },
        "id": "mOqUPt1riglo"
      },
      "outputs": [],
      "execution_count": null
    },
    {
      "cell_type": "code",
      "source": [
        "df1.columns"
      ],
      "metadata": {
        "trusted": true,
        "execution": {
          "iopub.status.busy": "2025-03-31T13:59:59.796886Z",
          "iopub.execute_input": "2025-03-31T13:59:59.797247Z",
          "iopub.status.idle": "2025-03-31T13:59:59.803974Z",
          "shell.execute_reply.started": "2025-03-31T13:59:59.797217Z",
          "shell.execute_reply": "2025-03-31T13:59:59.802859Z"
        },
        "id": "mx3m7gXQiglo"
      },
      "outputs": [],
      "execution_count": null
    },
    {
      "cell_type": "code",
      "source": [
        "# COUNT PLOT FOR CATEGORICAL COLUMNS\n",
        "cate_cols =['Promotions', 'Seasonality Factors', 'External Factors', 'Demand Trend',\n",
        "       'Customer Segments']\n",
        "for features in cate_cols:\n",
        "    if features in df1.columns:\n",
        "        plt.figure(figsize=(10,5))\n",
        "        sns.countplot(x=features,data=df1,palette='viridis')\n",
        "        plt.title(f'Count plot of {features}')\n",
        "        plt.tight_layout()\n",
        "        plt.show()\n",
        "\n",
        "#PLOT HISTOGRAM FOR SEVERAL KEY NUM_FEATURE.\n",
        "num_feature = ['Promotions', 'Seasonality Factors', 'External Factors', 'Demand Trend',\n",
        "       'Customer Segments']\n",
        "\n",
        "for feature in num_feature:\n",
        "    if feature in df1.columns:\n",
        "        plt.figure(figsize=(10,5))\n",
        "        sns.histplot(df1[feature].dropna(),kde=True,color='purple')\n",
        "        plt.title(f'Histogram of {feature}')\n",
        "        plt.xlabel(feature)\n",
        "        plt.ylabel('Count')\n",
        "        plt.tight_layout()\n",
        "        plt.show()\n",
        "\n",
        "nume_df = df1.select_dtypes(include=[np.number])\n",
        "if nume_df.shape[1]>=4:\n",
        "    plt.figure(figsize=(10,5))\n",
        "    correlation_matrix = nume_df.corr()\n",
        "    sns.heatmap(correlation_matrix,annot=True,cmap='coolwarm',fmt='.2f')\n",
        "    plt.title('Correlation matrix of Numeric Features')\n",
        "    plt.tight_layout()\n",
        "    plt.show()\n",
        "\n",
        "# PAIR-PLOT AMONG A SUBSET OF VARIABLES\n",
        "selected_columns = ['Promotions', 'Seasonality Factors', 'External Factors', 'Demand Trend',\n",
        "       'Customer Segments']\n",
        "if set(selected_columns).issubset(df1.columns):\n",
        "    sns.pairplot(df1[selected_columns].dropna(),diag_kind='kde')\n",
        "    plt.show()"
      ],
      "metadata": {
        "trusted": true,
        "execution": {
          "iopub.status.busy": "2025-03-31T14:01:58.789677Z",
          "iopub.execute_input": "2025-03-31T14:01:58.790065Z",
          "iopub.status.idle": "2025-03-31T14:02:08.534553Z",
          "shell.execute_reply.started": "2025-03-31T14:01:58.790004Z",
          "shell.execute_reply": "2025-03-31T14:02:08.533506Z"
        },
        "id": "04dYZQR8iglq"
      },
      "outputs": [],
      "execution_count": null
    },
    {
      "cell_type": "markdown",
      "source": [
        "# DATA PREPROCESSING\n",
        "* Here just dividing the 0 equally in both the values same with the external feaurue column alos."
      ],
      "metadata": {
        "id": "ZnNQFcL2iglr"
      }
    },
    {
      "cell_type": "code",
      "source": [
        "# Count occurrences of each category\n",
        "total_val = df1['Seasonality Factors'].value_counts()\n",
        "\n",
        "# Get counts for Holiday, Festival, and Zero\n",
        "Holiday_count = total_val.get('Holiday', 0)\n",
        "Festival_count = total_val.get('Festival', 0)\n",
        "zero_count = total_val.get(0, 0)\n",
        "\n",
        "# If there are no 'Zero' values, no need to proceed further\n",
        "if zero_count > 0:\n",
        "\n",
        "    # Distribute Zero equally\n",
        "    zero_to_Holiday = zero_count // 2\n",
        "    zero_to_Festival = zero_count - zero_to_Holiday\n",
        "\n",
        "    # Get indices of rows where 'Seasonality Factors' is 'Zero'\n",
        "    zero_indices = df1[df1['Seasonality Factors'] == 0].index\n",
        "\n",
        "    # Update first half to 'Holiday' and second half to 'Festival'\n",
        "    df1.loc[zero_indices[:zero_to_Festival], 'Seasonality Factors'] = 'Holiday'\n",
        "    df1.loc[zero_indices[zero_to_Holiday:], 'Seasonality Factors'] = 'Festival'\n",
        "\n",
        "# Print updated value counts\n",
        "print(df1['Seasonality Factors'].value_counts())"
      ],
      "metadata": {
        "trusted": true,
        "execution": {
          "iopub.status.busy": "2025-03-31T13:42:37.876173Z",
          "iopub.execute_input": "2025-03-31T13:42:37.87648Z",
          "iopub.status.idle": "2025-03-31T13:42:37.901486Z",
          "shell.execute_reply.started": "2025-03-31T13:42:37.876452Z",
          "shell.execute_reply": "2025-03-31T13:42:37.900491Z"
        },
        "id": "RPlWiFHDigls"
      },
      "outputs": [],
      "execution_count": null
    },
    {
      "cell_type": "code",
      "source": [
        "df1.info()"
      ],
      "metadata": {
        "trusted": true,
        "execution": {
          "iopub.status.busy": "2025-03-31T13:42:37.906045Z",
          "iopub.execute_input": "2025-03-31T13:42:37.906366Z",
          "iopub.status.idle": "2025-03-31T13:42:37.928142Z",
          "shell.execute_reply.started": "2025-03-31T13:42:37.906336Z",
          "shell.execute_reply": "2025-03-31T13:42:37.927147Z"
        },
        "id": "-BXjUY1giglt"
      },
      "outputs": [],
      "execution_count": null
    },
    {
      "cell_type": "code",
      "source": [
        "df1['External Factors'].value_counts()"
      ],
      "metadata": {
        "trusted": true,
        "execution": {
          "iopub.status.busy": "2025-03-31T13:42:37.935579Z",
          "iopub.execute_input": "2025-03-31T13:42:37.935907Z",
          "iopub.status.idle": "2025-03-31T13:42:37.954216Z",
          "shell.execute_reply.started": "2025-03-31T13:42:37.935882Z",
          "shell.execute_reply": "2025-03-31T13:42:37.95315Z"
        },
        "id": "GWao40iIiglu"
      },
      "outputs": [],
      "execution_count": null
    },
    {
      "cell_type": "code",
      "source": [
        "# Count occurrences of each category\n",
        "total_val = df1['External Factors'].value_counts()\n",
        "\n",
        "# Get counts for Holiday, Festival, and Zero\n",
        "Weather_count = total_val.get('Weather', 0)\n",
        "Competitor_pricing_count = total_val.get('Competitor Pricing', 0)\n",
        "Economic_indicator_count = total_val.get('Economic Indicator',0)\n",
        "zero_count = total_val.get(0, 0)\n",
        "\n",
        "# If there are no 'Zero' values, no need to proceed further\n",
        "if zero_count > 0:\n",
        "\n",
        "    # Distribute Zero equally\n",
        "\n",
        "    zero_to_weather = zero_count // 3\n",
        "    zero_to_competitor  = zero_count // 3\n",
        "    zero_to_economic = zero_count - (zero_to_weather + zero_to_competitor)\n",
        "\n",
        "    # Get indices of rows where 'Seasonality Factors' is 'Zero'\n",
        "    zero_indices = df1[df1['External Factors'] == 0].index\n",
        "\n",
        "    # Update first half to 'Holiday' and second half to 'Festival'\n",
        "    df1.loc[zero_indices[:zero_to_weather], 'External Factors'] = 'Weather'\n",
        "\n",
        "    df1.loc[zero_indices[zero_to_weather : zero_to_weather + zero_to_competitor],'External Factors'] = 'Competitor Pricing'\n",
        "\n",
        "    df1.loc[zero_indices[zero_to_weather + zero_to_competitor:], 'External Factors'] = 'Economic Indicator'\n",
        "\n",
        "# Print updated value counts\n",
        "print(df1['External Factors'].value_counts())"
      ],
      "metadata": {
        "trusted": true,
        "execution": {
          "iopub.status.busy": "2025-03-31T13:42:37.969871Z",
          "iopub.execute_input": "2025-03-31T13:42:37.970256Z",
          "iopub.status.idle": "2025-03-31T13:42:37.986291Z",
          "shell.execute_reply.started": "2025-03-31T13:42:37.970227Z",
          "shell.execute_reply": "2025-03-31T13:42:37.985139Z"
        },
        "id": "lB7X_dabiglv"
      },
      "outputs": [],
      "execution_count": null
    },
    {
      "cell_type": "code",
      "source": [
        "df1.info()"
      ],
      "metadata": {
        "trusted": true,
        "execution": {
          "iopub.status.busy": "2025-03-31T13:42:37.99895Z",
          "iopub.execute_input": "2025-03-31T13:42:37.999354Z",
          "iopub.status.idle": "2025-03-31T13:42:38.014722Z",
          "shell.execute_reply.started": "2025-03-31T13:42:37.999321Z",
          "shell.execute_reply": "2025-03-31T13:42:38.013287Z"
        },
        "id": "EKjshCHriglw"
      },
      "outputs": [],
      "execution_count": null
    },
    {
      "cell_type": "code",
      "source": [
        "df1['Seasonality Factors']"
      ],
      "metadata": {
        "trusted": true,
        "execution": {
          "iopub.status.busy": "2025-03-31T13:42:38.025152Z",
          "iopub.execute_input": "2025-03-31T13:42:38.025484Z",
          "iopub.status.idle": "2025-03-31T13:42:38.035399Z",
          "shell.execute_reply.started": "2025-03-31T13:42:38.025457Z",
          "shell.execute_reply": "2025-03-31T13:42:38.03427Z"
        },
        "id": "VwnWY38ciglw"
      },
      "outputs": [],
      "execution_count": null
    },
    {
      "cell_type": "code",
      "source": [
        "df1 = df1.drop(columns=['Product ID', 'Date', 'Store ID', 'Sales Quantity', 'Price'])"
      ],
      "metadata": {
        "trusted": true,
        "execution": {
          "iopub.status.busy": "2025-03-31T13:46:06.707517Z",
          "iopub.execute_input": "2025-03-31T13:46:06.707889Z",
          "iopub.status.idle": "2025-03-31T13:46:06.71391Z",
          "shell.execute_reply.started": "2025-03-31T13:46:06.707861Z",
          "shell.execute_reply": "2025-03-31T13:46:06.712881Z"
        },
        "id": "pT4X3gSJiglx"
      },
      "outputs": [],
      "execution_count": null
    },
    {
      "cell_type": "code",
      "source": [
        "df1.info()"
      ],
      "metadata": {
        "trusted": true,
        "execution": {
          "iopub.status.busy": "2025-03-31T13:46:46.148461Z",
          "iopub.execute_input": "2025-03-31T13:46:46.148929Z",
          "iopub.status.idle": "2025-03-31T13:46:46.167598Z",
          "shell.execute_reply.started": "2025-03-31T13:46:46.148893Z",
          "shell.execute_reply": "2025-03-31T13:46:46.166431Z"
        },
        "id": "OGipS_V9iglx"
      },
      "outputs": [],
      "execution_count": null
    },
    {
      "cell_type": "code",
      "source": [
        "df1.columns"
      ],
      "metadata": {
        "trusted": true,
        "execution": {
          "iopub.status.busy": "2025-03-31T13:51:39.014829Z",
          "iopub.execute_input": "2025-03-31T13:51:39.015258Z",
          "iopub.status.idle": "2025-03-31T13:51:39.02148Z",
          "shell.execute_reply.started": "2025-03-31T13:51:39.015224Z",
          "shell.execute_reply": "2025-03-31T13:51:39.02047Z"
        },
        "id": "-Mk9mwc-iglx"
      },
      "outputs": [],
      "execution_count": null
    },
    {
      "cell_type": "code",
      "source": [
        "from sklearn.preprocessing import LabelEncoder"
      ],
      "metadata": {
        "trusted": true,
        "execution": {
          "iopub.status.busy": "2025-03-31T13:47:48.82114Z",
          "iopub.execute_input": "2025-03-31T13:47:48.821503Z",
          "iopub.status.idle": "2025-03-31T13:47:48.826043Z",
          "shell.execute_reply.started": "2025-03-31T13:47:48.821477Z",
          "shell.execute_reply": "2025-03-31T13:47:48.825041Z"
        },
        "id": "Qtoq4wk0igly"
      },
      "outputs": [],
      "execution_count": null
    },
    {
      "cell_type": "code",
      "source": [
        "le = LabelEncoder()"
      ],
      "metadata": {
        "trusted": true,
        "execution": {
          "iopub.status.busy": "2025-03-31T13:48:07.580794Z",
          "iopub.execute_input": "2025-03-31T13:48:07.581149Z",
          "iopub.status.idle": "2025-03-31T13:48:07.585514Z",
          "shell.execute_reply.started": "2025-03-31T13:48:07.581121Z",
          "shell.execute_reply": "2025-03-31T13:48:07.584376Z"
        },
        "id": "csr2OmBdigly"
      },
      "outputs": [],
      "execution_count": null
    },
    {
      "cell_type": "code",
      "source": [
        "le_cols = ['Promotions', 'Seasonality Factors', 'External Factors', 'Demand Trend',\n",
        "       'Customer Segments']\n",
        "for column in le_cols:\n",
        "    df1[column] = le.fit_transform(df1[column])"
      ],
      "metadata": {
        "trusted": true,
        "execution": {
          "iopub.status.busy": "2025-03-31T13:52:14.586798Z",
          "iopub.execute_input": "2025-03-31T13:52:14.587163Z",
          "iopub.status.idle": "2025-03-31T13:52:14.604884Z",
          "shell.execute_reply.started": "2025-03-31T13:52:14.587134Z",
          "shell.execute_reply": "2025-03-31T13:52:14.60367Z"
        },
        "id": "qVwt-ESUiglz"
      },
      "outputs": [],
      "execution_count": null
    },
    {
      "cell_type": "code",
      "source": [
        "df1.columns"
      ],
      "metadata": {
        "trusted": true,
        "execution": {
          "iopub.status.busy": "2025-03-31T13:46:07.962519Z",
          "iopub.execute_input": "2025-03-31T13:46:07.962882Z",
          "iopub.status.idle": "2025-03-31T13:46:07.969408Z",
          "shell.execute_reply.started": "2025-03-31T13:46:07.962854Z",
          "shell.execute_reply": "2025-03-31T13:46:07.96843Z"
        },
        "id": "GC_WtPJIiglz"
      },
      "outputs": [],
      "execution_count": null
    },
    {
      "cell_type": "markdown",
      "source": [
        "# MODEL SECTION"
      ],
      "metadata": {
        "id": "awYxlTJdiglz"
      }
    },
    {
      "cell_type": "code",
      "source": [
        "from sklearn.model_selection import train_test_split,GridSearchCV\n",
        "from sklearn.ensemble import RandomForestRegressor\n",
        "from sklearn.metrics import mean_squared_error,r2_score,accuracy_score,mean_absolute_error\n",
        "from sklearn.linear_model import LogisticRegression\n",
        "from sklearn.tree import DecisionTreeClassifier\n",
        "from sklearn.svm import SVC\n",
        "from sklearn.ensemble import GradientBoostingClassifier,RandomForestClassifier\n",
        "from sklearn.neighbors import KNeighborsClassifier"
      ],
      "metadata": {
        "trusted": true,
        "execution": {
          "iopub.status.busy": "2025-03-31T13:52:18.181072Z",
          "iopub.execute_input": "2025-03-31T13:52:18.181437Z",
          "iopub.status.idle": "2025-03-31T13:52:18.186511Z",
          "shell.execute_reply.started": "2025-03-31T13:52:18.181407Z",
          "shell.execute_reply": "2025-03-31T13:52:18.185418Z"
        },
        "id": "lWTbZeUxiglz"
      },
      "outputs": [],
      "execution_count": null
    },
    {
      "cell_type": "code",
      "source": [
        "X = df1.drop(columns=['Seasonality Factors'])\n",
        "y = df1['Seasonality Factors']"
      ],
      "metadata": {
        "trusted": true,
        "execution": {
          "iopub.status.busy": "2025-03-31T13:54:51.422876Z",
          "iopub.execute_input": "2025-03-31T13:54:51.423283Z",
          "iopub.status.idle": "2025-03-31T13:54:51.429325Z",
          "shell.execute_reply.started": "2025-03-31T13:54:51.423252Z",
          "shell.execute_reply": "2025-03-31T13:54:51.428367Z"
        },
        "id": "9mQ6vUo9igl0"
      },
      "outputs": [],
      "execution_count": null
    },
    {
      "cell_type": "code",
      "source": [
        "X_train,X_test,y_train,y_test = train_test_split(X,y,random_state=42,test_size=0.2)"
      ],
      "metadata": {
        "trusted": true,
        "execution": {
          "iopub.status.busy": "2025-03-31T13:54:51.986358Z",
          "iopub.execute_input": "2025-03-31T13:54:51.986736Z",
          "iopub.status.idle": "2025-03-31T13:54:51.995606Z",
          "shell.execute_reply.started": "2025-03-31T13:54:51.986704Z",
          "shell.execute_reply": "2025-03-31T13:54:51.994371Z"
        },
        "id": "BW51isGyigl0"
      },
      "outputs": [],
      "execution_count": null
    },
    {
      "cell_type": "code",
      "source": [
        "dtr = DecisionTreeRegressor()"
      ],
      "metadata": {
        "trusted": true,
        "execution": {
          "iopub.status.busy": "2025-03-31T13:54:52.58078Z",
          "iopub.execute_input": "2025-03-31T13:54:52.581164Z",
          "iopub.status.idle": "2025-03-31T13:54:52.585413Z",
          "shell.execute_reply.started": "2025-03-31T13:54:52.58113Z",
          "shell.execute_reply": "2025-03-31T13:54:52.584202Z"
        },
        "id": "FYZxiW9kigl1"
      },
      "outputs": [],
      "execution_count": null
    },
    {
      "cell_type": "code",
      "source": [
        "dtr.fit(X_train,y_train)"
      ],
      "metadata": {
        "trusted": true,
        "execution": {
          "iopub.status.busy": "2025-03-31T13:54:53.084755Z",
          "iopub.execute_input": "2025-03-31T13:54:53.08514Z",
          "iopub.status.idle": "2025-03-31T13:54:53.097215Z",
          "shell.execute_reply.started": "2025-03-31T13:54:53.085107Z",
          "shell.execute_reply": "2025-03-31T13:54:53.096129Z"
        },
        "id": "g-nWAo0aigl1"
      },
      "outputs": [],
      "execution_count": null
    },
    {
      "cell_type": "code",
      "source": [
        "y_pred_dtr = dtr.predict(X_test)"
      ],
      "metadata": {
        "trusted": true,
        "execution": {
          "iopub.status.busy": "2025-03-31T13:54:53.517909Z",
          "iopub.execute_input": "2025-03-31T13:54:53.518321Z",
          "iopub.status.idle": "2025-03-31T13:54:53.525003Z",
          "shell.execute_reply.started": "2025-03-31T13:54:53.518287Z",
          "shell.execute_reply": "2025-03-31T13:54:53.52391Z"
        },
        "id": "HXOAB_AWigl1"
      },
      "outputs": [],
      "execution_count": null
    },
    {
      "cell_type": "code",
      "source": [
        "mse = mean_squared_error(y_test,y_pred_dtr)\n",
        "r2score = r2_score(y_test,y_pred_dtr)\n",
        "mae = mean_absolute_error(y_test,y_pred_dtr)\n",
        "print(f'MSE:',mse)\n",
        "print(f'R2-Score:',r2score)\n",
        "print(f'MAE:',mae)"
      ],
      "metadata": {
        "trusted": true,
        "execution": {
          "iopub.status.busy": "2025-03-31T13:54:53.966927Z",
          "iopub.execute_input": "2025-03-31T13:54:53.967325Z",
          "iopub.status.idle": "2025-03-31T13:54:53.976368Z",
          "shell.execute_reply.started": "2025-03-31T13:54:53.967292Z",
          "shell.execute_reply": "2025-03-31T13:54:53.975342Z"
        },
        "id": "IiNGGYxJigl2"
      },
      "outputs": [],
      "execution_count": null
    },
    {
      "cell_type": "code",
      "source": [
        "# Define the parameter grid to tune the hyperparameters\n",
        "param_grid = {\n",
        "    'max_depth': [10, 20, 30,40,50,60, None],\n",
        "    'min_samples_split': [2, 5, 10,15,20,25,30],\n",
        "    'min_samples_leaf': [1, 2, 4,6,8,10,15,20]\n",
        "}\n",
        "dtree_reg = DecisionTreeClassifier(random_state=42) # Initialize a decision tree regressor\n",
        "grid_search = GridSearchCV(estimator=dtree_reg, param_grid=param_grid,\n",
        "                           cv=5, n_jobs=-1, verbose=5, scoring='r2')\n",
        "grid_search.fit(X_train, y_train)\n",
        "best_dtree_reg = grid_search.best_estimator_ # Get the best estimator from the grid search\n",
        "y_pred = best_dtree_reg.predict(X_test)\n",
        "mse = mean_squared_error(y_test, y_pred)\n",
        "mae = mean_absolute_error(y_test,y_pred)\n",
        "r2_scr = r2_score(y_test,y_pred)\n",
        "rmse = mse ** 0.5\n",
        "rmae = mae ** 0.5\n",
        "best_params = grid_search.best_params_\n",
        "print(f\"Best parameters: {best_params}\")\n",
        "print(f\"Test RMSE: {rmse}\")\n",
        "print(f\"Test RMAE:' {rmae}\")\n",
        "print(f\"Test R2 Score:{r2_scr}\")"
      ],
      "metadata": {
        "trusted": true,
        "execution": {
          "iopub.status.busy": "2025-03-31T13:54:54.403797Z",
          "iopub.execute_input": "2025-03-31T13:54:54.404181Z",
          "iopub.status.idle": "2025-03-31T13:55:00.298458Z",
          "shell.execute_reply.started": "2025-03-31T13:54:54.404151Z",
          "shell.execute_reply": "2025-03-31T13:55:00.297525Z"
        },
        "id": "uTZBGP18igl2"
      },
      "outputs": [],
      "execution_count": null
    },
    {
      "cell_type": "code",
      "source": [
        "from sklearn.svm import SVC"
      ],
      "metadata": {
        "trusted": true,
        "execution": {
          "iopub.status.busy": "2025-03-31T13:55:00.299809Z",
          "iopub.execute_input": "2025-03-31T13:55:00.300107Z",
          "iopub.status.idle": "2025-03-31T13:55:00.304384Z",
          "shell.execute_reply.started": "2025-03-31T13:55:00.300084Z",
          "shell.execute_reply": "2025-03-31T13:55:00.30313Z"
        },
        "id": "2OzrDHSFigl2"
      },
      "outputs": [],
      "execution_count": null
    },
    {
      "cell_type": "code",
      "source": [
        "sv = SVC()"
      ],
      "metadata": {
        "trusted": true,
        "execution": {
          "iopub.status.busy": "2025-03-31T13:55:00.305948Z",
          "iopub.execute_input": "2025-03-31T13:55:00.306259Z",
          "iopub.status.idle": "2025-03-31T13:55:00.324428Z",
          "shell.execute_reply.started": "2025-03-31T13:55:00.306232Z",
          "shell.execute_reply": "2025-03-31T13:55:00.323419Z"
        },
        "id": "Mr0cTaCvigl3"
      },
      "outputs": [],
      "execution_count": null
    },
    {
      "cell_type": "code",
      "source": [
        "sv.fit(X_train,y_train)"
      ],
      "metadata": {
        "trusted": true,
        "execution": {
          "iopub.status.busy": "2025-03-31T13:55:00.326062Z",
          "iopub.execute_input": "2025-03-31T13:55:00.326444Z",
          "iopub.status.idle": "2025-03-31T13:55:03.43908Z",
          "shell.execute_reply.started": "2025-03-31T13:55:00.326404Z",
          "shell.execute_reply": "2025-03-31T13:55:03.437546Z"
        },
        "id": "ja5ftgFfigl3"
      },
      "outputs": [],
      "execution_count": null
    },
    {
      "cell_type": "code",
      "source": [
        "y_pred_sv = sv.predict(X_test)"
      ],
      "metadata": {
        "trusted": true,
        "execution": {
          "iopub.status.busy": "2025-03-31T13:55:19.901994Z",
          "iopub.execute_input": "2025-03-31T13:55:19.902479Z",
          "iopub.status.idle": "2025-03-31T13:55:20.720704Z",
          "shell.execute_reply.started": "2025-03-31T13:55:19.902435Z",
          "shell.execute_reply": "2025-03-31T13:55:20.719737Z"
        },
        "id": "QJvZH8Q8igl3"
      },
      "outputs": [],
      "execution_count": null
    },
    {
      "cell_type": "code",
      "source": [
        "acc_sv = accuracy_score(y_pred_sv,y_test)\n",
        "print(f'acc_sv:',acc_sv*100)"
      ],
      "metadata": {
        "trusted": true,
        "execution": {
          "iopub.status.busy": "2025-03-31T13:55:20.722061Z",
          "iopub.execute_input": "2025-03-31T13:55:20.722437Z",
          "iopub.status.idle": "2025-03-31T13:55:20.730421Z",
          "shell.execute_reply.started": "2025-03-31T13:55:20.722401Z",
          "shell.execute_reply": "2025-03-31T13:55:20.729315Z"
        },
        "id": "POcKBq2ligl4"
      },
      "outputs": [],
      "execution_count": null
    },
    {
      "cell_type": "code",
      "source": [
        "from sklearn.ensemble import RandomForestRegressor\n",
        "from sklearn.ensemble import GradientBoostingClassifier,RandomForestClassifier\n",
        "from sklearn.neighbors import KNeighborsClassifier"
      ],
      "metadata": {
        "trusted": true,
        "execution": {
          "iopub.status.busy": "2025-03-31T13:55:20.967776Z",
          "iopub.execute_input": "2025-03-31T13:55:20.968138Z",
          "iopub.status.idle": "2025-03-31T13:55:20.972925Z",
          "shell.execute_reply.started": "2025-03-31T13:55:20.968109Z",
          "shell.execute_reply": "2025-03-31T13:55:20.971764Z"
        },
        "id": "5HbmU9buigl4"
      },
      "outputs": [],
      "execution_count": null
    },
    {
      "cell_type": "code",
      "source": [
        "rfr = RandomForestRegressor()"
      ],
      "metadata": {
        "trusted": true,
        "execution": {
          "iopub.status.busy": "2025-03-31T13:55:24.780801Z",
          "iopub.execute_input": "2025-03-31T13:55:24.781151Z",
          "iopub.status.idle": "2025-03-31T13:55:24.785532Z",
          "shell.execute_reply.started": "2025-03-31T13:55:24.781123Z",
          "shell.execute_reply": "2025-03-31T13:55:24.784214Z"
        },
        "id": "VAWCIqsuigl4"
      },
      "outputs": [],
      "execution_count": null
    },
    {
      "cell_type": "code",
      "source": [
        "rfr.fit(X_train,y_train)"
      ],
      "metadata": {
        "trusted": true,
        "execution": {
          "iopub.status.busy": "2025-03-31T13:55:25.284591Z",
          "iopub.execute_input": "2025-03-31T13:55:25.284907Z",
          "iopub.status.idle": "2025-03-31T13:55:25.577222Z",
          "shell.execute_reply.started": "2025-03-31T13:55:25.284882Z",
          "shell.execute_reply": "2025-03-31T13:55:25.576151Z"
        },
        "id": "fqQ_w-vtigl4"
      },
      "outputs": [],
      "execution_count": null
    },
    {
      "cell_type": "code",
      "source": [
        "y_pred_rfr = rfr.predict(X_test)"
      ],
      "metadata": {
        "trusted": true,
        "execution": {
          "iopub.status.busy": "2025-03-31T13:55:26.205618Z",
          "iopub.execute_input": "2025-03-31T13:55:26.205971Z",
          "iopub.status.idle": "2025-03-31T13:55:26.229911Z",
          "shell.execute_reply.started": "2025-03-31T13:55:26.205943Z",
          "shell.execute_reply": "2025-03-31T13:55:26.2287Z"
        },
        "id": "WDypdZqMigl5"
      },
      "outputs": [],
      "execution_count": null
    },
    {
      "cell_type": "code",
      "source": [
        "mse = mean_squared_error(y_test,y_pred_rfr)\n",
        "r2score = r2_score(y_test,y_pred_rfr)\n",
        "mae = mean_absolute_error(y_test,y_pred_rfr)\n",
        "print(f'MSE:',mse)\n",
        "print(f'R2-Score:',r2score)\n",
        "print(f'MAE:',mae)"
      ],
      "metadata": {
        "trusted": true,
        "execution": {
          "iopub.status.busy": "2025-03-31T13:55:26.57665Z",
          "iopub.execute_input": "2025-03-31T13:55:26.577003Z",
          "iopub.status.idle": "2025-03-31T13:55:26.586218Z",
          "shell.execute_reply.started": "2025-03-31T13:55:26.576969Z",
          "shell.execute_reply": "2025-03-31T13:55:26.585281Z"
        },
        "id": "rCz1ULZsigl5"
      },
      "outputs": [],
      "execution_count": null
    },
    {
      "cell_type": "code",
      "source": [
        "rfc = RandomForestClassifier()"
      ],
      "metadata": {
        "trusted": true,
        "execution": {
          "iopub.status.busy": "2025-03-31T13:55:26.753548Z",
          "iopub.execute_input": "2025-03-31T13:55:26.753878Z",
          "iopub.status.idle": "2025-03-31T13:55:26.758383Z",
          "shell.execute_reply.started": "2025-03-31T13:55:26.753852Z",
          "shell.execute_reply": "2025-03-31T13:55:26.75717Z"
        },
        "id": "jZLQt0uTigl5"
      },
      "outputs": [],
      "execution_count": null
    },
    {
      "cell_type": "code",
      "source": [
        "rfc.fit(X_train,y_train)"
      ],
      "metadata": {
        "trusted": true,
        "execution": {
          "iopub.status.busy": "2025-03-31T13:55:26.963787Z",
          "iopub.execute_input": "2025-03-31T13:55:26.964173Z",
          "iopub.status.idle": "2025-03-31T13:55:27.282607Z",
          "shell.execute_reply.started": "2025-03-31T13:55:26.96414Z",
          "shell.execute_reply": "2025-03-31T13:55:27.281652Z"
        },
        "id": "UOV4IvHXigl5"
      },
      "outputs": [],
      "execution_count": null
    },
    {
      "cell_type": "code",
      "source": [
        "y_pred_rfc = rfc.predict(X_test)"
      ],
      "metadata": {
        "trusted": true,
        "execution": {
          "iopub.status.busy": "2025-03-31T13:55:33.583943Z",
          "iopub.execute_input": "2025-03-31T13:55:33.584368Z",
          "iopub.status.idle": "2025-03-31T13:55:33.617871Z",
          "shell.execute_reply.started": "2025-03-31T13:55:33.584337Z",
          "shell.execute_reply": "2025-03-31T13:55:33.616788Z"
        },
        "id": "AB29WtP7igl6"
      },
      "outputs": [],
      "execution_count": null
    },
    {
      "cell_type": "code",
      "source": [
        "acc_rfc = accuracy_score(y_pred_sv,y_test)\n",
        "print(f'acc_rfc:',acc_rfc*100)"
      ],
      "metadata": {
        "trusted": true,
        "execution": {
          "iopub.status.busy": "2025-03-31T13:55:35.116712Z",
          "iopub.execute_input": "2025-03-31T13:55:35.117061Z",
          "iopub.status.idle": "2025-03-31T13:55:35.124163Z",
          "shell.execute_reply.started": "2025-03-31T13:55:35.117003Z",
          "shell.execute_reply": "2025-03-31T13:55:35.123135Z"
        },
        "id": "QHoNF3c0igl6"
      },
      "outputs": [],
      "execution_count": null
    },
    {
      "cell_type": "code",
      "source": [
        "gb = GradientBoostingClassifier()"
      ],
      "metadata": {
        "trusted": true,
        "execution": {
          "iopub.status.busy": "2025-03-31T13:55:35.648824Z",
          "iopub.execute_input": "2025-03-31T13:55:35.649215Z",
          "iopub.status.idle": "2025-03-31T13:55:35.653288Z",
          "shell.execute_reply.started": "2025-03-31T13:55:35.64918Z",
          "shell.execute_reply": "2025-03-31T13:55:35.65215Z"
        },
        "id": "fsTMH4pmigl6"
      },
      "outputs": [],
      "execution_count": null
    },
    {
      "cell_type": "code",
      "source": [
        "gb.fit(X_train,y_train)"
      ],
      "metadata": {
        "trusted": true,
        "execution": {
          "iopub.status.busy": "2025-03-31T13:55:36.949681Z",
          "iopub.execute_input": "2025-03-31T13:55:36.950063Z",
          "iopub.status.idle": "2025-03-31T13:55:37.275803Z",
          "shell.execute_reply.started": "2025-03-31T13:55:36.95Z",
          "shell.execute_reply": "2025-03-31T13:55:37.274738Z"
        },
        "id": "OKrifV6jigl6"
      },
      "outputs": [],
      "execution_count": null
    },
    {
      "cell_type": "code",
      "source": [
        "y_pred_gb = gb.predict(X_test)"
      ],
      "metadata": {
        "trusted": true,
        "execution": {
          "iopub.status.busy": "2025-03-31T13:55:37.292914Z",
          "iopub.execute_input": "2025-03-31T13:55:37.293274Z",
          "iopub.status.idle": "2025-03-31T13:55:37.306277Z",
          "shell.execute_reply.started": "2025-03-31T13:55:37.293246Z",
          "shell.execute_reply": "2025-03-31T13:55:37.305117Z"
        },
        "id": "C5adcxK3igl7"
      },
      "outputs": [],
      "execution_count": null
    },
    {
      "cell_type": "code",
      "source": [
        "acc_gb = accuracy_score(y_pred_sv,y_test)\n",
        "print(f'acc_rfc:',acc_gb*100)"
      ],
      "metadata": {
        "trusted": true,
        "execution": {
          "iopub.status.busy": "2025-03-31T13:55:38.421754Z",
          "iopub.execute_input": "2025-03-31T13:55:38.422124Z",
          "iopub.status.idle": "2025-03-31T13:55:38.429754Z",
          "shell.execute_reply.started": "2025-03-31T13:55:38.422093Z",
          "shell.execute_reply": "2025-03-31T13:55:38.428686Z"
        },
        "id": "L68NQd-Aigl7"
      },
      "outputs": [],
      "execution_count": null
    },
    {
      "cell_type": "code",
      "source": [
        "kn = KNeighborsClassifier()"
      ],
      "metadata": {
        "trusted": true,
        "execution": {
          "iopub.status.busy": "2025-03-31T13:55:38.767775Z",
          "iopub.execute_input": "2025-03-31T13:55:38.768174Z",
          "iopub.status.idle": "2025-03-31T13:55:38.772504Z",
          "shell.execute_reply.started": "2025-03-31T13:55:38.768141Z",
          "shell.execute_reply": "2025-03-31T13:55:38.771478Z"
        },
        "id": "ejjyJspNigl7"
      },
      "outputs": [],
      "execution_count": null
    },
    {
      "cell_type": "code",
      "source": [
        "kn.fit(X_train,y_train)"
      ],
      "metadata": {
        "trusted": true,
        "execution": {
          "iopub.status.busy": "2025-03-31T13:55:40.019129Z",
          "iopub.execute_input": "2025-03-31T13:55:40.019475Z",
          "iopub.status.idle": "2025-03-31T13:55:40.034711Z",
          "shell.execute_reply.started": "2025-03-31T13:55:40.019446Z",
          "shell.execute_reply": "2025-03-31T13:55:40.033573Z"
        },
        "id": "OjTWl8xIigl8"
      },
      "outputs": [],
      "execution_count": null
    },
    {
      "cell_type": "code",
      "source": [
        "y_pred_knn = kn.predict(X_test)"
      ],
      "metadata": {
        "trusted": true,
        "execution": {
          "iopub.status.busy": "2025-03-31T13:55:40.299822Z",
          "iopub.execute_input": "2025-03-31T13:55:40.300237Z",
          "iopub.status.idle": "2025-03-31T13:55:40.418628Z",
          "shell.execute_reply.started": "2025-03-31T13:55:40.300201Z",
          "shell.execute_reply": "2025-03-31T13:55:40.417468Z"
        },
        "id": "iTO-ziPjigl8"
      },
      "outputs": [],
      "execution_count": null
    },
    {
      "cell_type": "code",
      "source": [
        "acc_kn = accuracy_score(y_pred_knn,y_test)\n",
        "print(f'acc_rfc:',acc_kn*100)"
      ],
      "metadata": {
        "trusted": true,
        "execution": {
          "iopub.status.busy": "2025-03-31T13:55:41.692018Z",
          "iopub.execute_input": "2025-03-31T13:55:41.692388Z",
          "iopub.status.idle": "2025-03-31T13:55:41.699987Z",
          "shell.execute_reply.started": "2025-03-31T13:55:41.692359Z",
          "shell.execute_reply": "2025-03-31T13:55:41.698958Z"
        },
        "id": "RFNm1i8figl9"
      },
      "outputs": [],
      "execution_count": null
    },
    {
      "cell_type": "markdown",
      "source": [
        "# CONCLUSION :\n",
        "> Need to imporve the Accuracy socre, and r2 score."
      ],
      "metadata": {
        "id": "20IvlJmDigl9"
      }
    }
  ]
}