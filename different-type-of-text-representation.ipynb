{
 "cells": [
  {
   "cell_type": "code",
   "execution_count": 1,
   "id": "b8399843",
   "metadata": {
    "_cell_guid": "b1076dfc-b9ad-4769-8c92-a6c4dae69d19",
    "_uuid": "8f2839f25d086af736a60e9eeb907d3b93b6e0e5",
    "execution": {
     "iopub.execute_input": "2025-04-21T06:47:23.072238Z",
     "iopub.status.busy": "2025-04-21T06:47:23.071553Z",
     "iopub.status.idle": "2025-04-21T06:47:24.899574Z",
     "shell.execute_reply": "2025-04-21T06:47:24.898513Z"
    },
    "papermill": {
     "duration": 1.836822,
     "end_time": "2025-04-21T06:47:24.901247",
     "exception": false,
     "start_time": "2025-04-21T06:47:23.064425",
     "status": "completed"
    },
    "tags": []
   },
   "outputs": [
    {
     "name": "stdout",
     "output_type": "stream",
     "text": [
      "/kaggle/input/twitter-entity-sentiment-analysis/twitter_validation.csv\n",
      "/kaggle/input/twitter-entity-sentiment-analysis/twitter_training.csv\n"
     ]
    }
   ],
   "source": [
    "# This Python 3 environment comes with many helpful analytics libraries installed\n",
    "# It is defined by the kaggle/python Docker image: https://github.com/kaggle/docker-python\n",
    "# For example, here's several helpful packages to load\n",
    "\n",
    "import numpy as np # linear algebra\n",
    "import pandas as pd # data processing, CSV file I/O (e.g. pd.read_csv)\n",
    "import warnings\n",
    "warnings.filterwarnings('ignore')\n",
    "\n",
    "# Input data files are available in the read-only \"../input/\" directory\n",
    "# For example, running this (by clicking run or pressing Shift+Enter) will list all files under the input directory\n",
    "\n",
    "import os\n",
    "for dirname, _, filenames in os.walk('/kaggle/input'):\n",
    "    for filename in filenames:\n",
    "        print(os.path.join(dirname, filename))\n",
    "\n",
    "# You can write up to 20GB to the current directory (/kaggle/working/) that gets preserved as output when you create a version using \"Save & Run All\" \n",
    "# You can also write temporary files to /kaggle/temp/, but they won't be saved outside of the current session"
   ]
  },
  {
   "cell_type": "markdown",
   "id": "b886abea",
   "metadata": {
    "papermill": {
     "duration": 0.004476,
     "end_time": "2025-04-21T06:47:24.910780",
     "exception": false,
     "start_time": "2025-04-21T06:47:24.906304",
     "status": "completed"
    },
    "tags": []
   },
   "source": [
    "# Data loading and preprocessing"
   ]
  },
  {
   "cell_type": "code",
   "execution_count": 2,
   "id": "cf8d0d16",
   "metadata": {
    "execution": {
     "iopub.execute_input": "2025-04-21T06:47:24.921486Z",
     "iopub.status.busy": "2025-04-21T06:47:24.920793Z",
     "iopub.status.idle": "2025-04-21T06:47:25.320490Z",
     "shell.execute_reply": "2025-04-21T06:47:25.319709Z"
    },
    "papermill": {
     "duration": 0.406752,
     "end_time": "2025-04-21T06:47:25.322085",
     "exception": false,
     "start_time": "2025-04-21T06:47:24.915333",
     "status": "completed"
    },
    "tags": []
   },
   "outputs": [],
   "source": [
    "df_train= pd.read_csv(\"/kaggle/input/twitter-entity-sentiment-analysis/twitter_training.csv\")"
   ]
  },
  {
   "cell_type": "code",
   "execution_count": 3,
   "id": "06566def",
   "metadata": {
    "execution": {
     "iopub.execute_input": "2025-04-21T06:47:25.333275Z",
     "iopub.status.busy": "2025-04-21T06:47:25.332675Z",
     "iopub.status.idle": "2025-04-21T06:47:25.360135Z",
     "shell.execute_reply": "2025-04-21T06:47:25.359321Z"
    },
    "papermill": {
     "duration": 0.034808,
     "end_time": "2025-04-21T06:47:25.361617",
     "exception": false,
     "start_time": "2025-04-21T06:47:25.326809",
     "status": "completed"
    },
    "tags": []
   },
   "outputs": [
    {
     "data": {
      "text/html": [
       "<div>\n",
       "<style scoped>\n",
       "    .dataframe tbody tr th:only-of-type {\n",
       "        vertical-align: middle;\n",
       "    }\n",
       "\n",
       "    .dataframe tbody tr th {\n",
       "        vertical-align: top;\n",
       "    }\n",
       "\n",
       "    .dataframe thead th {\n",
       "        text-align: right;\n",
       "    }\n",
       "</style>\n",
       "<table border=\"1\" class=\"dataframe\">\n",
       "  <thead>\n",
       "    <tr style=\"text-align: right;\">\n",
       "      <th></th>\n",
       "      <th>2401</th>\n",
       "      <th>Borderlands</th>\n",
       "      <th>Positive</th>\n",
       "      <th>im getting on borderlands and i will murder you all ,</th>\n",
       "    </tr>\n",
       "  </thead>\n",
       "  <tbody>\n",
       "    <tr>\n",
       "      <th>0</th>\n",
       "      <td>2401</td>\n",
       "      <td>Borderlands</td>\n",
       "      <td>Positive</td>\n",
       "      <td>I am coming to the borders and I will kill you...</td>\n",
       "    </tr>\n",
       "    <tr>\n",
       "      <th>1</th>\n",
       "      <td>2401</td>\n",
       "      <td>Borderlands</td>\n",
       "      <td>Positive</td>\n",
       "      <td>im getting on borderlands and i will kill you ...</td>\n",
       "    </tr>\n",
       "    <tr>\n",
       "      <th>2</th>\n",
       "      <td>2401</td>\n",
       "      <td>Borderlands</td>\n",
       "      <td>Positive</td>\n",
       "      <td>im coming on borderlands and i will murder you...</td>\n",
       "    </tr>\n",
       "    <tr>\n",
       "      <th>3</th>\n",
       "      <td>2401</td>\n",
       "      <td>Borderlands</td>\n",
       "      <td>Positive</td>\n",
       "      <td>im getting on borderlands 2 and i will murder ...</td>\n",
       "    </tr>\n",
       "    <tr>\n",
       "      <th>4</th>\n",
       "      <td>2401</td>\n",
       "      <td>Borderlands</td>\n",
       "      <td>Positive</td>\n",
       "      <td>im getting into borderlands and i can murder y...</td>\n",
       "    </tr>\n",
       "    <tr>\n",
       "      <th>...</th>\n",
       "      <td>...</td>\n",
       "      <td>...</td>\n",
       "      <td>...</td>\n",
       "      <td>...</td>\n",
       "    </tr>\n",
       "    <tr>\n",
       "      <th>74676</th>\n",
       "      <td>9200</td>\n",
       "      <td>Nvidia</td>\n",
       "      <td>Positive</td>\n",
       "      <td>Just realized that the Windows partition of my...</td>\n",
       "    </tr>\n",
       "    <tr>\n",
       "      <th>74677</th>\n",
       "      <td>9200</td>\n",
       "      <td>Nvidia</td>\n",
       "      <td>Positive</td>\n",
       "      <td>Just realized that my Mac window partition is ...</td>\n",
       "    </tr>\n",
       "    <tr>\n",
       "      <th>74678</th>\n",
       "      <td>9200</td>\n",
       "      <td>Nvidia</td>\n",
       "      <td>Positive</td>\n",
       "      <td>Just realized the windows partition of my Mac ...</td>\n",
       "    </tr>\n",
       "    <tr>\n",
       "      <th>74679</th>\n",
       "      <td>9200</td>\n",
       "      <td>Nvidia</td>\n",
       "      <td>Positive</td>\n",
       "      <td>Just realized between the windows partition of...</td>\n",
       "    </tr>\n",
       "    <tr>\n",
       "      <th>74680</th>\n",
       "      <td>9200</td>\n",
       "      <td>Nvidia</td>\n",
       "      <td>Positive</td>\n",
       "      <td>Just like the windows partition of my Mac is l...</td>\n",
       "    </tr>\n",
       "  </tbody>\n",
       "</table>\n",
       "<p>74681 rows × 4 columns</p>\n",
       "</div>"
      ],
      "text/plain": [
       "       2401  Borderlands  Positive  \\\n",
       "0      2401  Borderlands  Positive   \n",
       "1      2401  Borderlands  Positive   \n",
       "2      2401  Borderlands  Positive   \n",
       "3      2401  Borderlands  Positive   \n",
       "4      2401  Borderlands  Positive   \n",
       "...     ...          ...       ...   \n",
       "74676  9200       Nvidia  Positive   \n",
       "74677  9200       Nvidia  Positive   \n",
       "74678  9200       Nvidia  Positive   \n",
       "74679  9200       Nvidia  Positive   \n",
       "74680  9200       Nvidia  Positive   \n",
       "\n",
       "      im getting on borderlands and i will murder you all ,  \n",
       "0      I am coming to the borders and I will kill you...     \n",
       "1      im getting on borderlands and i will kill you ...     \n",
       "2      im coming on borderlands and i will murder you...     \n",
       "3      im getting on borderlands 2 and i will murder ...     \n",
       "4      im getting into borderlands and i can murder y...     \n",
       "...                                                  ...     \n",
       "74676  Just realized that the Windows partition of my...     \n",
       "74677  Just realized that my Mac window partition is ...     \n",
       "74678  Just realized the windows partition of my Mac ...     \n",
       "74679  Just realized between the windows partition of...     \n",
       "74680  Just like the windows partition of my Mac is l...     \n",
       "\n",
       "[74681 rows x 4 columns]"
      ]
     },
     "execution_count": 3,
     "metadata": {},
     "output_type": "execute_result"
    }
   ],
   "source": [
    "df_train"
   ]
  },
  {
   "cell_type": "markdown",
   "id": "93f3fa5a",
   "metadata": {
    "papermill": {
     "duration": 0.004693,
     "end_time": "2025-04-21T06:47:25.371387",
     "exception": false,
     "start_time": "2025-04-21T06:47:25.366694",
     "status": "completed"
    },
    "tags": []
   },
   "source": [
    "**- Changeing columns name and shifting data in Zeroth row.**"
   ]
  },
  {
   "cell_type": "code",
   "execution_count": 4,
   "id": "a0415cd4",
   "metadata": {
    "execution": {
     "iopub.execute_input": "2025-04-21T06:47:25.382651Z",
     "iopub.status.busy": "2025-04-21T06:47:25.381862Z",
     "iopub.status.idle": "2025-04-21T06:47:25.411693Z",
     "shell.execute_reply": "2025-04-21T06:47:25.411035Z"
    },
    "papermill": {
     "duration": 0.037043,
     "end_time": "2025-04-21T06:47:25.413224",
     "exception": false,
     "start_time": "2025-04-21T06:47:25.376181",
     "status": "completed"
    },
    "tags": []
   },
   "outputs": [],
   "source": [
    "current_col = df_train.columns.tolist()\n",
    "\n",
    "df_train.loc[-1] = current_col\n",
    "df_train.index = df_train.index+1\n",
    "df_train = df_train.sort_index()\n",
    "\n",
    "df_train.columns = ['tweet_id','entity','sentiment','text']\n",
    "\n",
    "df_train.reset_index(drop=True,inplace=True)\n"
   ]
  },
  {
   "cell_type": "code",
   "execution_count": 5,
   "id": "5099bd43",
   "metadata": {
    "execution": {
     "iopub.execute_input": "2025-04-21T06:47:25.424422Z",
     "iopub.status.busy": "2025-04-21T06:47:25.423852Z",
     "iopub.status.idle": "2025-04-21T06:47:25.434469Z",
     "shell.execute_reply": "2025-04-21T06:47:25.433477Z"
    },
    "papermill": {
     "duration": 0.017592,
     "end_time": "2025-04-21T06:47:25.435758",
     "exception": false,
     "start_time": "2025-04-21T06:47:25.418166",
     "status": "completed"
    },
    "tags": []
   },
   "outputs": [
    {
     "data": {
      "text/html": [
       "<div>\n",
       "<style scoped>\n",
       "    .dataframe tbody tr th:only-of-type {\n",
       "        vertical-align: middle;\n",
       "    }\n",
       "\n",
       "    .dataframe tbody tr th {\n",
       "        vertical-align: top;\n",
       "    }\n",
       "\n",
       "    .dataframe thead th {\n",
       "        text-align: right;\n",
       "    }\n",
       "</style>\n",
       "<table border=\"1\" class=\"dataframe\">\n",
       "  <thead>\n",
       "    <tr style=\"text-align: right;\">\n",
       "      <th></th>\n",
       "      <th>tweet_id</th>\n",
       "      <th>entity</th>\n",
       "      <th>sentiment</th>\n",
       "      <th>text</th>\n",
       "    </tr>\n",
       "  </thead>\n",
       "  <tbody>\n",
       "    <tr>\n",
       "      <th>0</th>\n",
       "      <td>2401</td>\n",
       "      <td>Borderlands</td>\n",
       "      <td>Positive</td>\n",
       "      <td>im getting on borderlands and i will murder yo...</td>\n",
       "    </tr>\n",
       "    <tr>\n",
       "      <th>1</th>\n",
       "      <td>2401</td>\n",
       "      <td>Borderlands</td>\n",
       "      <td>Positive</td>\n",
       "      <td>I am coming to the borders and I will kill you...</td>\n",
       "    </tr>\n",
       "    <tr>\n",
       "      <th>2</th>\n",
       "      <td>2401</td>\n",
       "      <td>Borderlands</td>\n",
       "      <td>Positive</td>\n",
       "      <td>im getting on borderlands and i will kill you ...</td>\n",
       "    </tr>\n",
       "    <tr>\n",
       "      <th>3</th>\n",
       "      <td>2401</td>\n",
       "      <td>Borderlands</td>\n",
       "      <td>Positive</td>\n",
       "      <td>im coming on borderlands and i will murder you...</td>\n",
       "    </tr>\n",
       "    <tr>\n",
       "      <th>4</th>\n",
       "      <td>2401</td>\n",
       "      <td>Borderlands</td>\n",
       "      <td>Positive</td>\n",
       "      <td>im getting on borderlands 2 and i will murder ...</td>\n",
       "    </tr>\n",
       "    <tr>\n",
       "      <th>...</th>\n",
       "      <td>...</td>\n",
       "      <td>...</td>\n",
       "      <td>...</td>\n",
       "      <td>...</td>\n",
       "    </tr>\n",
       "    <tr>\n",
       "      <th>74677</th>\n",
       "      <td>9200</td>\n",
       "      <td>Nvidia</td>\n",
       "      <td>Positive</td>\n",
       "      <td>Just realized that the Windows partition of my...</td>\n",
       "    </tr>\n",
       "    <tr>\n",
       "      <th>74678</th>\n",
       "      <td>9200</td>\n",
       "      <td>Nvidia</td>\n",
       "      <td>Positive</td>\n",
       "      <td>Just realized that my Mac window partition is ...</td>\n",
       "    </tr>\n",
       "    <tr>\n",
       "      <th>74679</th>\n",
       "      <td>9200</td>\n",
       "      <td>Nvidia</td>\n",
       "      <td>Positive</td>\n",
       "      <td>Just realized the windows partition of my Mac ...</td>\n",
       "    </tr>\n",
       "    <tr>\n",
       "      <th>74680</th>\n",
       "      <td>9200</td>\n",
       "      <td>Nvidia</td>\n",
       "      <td>Positive</td>\n",
       "      <td>Just realized between the windows partition of...</td>\n",
       "    </tr>\n",
       "    <tr>\n",
       "      <th>74681</th>\n",
       "      <td>9200</td>\n",
       "      <td>Nvidia</td>\n",
       "      <td>Positive</td>\n",
       "      <td>Just like the windows partition of my Mac is l...</td>\n",
       "    </tr>\n",
       "  </tbody>\n",
       "</table>\n",
       "<p>74682 rows × 4 columns</p>\n",
       "</div>"
      ],
      "text/plain": [
       "      tweet_id       entity sentiment  \\\n",
       "0         2401  Borderlands  Positive   \n",
       "1         2401  Borderlands  Positive   \n",
       "2         2401  Borderlands  Positive   \n",
       "3         2401  Borderlands  Positive   \n",
       "4         2401  Borderlands  Positive   \n",
       "...        ...          ...       ...   \n",
       "74677     9200       Nvidia  Positive   \n",
       "74678     9200       Nvidia  Positive   \n",
       "74679     9200       Nvidia  Positive   \n",
       "74680     9200       Nvidia  Positive   \n",
       "74681     9200       Nvidia  Positive   \n",
       "\n",
       "                                                    text  \n",
       "0      im getting on borderlands and i will murder yo...  \n",
       "1      I am coming to the borders and I will kill you...  \n",
       "2      im getting on borderlands and i will kill you ...  \n",
       "3      im coming on borderlands and i will murder you...  \n",
       "4      im getting on borderlands 2 and i will murder ...  \n",
       "...                                                  ...  \n",
       "74677  Just realized that the Windows partition of my...  \n",
       "74678  Just realized that my Mac window partition is ...  \n",
       "74679  Just realized the windows partition of my Mac ...  \n",
       "74680  Just realized between the windows partition of...  \n",
       "74681  Just like the windows partition of my Mac is l...  \n",
       "\n",
       "[74682 rows x 4 columns]"
      ]
     },
     "execution_count": 5,
     "metadata": {},
     "output_type": "execute_result"
    }
   ],
   "source": [
    "df_train"
   ]
  },
  {
   "cell_type": "code",
   "execution_count": 6,
   "id": "4b7b596f",
   "metadata": {
    "execution": {
     "iopub.execute_input": "2025-04-21T06:47:25.447827Z",
     "iopub.status.busy": "2025-04-21T06:47:25.447078Z",
     "iopub.status.idle": "2025-04-21T06:47:25.470943Z",
     "shell.execute_reply": "2025-04-21T06:47:25.470141Z"
    },
    "papermill": {
     "duration": 0.031299,
     "end_time": "2025-04-21T06:47:25.472368",
     "exception": false,
     "start_time": "2025-04-21T06:47:25.441069",
     "status": "completed"
    },
    "tags": []
   },
   "outputs": [
    {
     "data": {
      "text/html": [
       "<div>\n",
       "<style scoped>\n",
       "    .dataframe tbody tr th:only-of-type {\n",
       "        vertical-align: middle;\n",
       "    }\n",
       "\n",
       "    .dataframe tbody tr th {\n",
       "        vertical-align: top;\n",
       "    }\n",
       "\n",
       "    .dataframe thead th {\n",
       "        text-align: right;\n",
       "    }\n",
       "</style>\n",
       "<table border=\"1\" class=\"dataframe\">\n",
       "  <thead>\n",
       "    <tr style=\"text-align: right;\">\n",
       "      <th></th>\n",
       "      <th>3364</th>\n",
       "      <th>Facebook</th>\n",
       "      <th>Irrelevant</th>\n",
       "      <th>I mentioned on Facebook that I was struggling for motivation to go for a run the other day, which has been translated by Tom’s great auntie as ‘Hayley can’t get out of bed’ and told to his grandma, who now thinks I’m a lazy, terrible person 🤣</th>\n",
       "    </tr>\n",
       "  </thead>\n",
       "  <tbody>\n",
       "    <tr>\n",
       "      <th>0</th>\n",
       "      <td>352</td>\n",
       "      <td>Amazon</td>\n",
       "      <td>Neutral</td>\n",
       "      <td>BBC News - Amazon boss Jeff Bezos rejects clai...</td>\n",
       "    </tr>\n",
       "    <tr>\n",
       "      <th>1</th>\n",
       "      <td>8312</td>\n",
       "      <td>Microsoft</td>\n",
       "      <td>Negative</td>\n",
       "      <td>@Microsoft Why do I pay for WORD when it funct...</td>\n",
       "    </tr>\n",
       "    <tr>\n",
       "      <th>2</th>\n",
       "      <td>4371</td>\n",
       "      <td>CS-GO</td>\n",
       "      <td>Negative</td>\n",
       "      <td>CSGO matchmaking is so full of closet hacking,...</td>\n",
       "    </tr>\n",
       "    <tr>\n",
       "      <th>3</th>\n",
       "      <td>4433</td>\n",
       "      <td>Google</td>\n",
       "      <td>Neutral</td>\n",
       "      <td>Now the President is slapping Americans in the...</td>\n",
       "    </tr>\n",
       "    <tr>\n",
       "      <th>4</th>\n",
       "      <td>6273</td>\n",
       "      <td>FIFA</td>\n",
       "      <td>Negative</td>\n",
       "      <td>Hi @EAHelp I’ve had Madeleine McCann in my cel...</td>\n",
       "    </tr>\n",
       "    <tr>\n",
       "      <th>...</th>\n",
       "      <td>...</td>\n",
       "      <td>...</td>\n",
       "      <td>...</td>\n",
       "      <td>...</td>\n",
       "    </tr>\n",
       "    <tr>\n",
       "      <th>994</th>\n",
       "      <td>4891</td>\n",
       "      <td>GrandTheftAuto(GTA)</td>\n",
       "      <td>Irrelevant</td>\n",
       "      <td>⭐️ Toronto is the arts and culture capital of ...</td>\n",
       "    </tr>\n",
       "    <tr>\n",
       "      <th>995</th>\n",
       "      <td>4359</td>\n",
       "      <td>CS-GO</td>\n",
       "      <td>Irrelevant</td>\n",
       "      <td>tHIS IS ACTUALLY A GOOD MOVE TOT BRING MORE VI...</td>\n",
       "    </tr>\n",
       "    <tr>\n",
       "      <th>996</th>\n",
       "      <td>2652</td>\n",
       "      <td>Borderlands</td>\n",
       "      <td>Positive</td>\n",
       "      <td>Today sucked so it’s time to drink wine n play...</td>\n",
       "    </tr>\n",
       "    <tr>\n",
       "      <th>997</th>\n",
       "      <td>8069</td>\n",
       "      <td>Microsoft</td>\n",
       "      <td>Positive</td>\n",
       "      <td>Bought a fraction of Microsoft today. Small wins.</td>\n",
       "    </tr>\n",
       "    <tr>\n",
       "      <th>998</th>\n",
       "      <td>6960</td>\n",
       "      <td>johnson&amp;johnson</td>\n",
       "      <td>Neutral</td>\n",
       "      <td>Johnson &amp; Johnson to stop selling talc baby po...</td>\n",
       "    </tr>\n",
       "  </tbody>\n",
       "</table>\n",
       "<p>999 rows × 4 columns</p>\n",
       "</div>"
      ],
      "text/plain": [
       "     3364             Facebook  Irrelevant  \\\n",
       "0     352               Amazon     Neutral   \n",
       "1    8312            Microsoft    Negative   \n",
       "2    4371                CS-GO    Negative   \n",
       "3    4433               Google     Neutral   \n",
       "4    6273                 FIFA    Negative   \n",
       "..    ...                  ...         ...   \n",
       "994  4891  GrandTheftAuto(GTA)  Irrelevant   \n",
       "995  4359                CS-GO  Irrelevant   \n",
       "996  2652          Borderlands    Positive   \n",
       "997  8069            Microsoft    Positive   \n",
       "998  6960      johnson&johnson     Neutral   \n",
       "\n",
       "    I mentioned on Facebook that I was struggling for motivation to go for a run the other day, which has been translated by Tom’s great auntie as ‘Hayley can’t get out of bed’ and told to his grandma, who now thinks I’m a lazy, terrible person 🤣  \n",
       "0    BBC News - Amazon boss Jeff Bezos rejects clai...                                                                                                                                                                                                  \n",
       "1    @Microsoft Why do I pay for WORD when it funct...                                                                                                                                                                                                  \n",
       "2    CSGO matchmaking is so full of closet hacking,...                                                                                                                                                                                                  \n",
       "3    Now the President is slapping Americans in the...                                                                                                                                                                                                  \n",
       "4    Hi @EAHelp I’ve had Madeleine McCann in my cel...                                                                                                                                                                                                  \n",
       "..                                                 ...                                                                                                                                                                                                  \n",
       "994  ⭐️ Toronto is the arts and culture capital of ...                                                                                                                                                                                                  \n",
       "995  tHIS IS ACTUALLY A GOOD MOVE TOT BRING MORE VI...                                                                                                                                                                                                  \n",
       "996  Today sucked so it’s time to drink wine n play...                                                                                                                                                                                                  \n",
       "997  Bought a fraction of Microsoft today. Small wins.                                                                                                                                                                                                  \n",
       "998  Johnson & Johnson to stop selling talc baby po...                                                                                                                                                                                                  \n",
       "\n",
       "[999 rows x 4 columns]"
      ]
     },
     "execution_count": 6,
     "metadata": {},
     "output_type": "execute_result"
    }
   ],
   "source": [
    "df_val = pd.read_csv('/kaggle/input/twitter-entity-sentiment-analysis/twitter_validation.csv')\n",
    "df_val"
   ]
  },
  {
   "cell_type": "code",
   "execution_count": 7,
   "id": "822cfacf",
   "metadata": {
    "execution": {
     "iopub.execute_input": "2025-04-21T06:47:25.485347Z",
     "iopub.status.busy": "2025-04-21T06:47:25.484600Z",
     "iopub.status.idle": "2025-04-21T06:47:25.523194Z",
     "shell.execute_reply": "2025-04-21T06:47:25.522210Z"
    },
    "papermill": {
     "duration": 0.047037,
     "end_time": "2025-04-21T06:47:25.525008",
     "exception": false,
     "start_time": "2025-04-21T06:47:25.477971",
     "status": "completed"
    },
    "tags": []
   },
   "outputs": [
    {
     "name": "stdout",
     "output_type": "stream",
     "text": [
      "<class 'pandas.core.frame.DataFrame'>\n",
      "RangeIndex: 74682 entries, 0 to 74681\n",
      "Data columns (total 4 columns):\n",
      " #   Column     Non-Null Count  Dtype \n",
      "---  ------     --------------  ----- \n",
      " 0   tweet_id   74682 non-null  object\n",
      " 1   entity     74682 non-null  object\n",
      " 2   sentiment  74682 non-null  object\n",
      " 3   text       73996 non-null  object\n",
      "dtypes: object(4)\n",
      "memory usage: 2.3+ MB\n"
     ]
    }
   ],
   "source": [
    "df_train.info()"
   ]
  },
  {
   "cell_type": "code",
   "execution_count": 8,
   "id": "06fc7037",
   "metadata": {
    "execution": {
     "iopub.execute_input": "2025-04-21T06:47:25.539285Z",
     "iopub.status.busy": "2025-04-21T06:47:25.538409Z",
     "iopub.status.idle": "2025-04-21T06:47:25.556701Z",
     "shell.execute_reply": "2025-04-21T06:47:25.555941Z"
    },
    "papermill": {
     "duration": 0.026102,
     "end_time": "2025-04-21T06:47:25.558259",
     "exception": false,
     "start_time": "2025-04-21T06:47:25.532157",
     "status": "completed"
    },
    "tags": []
   },
   "outputs": [],
   "source": [
    "df_train['text'] = df_train['text'].fillna('0')"
   ]
  },
  {
   "cell_type": "code",
   "execution_count": 9,
   "id": "87079f9c",
   "metadata": {
    "execution": {
     "iopub.execute_input": "2025-04-21T06:47:25.570744Z",
     "iopub.status.busy": "2025-04-21T06:47:25.570022Z",
     "iopub.status.idle": "2025-04-21T06:47:25.595411Z",
     "shell.execute_reply": "2025-04-21T06:47:25.594674Z"
    },
    "papermill": {
     "duration": 0.032852,
     "end_time": "2025-04-21T06:47:25.596712",
     "exception": false,
     "start_time": "2025-04-21T06:47:25.563860",
     "status": "completed"
    },
    "tags": []
   },
   "outputs": [
    {
     "data": {
      "text/plain": [
       "tweet_id     0\n",
       "entity       0\n",
       "sentiment    0\n",
       "text         0\n",
       "dtype: int64"
      ]
     },
     "execution_count": 9,
     "metadata": {},
     "output_type": "execute_result"
    }
   ],
   "source": [
    "df_train.isna().sum()"
   ]
  },
  {
   "cell_type": "code",
   "execution_count": 10,
   "id": "e09aae08",
   "metadata": {
    "execution": {
     "iopub.execute_input": "2025-04-21T06:47:25.609473Z",
     "iopub.status.busy": "2025-04-21T06:47:25.609184Z",
     "iopub.status.idle": "2025-04-21T06:47:25.617253Z",
     "shell.execute_reply": "2025-04-21T06:47:25.616557Z"
    },
    "papermill": {
     "duration": 0.015796,
     "end_time": "2025-04-21T06:47:25.618544",
     "exception": false,
     "start_time": "2025-04-21T06:47:25.602748",
     "status": "completed"
    },
    "tags": []
   },
   "outputs": [],
   "source": [
    "current_col = df_val.columns.tolist()\n",
    "\n",
    "df_val.loc[-1] = current_col\n",
    "df_val.index = df_val.index+1\n",
    "df_val = df_val.sort_index()\n",
    "\n",
    "df_val.columns = ['tweet_id','entity','sentiment','text']\n",
    "\n",
    "df_val.reset_index(drop=True,inplace=True)"
   ]
  },
  {
   "cell_type": "code",
   "execution_count": 11,
   "id": "8d107ec0",
   "metadata": {
    "execution": {
     "iopub.execute_input": "2025-04-21T06:47:25.630908Z",
     "iopub.status.busy": "2025-04-21T06:47:25.630358Z",
     "iopub.status.idle": "2025-04-21T06:47:25.639771Z",
     "shell.execute_reply": "2025-04-21T06:47:25.639041Z"
    },
    "papermill": {
     "duration": 0.016829,
     "end_time": "2025-04-21T06:47:25.640930",
     "exception": false,
     "start_time": "2025-04-21T06:47:25.624101",
     "status": "completed"
    },
    "tags": []
   },
   "outputs": [
    {
     "data": {
      "text/html": [
       "<div>\n",
       "<style scoped>\n",
       "    .dataframe tbody tr th:only-of-type {\n",
       "        vertical-align: middle;\n",
       "    }\n",
       "\n",
       "    .dataframe tbody tr th {\n",
       "        vertical-align: top;\n",
       "    }\n",
       "\n",
       "    .dataframe thead th {\n",
       "        text-align: right;\n",
       "    }\n",
       "</style>\n",
       "<table border=\"1\" class=\"dataframe\">\n",
       "  <thead>\n",
       "    <tr style=\"text-align: right;\">\n",
       "      <th></th>\n",
       "      <th>tweet_id</th>\n",
       "      <th>entity</th>\n",
       "      <th>sentiment</th>\n",
       "      <th>text</th>\n",
       "    </tr>\n",
       "  </thead>\n",
       "  <tbody>\n",
       "    <tr>\n",
       "      <th>0</th>\n",
       "      <td>3364</td>\n",
       "      <td>Facebook</td>\n",
       "      <td>Irrelevant</td>\n",
       "      <td>I mentioned on Facebook that I was struggling ...</td>\n",
       "    </tr>\n",
       "    <tr>\n",
       "      <th>1</th>\n",
       "      <td>352</td>\n",
       "      <td>Amazon</td>\n",
       "      <td>Neutral</td>\n",
       "      <td>BBC News - Amazon boss Jeff Bezos rejects clai...</td>\n",
       "    </tr>\n",
       "    <tr>\n",
       "      <th>2</th>\n",
       "      <td>8312</td>\n",
       "      <td>Microsoft</td>\n",
       "      <td>Negative</td>\n",
       "      <td>@Microsoft Why do I pay for WORD when it funct...</td>\n",
       "    </tr>\n",
       "    <tr>\n",
       "      <th>3</th>\n",
       "      <td>4371</td>\n",
       "      <td>CS-GO</td>\n",
       "      <td>Negative</td>\n",
       "      <td>CSGO matchmaking is so full of closet hacking,...</td>\n",
       "    </tr>\n",
       "    <tr>\n",
       "      <th>4</th>\n",
       "      <td>4433</td>\n",
       "      <td>Google</td>\n",
       "      <td>Neutral</td>\n",
       "      <td>Now the President is slapping Americans in the...</td>\n",
       "    </tr>\n",
       "    <tr>\n",
       "      <th>...</th>\n",
       "      <td>...</td>\n",
       "      <td>...</td>\n",
       "      <td>...</td>\n",
       "      <td>...</td>\n",
       "    </tr>\n",
       "    <tr>\n",
       "      <th>995</th>\n",
       "      <td>4891</td>\n",
       "      <td>GrandTheftAuto(GTA)</td>\n",
       "      <td>Irrelevant</td>\n",
       "      <td>⭐️ Toronto is the arts and culture capital of ...</td>\n",
       "    </tr>\n",
       "    <tr>\n",
       "      <th>996</th>\n",
       "      <td>4359</td>\n",
       "      <td>CS-GO</td>\n",
       "      <td>Irrelevant</td>\n",
       "      <td>tHIS IS ACTUALLY A GOOD MOVE TOT BRING MORE VI...</td>\n",
       "    </tr>\n",
       "    <tr>\n",
       "      <th>997</th>\n",
       "      <td>2652</td>\n",
       "      <td>Borderlands</td>\n",
       "      <td>Positive</td>\n",
       "      <td>Today sucked so it’s time to drink wine n play...</td>\n",
       "    </tr>\n",
       "    <tr>\n",
       "      <th>998</th>\n",
       "      <td>8069</td>\n",
       "      <td>Microsoft</td>\n",
       "      <td>Positive</td>\n",
       "      <td>Bought a fraction of Microsoft today. Small wins.</td>\n",
       "    </tr>\n",
       "    <tr>\n",
       "      <th>999</th>\n",
       "      <td>6960</td>\n",
       "      <td>johnson&amp;johnson</td>\n",
       "      <td>Neutral</td>\n",
       "      <td>Johnson &amp; Johnson to stop selling talc baby po...</td>\n",
       "    </tr>\n",
       "  </tbody>\n",
       "</table>\n",
       "<p>1000 rows × 4 columns</p>\n",
       "</div>"
      ],
      "text/plain": [
       "    tweet_id               entity   sentiment  \\\n",
       "0       3364             Facebook  Irrelevant   \n",
       "1        352               Amazon     Neutral   \n",
       "2       8312            Microsoft    Negative   \n",
       "3       4371                CS-GO    Negative   \n",
       "4       4433               Google     Neutral   \n",
       "..       ...                  ...         ...   \n",
       "995     4891  GrandTheftAuto(GTA)  Irrelevant   \n",
       "996     4359                CS-GO  Irrelevant   \n",
       "997     2652          Borderlands    Positive   \n",
       "998     8069            Microsoft    Positive   \n",
       "999     6960      johnson&johnson     Neutral   \n",
       "\n",
       "                                                  text  \n",
       "0    I mentioned on Facebook that I was struggling ...  \n",
       "1    BBC News - Amazon boss Jeff Bezos rejects clai...  \n",
       "2    @Microsoft Why do I pay for WORD when it funct...  \n",
       "3    CSGO matchmaking is so full of closet hacking,...  \n",
       "4    Now the President is slapping Americans in the...  \n",
       "..                                                 ...  \n",
       "995  ⭐️ Toronto is the arts and culture capital of ...  \n",
       "996  tHIS IS ACTUALLY A GOOD MOVE TOT BRING MORE VI...  \n",
       "997  Today sucked so it’s time to drink wine n play...  \n",
       "998  Bought a fraction of Microsoft today. Small wins.  \n",
       "999  Johnson & Johnson to stop selling talc baby po...  \n",
       "\n",
       "[1000 rows x 4 columns]"
      ]
     },
     "execution_count": 11,
     "metadata": {},
     "output_type": "execute_result"
    }
   ],
   "source": [
    "df_val"
   ]
  },
  {
   "cell_type": "markdown",
   "id": "b84dab9a",
   "metadata": {
    "papermill": {
     "duration": 0.00603,
     "end_time": "2025-04-21T06:47:25.652942",
     "exception": false,
     "start_time": "2025-04-21T06:47:25.646912",
     "status": "completed"
    },
    "tags": []
   },
   "source": [
    "# Bag of Words\n",
    "> Applying bag of Word on df_train"
   ]
  },
  {
   "cell_type": "code",
   "execution_count": 12,
   "id": "a6b8a6e2",
   "metadata": {
    "execution": {
     "iopub.execute_input": "2025-04-21T06:47:25.665890Z",
     "iopub.status.busy": "2025-04-21T06:47:25.665611Z",
     "iopub.status.idle": "2025-04-21T06:47:27.002349Z",
     "shell.execute_reply": "2025-04-21T06:47:27.001528Z"
    },
    "papermill": {
     "duration": 1.345273,
     "end_time": "2025-04-21T06:47:27.004122",
     "exception": false,
     "start_time": "2025-04-21T06:47:25.658849",
     "status": "completed"
    },
    "tags": []
   },
   "outputs": [],
   "source": [
    "from sklearn.feature_extraction.text import CountVectorizer"
   ]
  },
  {
   "cell_type": "code",
   "execution_count": 13,
   "id": "941e664c",
   "metadata": {
    "execution": {
     "iopub.execute_input": "2025-04-21T06:47:27.017095Z",
     "iopub.status.busy": "2025-04-21T06:47:27.016619Z",
     "iopub.status.idle": "2025-04-21T06:47:27.020649Z",
     "shell.execute_reply": "2025-04-21T06:47:27.019984Z"
    },
    "papermill": {
     "duration": 0.011939,
     "end_time": "2025-04-21T06:47:27.022065",
     "exception": false,
     "start_time": "2025-04-21T06:47:27.010126",
     "status": "completed"
    },
    "tags": []
   },
   "outputs": [],
   "source": [
    "cv = CountVectorizer()"
   ]
  },
  {
   "cell_type": "code",
   "execution_count": 14,
   "id": "a3572c9a",
   "metadata": {
    "execution": {
     "iopub.execute_input": "2025-04-21T06:47:27.039378Z",
     "iopub.status.busy": "2025-04-21T06:47:27.038656Z",
     "iopub.status.idle": "2025-04-21T06:47:28.445972Z",
     "shell.execute_reply": "2025-04-21T06:47:28.445189Z"
    },
    "papermill": {
     "duration": 1.419091,
     "end_time": "2025-04-21T06:47:28.447629",
     "exception": false,
     "start_time": "2025-04-21T06:47:27.028538",
     "status": "completed"
    },
    "tags": []
   },
   "outputs": [],
   "source": [
    "bow = cv.fit_transform(df_train['text'])"
   ]
  },
  {
   "cell_type": "markdown",
   "id": "6879223c",
   "metadata": {
    "papermill": {
     "duration": 0.006446,
     "end_time": "2025-04-21T06:47:28.460238",
     "exception": false,
     "start_time": "2025-04-21T06:47:28.453792",
     "status": "completed"
    },
    "tags": []
   },
   "source": [
    "* Conveting into vector."
   ]
  },
  {
   "cell_type": "code",
   "execution_count": 15,
   "id": "a318f909",
   "metadata": {
    "execution": {
     "iopub.execute_input": "2025-04-21T06:47:28.473780Z",
     "iopub.status.busy": "2025-04-21T06:47:28.473494Z",
     "iopub.status.idle": "2025-04-21T06:47:28.479545Z",
     "shell.execute_reply": "2025-04-21T06:47:28.478542Z"
    },
    "papermill": {
     "duration": 0.01418,
     "end_time": "2025-04-21T06:47:28.480881",
     "exception": false,
     "start_time": "2025-04-21T06:47:28.466701",
     "status": "completed"
    },
    "tags": []
   },
   "outputs": [
    {
     "name": "stdout",
     "output_type": "stream",
     "text": [
      "[[0 0 0 ... 0 0 0]]\n",
      "[[0 0 0 ... 0 0 0]]\n"
     ]
    }
   ],
   "source": [
    "print(bow[0].toarray())\n",
    "print(bow[1].toarray())"
   ]
  },
  {
   "cell_type": "markdown",
   "id": "d5a27844",
   "metadata": {
    "papermill": {
     "duration": 0.005584,
     "end_time": "2025-04-21T06:47:28.492550",
     "exception": false,
     "start_time": "2025-04-21T06:47:28.486966",
     "status": "completed"
    },
    "tags": []
   },
   "source": [
    "# Ngram\n",
    "\n",
    "* Bi-gram, tri-gram and etc."
   ]
  },
  {
   "cell_type": "code",
   "execution_count": 16,
   "id": "2c9c3f5b",
   "metadata": {
    "execution": {
     "iopub.execute_input": "2025-04-21T06:47:28.505444Z",
     "iopub.status.busy": "2025-04-21T06:47:28.505110Z",
     "iopub.status.idle": "2025-04-21T06:47:28.509482Z",
     "shell.execute_reply": "2025-04-21T06:47:28.508631Z"
    },
    "papermill": {
     "duration": 0.012571,
     "end_time": "2025-04-21T06:47:28.510895",
     "exception": false,
     "start_time": "2025-04-21T06:47:28.498324",
     "status": "completed"
    },
    "tags": []
   },
   "outputs": [],
   "source": [
    "ncv = CountVectorizer(ngram_range=(5,5))"
   ]
  },
  {
   "cell_type": "code",
   "execution_count": 17,
   "id": "7b6984da",
   "metadata": {
    "execution": {
     "iopub.execute_input": "2025-04-21T06:47:28.524461Z",
     "iopub.status.busy": "2025-04-21T06:47:28.523612Z",
     "iopub.status.idle": "2025-04-21T06:47:33.042385Z",
     "shell.execute_reply": "2025-04-21T06:47:33.041540Z"
    },
    "papermill": {
     "duration": 4.52688,
     "end_time": "2025-04-21T06:47:33.043908",
     "exception": false,
     "start_time": "2025-04-21T06:47:28.517028",
     "status": "completed"
    },
    "tags": []
   },
   "outputs": [],
   "source": [
    "bow_ngram = ncv.fit_transform(df_train['text'])"
   ]
  },
  {
   "cell_type": "code",
   "execution_count": 18,
   "id": "a92e673d",
   "metadata": {
    "execution": {
     "iopub.execute_input": "2025-04-21T06:47:33.057509Z",
     "iopub.status.busy": "2025-04-21T06:47:33.056761Z",
     "iopub.status.idle": "2025-04-21T06:47:33.061431Z",
     "shell.execute_reply": "2025-04-21T06:47:33.060404Z"
    },
    "papermill": {
     "duration": 0.012643,
     "end_time": "2025-04-21T06:47:33.062725",
     "exception": false,
     "start_time": "2025-04-21T06:47:33.050082",
     "status": "completed"
    },
    "tags": []
   },
   "outputs": [
    {
     "name": "stdout",
     "output_type": "stream",
     "text": [
      "709897\n"
     ]
    }
   ],
   "source": [
    "print(len(ncv.vocabulary_))"
   ]
  },
  {
   "cell_type": "markdown",
   "id": "98ea3f38",
   "metadata": {
    "papermill": {
     "duration": 0.006863,
     "end_time": "2025-04-21T06:47:33.075461",
     "exception": false,
     "start_time": "2025-04-21T06:47:33.068598",
     "status": "completed"
    },
    "tags": []
   },
   "source": [
    "# TF-IDF"
   ]
  },
  {
   "cell_type": "code",
   "execution_count": 19,
   "id": "01d7288c",
   "metadata": {
    "execution": {
     "iopub.execute_input": "2025-04-21T06:47:33.088141Z",
     "iopub.status.busy": "2025-04-21T06:47:33.087779Z",
     "iopub.status.idle": "2025-04-21T06:47:33.091954Z",
     "shell.execute_reply": "2025-04-21T06:47:33.091081Z"
    },
    "papermill": {
     "duration": 0.012234,
     "end_time": "2025-04-21T06:47:33.093449",
     "exception": false,
     "start_time": "2025-04-21T06:47:33.081215",
     "status": "completed"
    },
    "tags": []
   },
   "outputs": [],
   "source": [
    "from sklearn.feature_extraction.text import TfidfVectorizer"
   ]
  },
  {
   "cell_type": "code",
   "execution_count": 20,
   "id": "f25b1237",
   "metadata": {
    "execution": {
     "iopub.execute_input": "2025-04-21T06:47:33.106348Z",
     "iopub.status.busy": "2025-04-21T06:47:33.106050Z",
     "iopub.status.idle": "2025-04-21T06:47:40.813409Z",
     "shell.execute_reply": "2025-04-21T06:47:40.812521Z"
    },
    "papermill": {
     "duration": 7.715375,
     "end_time": "2025-04-21T06:47:40.814795",
     "exception": false,
     "start_time": "2025-04-21T06:47:33.099420",
     "status": "completed"
    },
    "tags": []
   },
   "outputs": [
    {
     "data": {
      "text/plain": [
       "array([[0., 0., 0., ..., 0., 0., 0.],\n",
       "       [0., 0., 0., ..., 0., 0., 0.],\n",
       "       [0., 0., 0., ..., 0., 0., 0.],\n",
       "       ...,\n",
       "       [0., 0., 0., ..., 0., 0., 0.],\n",
       "       [0., 0., 0., ..., 0., 0., 0.],\n",
       "       [0., 0., 0., ..., 0., 0., 0.]])"
      ]
     },
     "execution_count": 20,
     "metadata": {},
     "output_type": "execute_result"
    }
   ],
   "source": [
    "tfidf = TfidfVectorizer()\n",
    "tfidf.fit_transform(df_train['text']).toarray()"
   ]
  },
  {
   "cell_type": "code",
   "execution_count": 21,
   "id": "7e45aa47",
   "metadata": {
    "execution": {
     "iopub.execute_input": "2025-04-21T06:47:40.828543Z",
     "iopub.status.busy": "2025-04-21T06:47:40.828211Z",
     "iopub.status.idle": "2025-04-21T06:47:40.864210Z",
     "shell.execute_reply": "2025-04-21T06:47:40.863154Z"
    },
    "papermill": {
     "duration": 0.044648,
     "end_time": "2025-04-21T06:47:40.865765",
     "exception": false,
     "start_time": "2025-04-21T06:47:40.821117",
     "status": "completed"
    },
    "tags": []
   },
   "outputs": [
    {
     "name": "stdout",
     "output_type": "stream",
     "text": [
      "[ 7.42521722  6.95314961 10.27509762 ... 11.12239548 11.12239548\n",
      " 11.12239548]\n",
      "['00' '000' '00011' ... 'การออกอากาศของฉ' 'นจาก' 'ℐℓ٥']\n"
     ]
    }
   ],
   "source": [
    "print(tfidf.idf_)\n",
    "print(tfidf.get_feature_names_out())"
   ]
  },
  {
   "cell_type": "code",
   "execution_count": 22,
   "id": "ddf2ddd2",
   "metadata": {
    "execution": {
     "iopub.execute_input": "2025-04-21T06:47:40.879022Z",
     "iopub.status.busy": "2025-04-21T06:47:40.878699Z",
     "iopub.status.idle": "2025-04-21T06:47:40.912558Z",
     "shell.execute_reply": "2025-04-21T06:47:40.911643Z"
    },
    "papermill": {
     "duration": 0.042148,
     "end_time": "2025-04-21T06:47:40.914055",
     "exception": false,
     "start_time": "2025-04-21T06:47:40.871907",
     "status": "completed"
    },
    "tags": []
   },
   "outputs": [
    {
     "data": {
      "text/plain": [
       "array(['00', '000', '00011', ..., 'การออกอากาศของฉ', 'นจาก', 'ℐℓ٥'],\n",
       "      dtype=object)"
      ]
     },
     "execution_count": 22,
     "metadata": {},
     "output_type": "execute_result"
    }
   ],
   "source": [
    "tfidf.get_feature_names_out()"
   ]
  },
  {
   "cell_type": "code",
   "execution_count": null,
   "id": "74676927",
   "metadata": {
    "papermill": {
     "duration": 0.005871,
     "end_time": "2025-04-21T06:47:40.926277",
     "exception": false,
     "start_time": "2025-04-21T06:47:40.920406",
     "status": "completed"
    },
    "tags": []
   },
   "outputs": [],
   "source": []
  }
 ],
 "metadata": {
  "kaggle": {
   "accelerator": "none",
   "dataSources": [
    {
     "datasetId": 1520310,
     "sourceId": 2510329,
     "sourceType": "datasetVersion"
    }
   ],
   "dockerImageVersionId": 31012,
   "isGpuEnabled": false,
   "isInternetEnabled": true,
   "language": "python",
   "sourceType": "notebook"
  },
  "kernelspec": {
   "display_name": "Python 3",
   "language": "python",
   "name": "python3"
  },
  "language_info": {
   "codemirror_mode": {
    "name": "ipython",
    "version": 3
   },
   "file_extension": ".py",
   "mimetype": "text/x-python",
   "name": "python",
   "nbconvert_exporter": "python",
   "pygments_lexer": "ipython3",
   "version": "3.11.11"
  },
  "papermill": {
   "default_parameters": {},
   "duration": 23.465908,
   "end_time": "2025-04-21T06:47:41.952744",
   "environment_variables": {},
   "exception": null,
   "input_path": "__notebook__.ipynb",
   "output_path": "__notebook__.ipynb",
   "parameters": {},
   "start_time": "2025-04-21T06:47:18.486836",
   "version": "2.6.0"
  }
 },
 "nbformat": 4,
 "nbformat_minor": 5
}
