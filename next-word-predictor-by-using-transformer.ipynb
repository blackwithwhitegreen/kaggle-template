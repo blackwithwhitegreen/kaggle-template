{
 "cells": [
  {
   "cell_type": "code",
   "execution_count": 1,
   "id": "185e1b59",
   "metadata": {
    "_cell_guid": "b1076dfc-b9ad-4769-8c92-a6c4dae69d19",
    "_uuid": "8f2839f25d086af736a60e9eeb907d3b93b6e0e5",
    "execution": {
     "iopub.execute_input": "2025-04-25T06:55:04.528929Z",
     "iopub.status.busy": "2025-04-25T06:55:04.528436Z",
     "iopub.status.idle": "2025-04-25T06:55:06.601572Z",
     "shell.execute_reply": "2025-04-25T06:55:06.600483Z"
    },
    "papermill": {
     "duration": 2.082862,
     "end_time": "2025-04-25T06:55:06.603158",
     "exception": false,
     "start_time": "2025-04-25T06:55:04.520296",
     "status": "completed"
    },
    "tags": []
   },
   "outputs": [
    {
     "name": "stdout",
     "output_type": "stream",
     "text": [
      "/kaggle/input/tweet-sentiment-classification-dataset/tweet_sentiment.csv\n"
     ]
    }
   ],
   "source": [
    "# This Python 3 environment comes with many helpful analytics libraries installed\n",
    "# It is defined by the kaggle/python Docker image: https://github.com/kaggle/docker-python\n",
    "# For example, here's several helpful packages to load\n",
    "\n",
    "import numpy as np # linear algebra\n",
    "import pandas as pd # data processing, CSV file I/O (e.g. pd.read_csv)\n",
    "import warnings\n",
    "warnings.filterwarnings('ignore')\n",
    "\n",
    "# Input data files are available in the read-only \"../input/\" directory\n",
    "# For example, running this (by clicking run or pressing Shift+Enter) will list all files under the input directory\n",
    "\n",
    "import os\n",
    "for dirname, _, filenames in os.walk('/kaggle/input'):\n",
    "    for filename in filenames:\n",
    "        print(os.path.join(dirname, filename))\n",
    "\n",
    "# You can write up to 20GB to the current directory (/kaggle/working/) that gets preserved as output when you create a version using \"Save & Run All\" \n",
    "# You can also write temporary files to /kaggle/temp/, but they won't be saved outside of the current session"
   ]
  },
  {
   "cell_type": "code",
   "execution_count": 2,
   "id": "103c082b",
   "metadata": {
    "execution": {
     "iopub.execute_input": "2025-04-25T06:55:06.617017Z",
     "iopub.status.busy": "2025-04-25T06:55:06.616497Z",
     "iopub.status.idle": "2025-04-25T06:55:06.662390Z",
     "shell.execute_reply": "2025-04-25T06:55:06.661408Z"
    },
    "papermill": {
     "duration": 0.05428,
     "end_time": "2025-04-25T06:55:06.664137",
     "exception": false,
     "start_time": "2025-04-25T06:55:06.609857",
     "status": "completed"
    },
    "tags": []
   },
   "outputs": [
    {
     "data": {
      "text/html": [
       "<div>\n",
       "<style scoped>\n",
       "    .dataframe tbody tr th:only-of-type {\n",
       "        vertical-align: middle;\n",
       "    }\n",
       "\n",
       "    .dataframe tbody tr th {\n",
       "        vertical-align: top;\n",
       "    }\n",
       "\n",
       "    .dataframe thead th {\n",
       "        text-align: right;\n",
       "    }\n",
       "</style>\n",
       "<table border=\"1\" class=\"dataframe\">\n",
       "  <thead>\n",
       "    <tr style=\"text-align: right;\">\n",
       "      <th></th>\n",
       "      <th>tweet</th>\n",
       "      <th>sentiment</th>\n",
       "    </tr>\n",
       "  </thead>\n",
       "  <tbody>\n",
       "    <tr>\n",
       "      <th>0</th>\n",
       "      <td>The event starts at 5 PM.</td>\n",
       "      <td>neutral</td>\n",
       "    </tr>\n",
       "    <tr>\n",
       "      <th>1</th>\n",
       "      <td>I hate how this turned out.</td>\n",
       "      <td>negative</td>\n",
       "    </tr>\n",
       "    <tr>\n",
       "      <th>2</th>\n",
       "      <td>Fantastic experience!</td>\n",
       "      <td>positive</td>\n",
       "    </tr>\n",
       "    <tr>\n",
       "      <th>3</th>\n",
       "      <td>Fantastic experience!</td>\n",
       "      <td>positive</td>\n",
       "    </tr>\n",
       "    <tr>\n",
       "      <th>4</th>\n",
       "      <td>This is the worst thing ever!</td>\n",
       "      <td>negative</td>\n",
       "    </tr>\n",
       "    <tr>\n",
       "      <th>...</th>\n",
       "      <td>...</td>\n",
       "      <td>...</td>\n",
       "    </tr>\n",
       "    <tr>\n",
       "      <th>995</th>\n",
       "      <td>It’s cloudy outside.</td>\n",
       "      <td>neutral</td>\n",
       "    </tr>\n",
       "    <tr>\n",
       "      <th>996</th>\n",
       "      <td>Great job by the team!</td>\n",
       "      <td>positive</td>\n",
       "    </tr>\n",
       "    <tr>\n",
       "      <th>997</th>\n",
       "      <td>I'm so happy about the news!</td>\n",
       "      <td>positive</td>\n",
       "    </tr>\n",
       "    <tr>\n",
       "      <th>998</th>\n",
       "      <td>It ruined my whole day.</td>\n",
       "      <td>negative</td>\n",
       "    </tr>\n",
       "    <tr>\n",
       "      <th>999</th>\n",
       "      <td>I'm sick of this happening.</td>\n",
       "      <td>negative</td>\n",
       "    </tr>\n",
       "  </tbody>\n",
       "</table>\n",
       "<p>1000 rows × 2 columns</p>\n",
       "</div>"
      ],
      "text/plain": [
       "                             tweet sentiment\n",
       "0        The event starts at 5 PM.   neutral\n",
       "1      I hate how this turned out.  negative\n",
       "2            Fantastic experience!  positive\n",
       "3            Fantastic experience!  positive\n",
       "4    This is the worst thing ever!  negative\n",
       "..                             ...       ...\n",
       "995           It’s cloudy outside.   neutral\n",
       "996         Great job by the team!  positive\n",
       "997   I'm so happy about the news!  positive\n",
       "998        It ruined my whole day.  negative\n",
       "999    I'm sick of this happening.  negative\n",
       "\n",
       "[1000 rows x 2 columns]"
      ]
     },
     "execution_count": 2,
     "metadata": {},
     "output_type": "execute_result"
    }
   ],
   "source": [
    "df = pd.read_csv('/kaggle/input/tweet-sentiment-classification-dataset/tweet_sentiment.csv')\n",
    "df"
   ]
  },
  {
   "cell_type": "code",
   "execution_count": 3,
   "id": "6ec47d7d",
   "metadata": {
    "execution": {
     "iopub.execute_input": "2025-04-25T06:55:06.678784Z",
     "iopub.status.busy": "2025-04-25T06:55:06.678456Z",
     "iopub.status.idle": "2025-04-25T06:55:06.704253Z",
     "shell.execute_reply": "2025-04-25T06:55:06.703131Z"
    },
    "papermill": {
     "duration": 0.034023,
     "end_time": "2025-04-25T06:55:06.705592",
     "exception": false,
     "start_time": "2025-04-25T06:55:06.671569",
     "status": "completed"
    },
    "tags": []
   },
   "outputs": [
    {
     "name": "stdout",
     "output_type": "stream",
     "text": [
      "<class 'pandas.core.frame.DataFrame'>\n",
      "RangeIndex: 1000 entries, 0 to 999\n",
      "Data columns (total 2 columns):\n",
      " #   Column     Non-Null Count  Dtype \n",
      "---  ------     --------------  ----- \n",
      " 0   tweet      1000 non-null   object\n",
      " 1   sentiment  1000 non-null   object\n",
      "dtypes: object(2)\n",
      "memory usage: 15.8+ KB\n"
     ]
    }
   ],
   "source": [
    "df.info()"
   ]
  },
  {
   "cell_type": "code",
   "execution_count": 4,
   "id": "29fa6514",
   "metadata": {
    "execution": {
     "iopub.execute_input": "2025-04-25T06:55:06.718940Z",
     "iopub.status.busy": "2025-04-25T06:55:06.718583Z",
     "iopub.status.idle": "2025-04-25T06:55:06.731440Z",
     "shell.execute_reply": "2025-04-25T06:55:06.724691Z"
    },
    "papermill": {
     "duration": 0.024396,
     "end_time": "2025-04-25T06:55:06.736177",
     "exception": false,
     "start_time": "2025-04-25T06:55:06.711781",
     "status": "completed"
    },
    "tags": []
   },
   "outputs": [
    {
     "name": "stdout",
     "output_type": "stream",
     "text": [
      "Unique Chars\n",
      " !'.5AFGIJMPRSTWabcdefghijklmnoprstuvwxy’\n",
      "\n",
      "Toatl unique charactes: 41\n"
     ]
    }
   ],
   "source": [
    "# all unique chars that occure in the tweet\n",
    "all_text = ''.join(df['tweet'].astype(str))\n",
    "chars = sorted(set(all_text))\n",
    "vocab_size=len(chars)\n",
    "print(\"Unique Chars\")\n",
    "print(''.join(chars))\n",
    "print('\\nToatl unique charactes:',len(chars))"
   ]
  },
  {
   "cell_type": "code",
   "execution_count": 5,
   "id": "8c02fec7",
   "metadata": {
    "execution": {
     "iopub.execute_input": "2025-04-25T06:55:06.750122Z",
     "iopub.status.busy": "2025-04-25T06:55:06.749765Z",
     "iopub.status.idle": "2025-04-25T06:55:06.756049Z",
     "shell.execute_reply": "2025-04-25T06:55:06.755124Z"
    },
    "papermill": {
     "duration": 0.014647,
     "end_time": "2025-04-25T06:55:06.757418",
     "exception": false,
     "start_time": "2025-04-25T06:55:06.742771",
     "status": "completed"
    },
    "tags": []
   },
   "outputs": [
    {
     "name": "stdout",
     "output_type": "stream",
     "text": [
      "[7, 32, 20, 16, 34, 0, 25, 30, 17, 0, 17, 39, 0, 34, 23, 20, 0, 34, 20, 16, 28, 1]\n",
      "Great job by the team!\n"
     ]
    }
   ],
   "source": [
    "# Create a mapping from chars to integere\n",
    "map1 = { ch:i for i,ch in enumerate(chars) }\n",
    "map2 = { i:ch for i,ch in enumerate(chars) }\n",
    "\n",
    "encode = lambda s: [map1[c] for c in s]# encoder: take a string, output a list of integers.\n",
    "decode = lambda l: ''.join([map2[i] for i in l])# decoder: take a list of integers, output a string\n",
    "\n",
    "print(encode(\"Great job by the team!\"))\n",
    "print(decode(encode(\"Great job by the team!\")))"
   ]
  },
  {
   "cell_type": "markdown",
   "id": "26bc2e21",
   "metadata": {
    "papermill": {
     "duration": 0.005838,
     "end_time": "2025-04-25T06:55:06.769629",
     "exception": false,
     "start_time": "2025-04-25T06:55:06.763791",
     "status": "completed"
    },
    "tags": []
   },
   "source": [
    "* Let's now encode the entire text dataset and store it into a torch.Tensor"
   ]
  },
  {
   "cell_type": "code",
   "execution_count": 6,
   "id": "9846c8cc",
   "metadata": {
    "execution": {
     "iopub.execute_input": "2025-04-25T06:55:06.783542Z",
     "iopub.status.busy": "2025-04-25T06:55:06.783146Z",
     "iopub.status.idle": "2025-04-25T06:55:11.639029Z",
     "shell.execute_reply": "2025-04-25T06:55:11.637897Z"
    },
    "papermill": {
     "duration": 4.865035,
     "end_time": "2025-04-25T06:55:11.640654",
     "exception": false,
     "start_time": "2025-04-25T06:55:06.775619",
     "status": "completed"
    },
    "tags": []
   },
   "outputs": [
    {
     "name": "stdout",
     "output_type": "stream",
     "text": [
      "torch.Size([24608]) torch.int64\n",
      "tensor([14, 23, 20,  0, 20, 36, 20, 29, 34,  0, 33, 34, 16, 32, 34, 33,  0, 16,\n",
      "        34,  0,  4,  0, 11, 10,  3,  8,  0, 23, 16, 34, 20,  0, 23, 30, 37,  0,\n",
      "        34, 23, 24, 33,  0, 34, 35, 32, 29, 20, 19,  0, 30, 35, 34,  3,  6, 16,\n",
      "        29, 34, 16, 33, 34, 24, 18,  0, 20, 38, 31, 20, 32, 24, 20, 29, 18, 20,\n",
      "         1,  6, 16, 29, 34, 16, 33, 34, 24, 18,  0, 20, 38, 31, 20, 32, 24, 20,\n",
      "        29, 18, 20,  1, 14, 23, 24, 33,  0, 24, 33,  0, 34, 23, 20,  0, 37, 30,\n",
      "        32, 33, 34,  0, 34, 23, 24, 29, 22,  0, 20, 36, 20, 32,  1, 14, 23, 20,\n",
      "         0, 20, 36, 20, 29, 34,  0, 33, 34, 16, 32, 34, 33,  0, 16, 34,  0,  4,\n",
      "         0, 11, 10,  3, 15, 23, 16, 34,  0, 16,  0, 37, 30, 29, 19, 20, 32, 21,\n",
      "        35, 27,  0, 19, 16, 39,  1,  7, 32, 20, 16, 34,  0, 25, 30, 17,  0, 17,\n",
      "        39,  0, 34, 23, 20,  0, 34, 20, 16, 28,  1, 15, 23, 16, 34,  0, 16,  0,\n",
      "        37, 30, 29, 19, 20, 32, 21, 35, 27,  0, 19, 16, 39,  1,  8, 34,  0, 32,\n",
      "        35, 24, 29, 20, 19,  0, 28, 39,  0, 37, 23, 30, 27, 20,  0, 19, 16, 39,\n",
      "         3,  9, 35, 33, 34,  0, 21, 24, 29, 24, 33, 23, 20, 19,  0, 32, 20, 16,\n",
      "        19, 24, 29, 22,  0, 34, 23, 20,  0, 16, 32, 34, 24, 18, 27, 20,  3, 14,\n",
      "        30, 19, 16, 39,  0, 24, 33,  0, 14, 35, 20, 33, 19, 16, 39,  3, 14, 23,\n",
      "        24, 33,  0, 24, 33,  0, 34, 23, 20,  0, 37, 30, 32, 33, 34,  0, 34, 23,\n",
      "        24, 29, 22,  0, 20, 36, 20, 32,  1,  8,  0, 23, 16, 34, 20,  0, 23, 30,\n",
      "        37,  0, 34, 23, 24, 33,  0, 34, 35, 32, 29, 20, 19,  0, 30, 35, 34,  3,\n",
      "        14, 30, 19, 16, 39,  0, 24, 33,  0, 14, 35, 20, 33, 19, 16, 39,  3, 15,\n",
      "        23, 16, 34,  0, 16,  0, 37, 30, 29, 19, 20, 32, 21, 35, 27,  0, 19, 16,\n",
      "        39,  1, 12, 20, 16, 27, 27, 39,  0, 19, 24, 33, 16, 31, 31, 30, 24, 29,\n",
      "        34, 20, 19,  0, 24, 29,  0, 34, 23, 20,  0, 32, 20, 33, 35, 27, 34, 33,\n",
      "         3,  8,  2, 28,  0, 33, 30,  0, 23, 16, 31, 31, 39,  0, 16, 17, 30, 35,\n",
      "        34,  0, 34, 23, 20,  0, 29, 20, 37, 33,  1, 14, 23, 24, 33,  0, 35, 31,\n",
      "        19, 16, 34, 20,  0, 28, 16, 19, 20,  0, 28, 39,  0, 19, 16, 39,  1, 14,\n",
      "        23, 20,  0, 20, 36, 20, 29, 34,  0, 33, 34, 16, 32, 34, 33,  0, 16, 34,\n",
      "         0,  4,  0, 11, 10,  3,  8,  2, 28,  0, 33, 24, 18, 26,  0, 30, 21,  0,\n",
      "        34, 23, 24, 33,  0, 23, 16, 31, 31, 20, 29, 24, 29, 22,  3,  8,  2, 28,\n",
      "         0, 33, 30,  0, 23, 16, 31, 31, 39,  0, 16, 17, 30, 35, 34,  0, 34, 23,\n",
      "        20,  0, 29, 20, 37, 33,  1, 14, 23, 24, 33,  0, 35, 31, 19, 16, 34, 20,\n",
      "         0, 28, 16, 19, 20,  0, 28, 39,  0, 19, 16, 39,  1,  8,  2, 28,  0, 33,\n",
      "        24, 18, 26,  0, 30, 21,  0, 34, 23, 24, 33,  0, 23, 16, 31, 31, 20, 29,\n",
      "        24, 29, 22,  3, 12, 20, 16, 27, 27, 39,  0, 19, 24, 33, 16, 31, 31, 30,\n",
      "        24, 29, 34, 20, 19,  0, 24, 29,  0, 34, 23, 20,  0, 32, 20, 33, 35, 27,\n",
      "        34, 33,  3, 14, 23, 20,  0, 20, 36, 20, 29, 34,  0, 33, 34, 16, 32, 34,\n",
      "        33,  0, 16, 34,  0,  4,  0, 11, 10,  3, 15, 23, 16, 34,  0, 16,  0, 37,\n",
      "        30, 29, 19, 20, 32, 21, 35, 27,  0, 19, 16, 39,  1, 14, 23, 24, 33,  0,\n",
      "        24, 33,  0, 34, 23, 20,  0, 37, 30, 32, 33, 34,  0, 34, 23, 24, 29, 22,\n",
      "         0, 20, 36, 20, 32,  1, 14, 23, 24, 33,  0, 24, 33,  0, 34, 23, 20,  0,\n",
      "        37, 30, 32, 33, 34,  0, 34, 23, 24, 29, 22,  0, 20, 36, 20, 32,  1,  8,\n",
      "         2, 28,  0, 33, 30,  0, 23, 16, 31, 31, 39,  0, 16, 17, 30, 35, 34,  0,\n",
      "        34, 23, 20,  0, 29, 20, 37, 33,  1, 14, 30, 19, 16, 39,  0, 24, 33,  0,\n",
      "        14, 35, 20, 33, 19, 16, 39,  3, 14, 23, 24, 33,  0, 35, 31, 19, 16, 34,\n",
      "        20,  0, 28, 16, 19, 20,  0, 28, 39,  0, 19, 16, 39,  1, 14, 23, 24, 33,\n",
      "         0, 35, 31, 19, 16, 34, 20,  0, 28, 16, 19, 20,  0, 28, 39,  0, 19, 16,\n",
      "        39,  1,  8, 34,  0, 32, 35, 24, 29, 20, 19,  0, 28, 39,  0, 37, 23, 30,\n",
      "        27, 20,  0, 19, 16, 39,  3,  8, 34, 40, 33,  0, 18, 27, 30, 35, 19, 39,\n",
      "         0, 30, 35, 34, 33, 24, 19, 20,  3,  8, 34, 40, 33,  0, 18, 27, 30, 35,\n",
      "        19, 39,  0, 30, 35, 34, 33, 24, 19, 20,  3,  8,  0, 23, 16, 34, 20,  0,\n",
      "        23, 30, 37,  0, 34, 23, 24, 33,  0, 34, 35, 32, 29, 20, 19,  0, 30, 35,\n",
      "        34,  3, 14, 30, 19, 16, 39,  0, 24, 33,  0, 14, 35, 20, 33, 19, 16, 39,\n",
      "         3,  8, 34,  0, 32, 35, 24, 29, 20, 19,  0, 28, 39,  0, 37, 23, 30, 27,\n",
      "        20,  0, 19, 16, 39,  3,  9, 35, 33, 34,  0, 21, 24, 29, 24, 33, 23, 20,\n",
      "        19,  0, 32, 20, 16, 19, 24, 29, 22,  0, 34, 23, 20,  0, 16, 32, 34, 24,\n",
      "        18, 27, 20,  3, 14, 23, 20,  0, 20, 36])\n"
     ]
    }
   ],
   "source": [
    "import torch \n",
    "data = torch.tensor(encode(all_text),dtype=torch.long)\n",
    "print(data.shape,data.dtype)\n",
    "print(data[:1000])# 1000 characters we looked at earier will to the GPT look like this"
   ]
  },
  {
   "cell_type": "markdown",
   "id": "de11b60e",
   "metadata": {
    "papermill": {
     "duration": 0.005895,
     "end_time": "2025-04-25T06:55:11.653038",
     "exception": false,
     "start_time": "2025-04-25T06:55:11.647143",
     "status": "completed"
    },
    "tags": []
   },
   "source": [
    "* split data into train and val sets"
   ]
  },
  {
   "cell_type": "code",
   "execution_count": 7,
   "id": "8fd85797",
   "metadata": {
    "execution": {
     "iopub.execute_input": "2025-04-25T06:55:11.667099Z",
     "iopub.status.busy": "2025-04-25T06:55:11.666544Z",
     "iopub.status.idle": "2025-04-25T06:55:11.671942Z",
     "shell.execute_reply": "2025-04-25T06:55:11.670889Z"
    },
    "papermill": {
     "duration": 0.014417,
     "end_time": "2025-04-25T06:55:11.673528",
     "exception": false,
     "start_time": "2025-04-25T06:55:11.659111",
     "status": "completed"
    },
    "tags": []
   },
   "outputs": [],
   "source": [
    "n = int(0.9*len(data))\n",
    "train_data = data[:n]\n",
    "val_data = data[n:]"
   ]
  },
  {
   "cell_type": "code",
   "execution_count": 8,
   "id": "c62e1707",
   "metadata": {
    "execution": {
     "iopub.execute_input": "2025-04-25T06:55:11.688183Z",
     "iopub.status.busy": "2025-04-25T06:55:11.687307Z",
     "iopub.status.idle": "2025-04-25T06:55:11.694499Z",
     "shell.execute_reply": "2025-04-25T06:55:11.693544Z"
    },
    "papermill": {
     "duration": 0.015885,
     "end_time": "2025-04-25T06:55:11.696085",
     "exception": false,
     "start_time": "2025-04-25T06:55:11.680200",
     "status": "completed"
    },
    "tags": []
   },
   "outputs": [
    {
     "data": {
      "text/plain": [
       "tensor([14, 23, 20,  0, 20, 36, 20, 29, 34])"
      ]
     },
     "execution_count": 8,
     "metadata": {},
     "output_type": "execute_result"
    }
   ],
   "source": [
    "block_size = 8\n",
    "train_data[:block_size+1]"
   ]
  },
  {
   "cell_type": "code",
   "execution_count": 9,
   "id": "d2fad8fd",
   "metadata": {
    "execution": {
     "iopub.execute_input": "2025-04-25T06:55:11.710187Z",
     "iopub.status.busy": "2025-04-25T06:55:11.709836Z",
     "iopub.status.idle": "2025-04-25T06:55:11.719342Z",
     "shell.execute_reply": "2025-04-25T06:55:11.718247Z"
    },
    "papermill": {
     "duration": 0.018293,
     "end_time": "2025-04-25T06:55:11.720875",
     "exception": false,
     "start_time": "2025-04-25T06:55:11.702582",
     "status": "completed"
    },
    "tags": []
   },
   "outputs": [
    {
     "name": "stdout",
     "output_type": "stream",
     "text": [
      "when input is tensor([14]) the target:23\n",
      "when input is tensor([14, 23]) the target:20\n",
      "when input is tensor([14, 23, 20]) the target:0\n",
      "when input is tensor([14, 23, 20,  0]) the target:20\n",
      "when input is tensor([14, 23, 20,  0, 20]) the target:36\n",
      "when input is tensor([14, 23, 20,  0, 20, 36]) the target:20\n",
      "when input is tensor([14, 23, 20,  0, 20, 36, 20]) the target:29\n",
      "when input is tensor([14, 23, 20,  0, 20, 36, 20, 29]) the target:34\n"
     ]
    }
   ],
   "source": [
    "x = train_data[:block_size]\n",
    "y = train_data[1:block_size+1]\n",
    "for t in range(block_size):\n",
    "    context = x[:t+1]\n",
    "    target = y[t]\n",
    "    print(f\"when input is {context} the target:{target}\")"
   ]
  },
  {
   "cell_type": "code",
   "execution_count": 10,
   "id": "e219c4a6",
   "metadata": {
    "execution": {
     "iopub.execute_input": "2025-04-25T06:55:11.735270Z",
     "iopub.status.busy": "2025-04-25T06:55:11.734929Z",
     "iopub.status.idle": "2025-04-25T06:55:11.775965Z",
     "shell.execute_reply": "2025-04-25T06:55:11.774692Z"
    },
    "papermill": {
     "duration": 0.050209,
     "end_time": "2025-04-25T06:55:11.777622",
     "exception": false,
     "start_time": "2025-04-25T06:55:11.727413",
     "status": "completed"
    },
    "tags": []
   },
   "outputs": [
    {
     "name": "stdout",
     "output_type": "stream",
     "text": [
      "inputs\n",
      "torch.Size([4, 8])\n",
      "tensor([[ 8,  2, 28,  0, 33, 30,  0, 23],\n",
      "        [33,  0, 14, 35, 20, 33, 19, 16],\n",
      "        [24, 18,  0, 20, 38, 31, 20, 32],\n",
      "        [34,  0, 16,  0, 37, 30, 29, 19]])\n",
      "targets:\n",
      "torch.Size([4, 8])\n",
      "tensor([[ 2, 28,  0, 33, 30,  0, 23, 16],\n",
      "        [ 0, 14, 35, 20, 33, 19, 16, 39],\n",
      "        [18,  0, 20, 38, 31, 20, 32, 24],\n",
      "        [ 0, 16,  0, 37, 30, 29, 19, 20]])\n",
      "-----\n",
      "when input is [8] the target: 2\n",
      "when input is [8, 2] the target: 28\n",
      "when input is [8, 2, 28] the target: 0\n",
      "when input is [8, 2, 28, 0] the target: 33\n",
      "when input is [8, 2, 28, 0, 33] the target: 30\n",
      "when input is [8, 2, 28, 0, 33, 30] the target: 0\n",
      "when input is [8, 2, 28, 0, 33, 30, 0] the target: 23\n",
      "when input is [8, 2, 28, 0, 33, 30, 0, 23] the target: 16\n",
      "when input is [33] the target: 0\n",
      "when input is [33, 0] the target: 14\n",
      "when input is [33, 0, 14] the target: 35\n",
      "when input is [33, 0, 14, 35] the target: 20\n",
      "when input is [33, 0, 14, 35, 20] the target: 33\n",
      "when input is [33, 0, 14, 35, 20, 33] the target: 19\n",
      "when input is [33, 0, 14, 35, 20, 33, 19] the target: 16\n",
      "when input is [33, 0, 14, 35, 20, 33, 19, 16] the target: 39\n",
      "when input is [24] the target: 18\n",
      "when input is [24, 18] the target: 0\n",
      "when input is [24, 18, 0] the target: 20\n",
      "when input is [24, 18, 0, 20] the target: 38\n",
      "when input is [24, 18, 0, 20, 38] the target: 31\n",
      "when input is [24, 18, 0, 20, 38, 31] the target: 20\n",
      "when input is [24, 18, 0, 20, 38, 31, 20] the target: 32\n",
      "when input is [24, 18, 0, 20, 38, 31, 20, 32] the target: 24\n",
      "when input is [34] the target: 0\n",
      "when input is [34, 0] the target: 16\n",
      "when input is [34, 0, 16] the target: 0\n",
      "when input is [34, 0, 16, 0] the target: 37\n",
      "when input is [34, 0, 16, 0, 37] the target: 30\n",
      "when input is [34, 0, 16, 0, 37, 30] the target: 29\n",
      "when input is [34, 0, 16, 0, 37, 30, 29] the target: 19\n",
      "when input is [34, 0, 16, 0, 37, 30, 29, 19] the target: 20\n"
     ]
    }
   ],
   "source": [
    "torch.manual_seed(1337)\n",
    "batch_size = 4\n",
    "block_size = 8\n",
    "\n",
    "def get_batch(split):\n",
    "    data = train_data if split == 'train' else val_data\n",
    "    ix = torch.randint(len(data) - block_size,(batch_size,))\n",
    "    x = torch.stack([data[i:i+block_size]for i in ix])\n",
    "    y = torch.stack([data[i+1:i+block_size+1]for i in ix])\n",
    "    return x,y\n",
    "\n",
    "xb,yb = get_batch('train')\n",
    "print('inputs')\n",
    "print(xb.shape)\n",
    "print(xb)\n",
    "print('targets:')\n",
    "print(yb.shape)\n",
    "print(yb)\n",
    "\n",
    "print('-----')\n",
    "\n",
    "for b in range(batch_size):\n",
    "    for t in range(block_size):\n",
    "        context = xb[b,:t+1]\n",
    "        target = yb[b,t]\n",
    "        print(f\"when input is {context.tolist()} the target: {target}\")\n",
    "\n"
   ]
  },
  {
   "cell_type": "code",
   "execution_count": 11,
   "id": "f64b39a6",
   "metadata": {
    "execution": {
     "iopub.execute_input": "2025-04-25T06:55:11.792528Z",
     "iopub.status.busy": "2025-04-25T06:55:11.792206Z",
     "iopub.status.idle": "2025-04-25T06:55:11.798381Z",
     "shell.execute_reply": "2025-04-25T06:55:11.797310Z"
    },
    "papermill": {
     "duration": 0.015704,
     "end_time": "2025-04-25T06:55:11.800121",
     "exception": false,
     "start_time": "2025-04-25T06:55:11.784417",
     "status": "completed"
    },
    "tags": []
   },
   "outputs": [
    {
     "name": "stdout",
     "output_type": "stream",
     "text": [
      "tensor([[ 8,  2, 28,  0, 33, 30,  0, 23],\n",
      "        [33,  0, 14, 35, 20, 33, 19, 16],\n",
      "        [24, 18,  0, 20, 38, 31, 20, 32],\n",
      "        [34,  0, 16,  0, 37, 30, 29, 19]])\n"
     ]
    }
   ],
   "source": [
    "print(xb) # input to the transformer"
   ]
  },
  {
   "cell_type": "code",
   "execution_count": 12,
   "id": "31f04ae9",
   "metadata": {
    "execution": {
     "iopub.execute_input": "2025-04-25T06:55:11.815052Z",
     "iopub.status.busy": "2025-04-25T06:55:11.814650Z",
     "iopub.status.idle": "2025-04-25T06:55:11.924637Z",
     "shell.execute_reply": "2025-04-25T06:55:11.923425Z"
    },
    "papermill": {
     "duration": 0.119474,
     "end_time": "2025-04-25T06:55:11.926355",
     "exception": false,
     "start_time": "2025-04-25T06:55:11.806881",
     "status": "completed"
    },
    "tags": []
   },
   "outputs": [
    {
     "name": "stdout",
     "output_type": "stream",
     "text": [
      "torch.Size([32, 41])\n",
      "tensor(3.9208, grad_fn=<NllLossBackward0>)\n",
      " tvgRiRvMifG'lgJ'GaMijr!GvynliulmScPPxRgMPr!Sjjdeolbkp'ueAR FsrdmSt dSusa'l aW!exh fswwwwSjMu’tiSfjdm\n"
     ]
    }
   ],
   "source": [
    "import torch\n",
    "import torch.nn as nn\n",
    "from torch.nn import functional as F\n",
    "torch.manual_seed(1337)\n",
    "\n",
    "class BiagramLanguageModel(nn.Module):\n",
    "\n",
    "    def __init__(self,vocab_size):\n",
    "        super().__init__()\n",
    "\n",
    "        self.token_embedding_table = nn.Embedding(vocab_size,vocab_size)\n",
    "\n",
    "    def forward(self,idx,targets=None):\n",
    "        logits = self.token_embedding_table(idx)\n",
    "\n",
    "        if targets is None:\n",
    "            loss = None\n",
    "\n",
    "        else:\n",
    "            B,T,C = logits.shape\n",
    "            logits = logits.view(B*T,C)\n",
    "            targets = targets.view(B*T)\n",
    "            loss = F.cross_entropy(logits,targets)\n",
    "\n",
    "        return logits,loss\n",
    "\n",
    "    def generate(self,idx,max_new_tokens):\n",
    "        for _ in range(max_new_tokens):\n",
    "            logits,loss = self(idx)\n",
    "            logits = logits[:,-1,:]\n",
    "            prob = F.softmax(logits,dim=-1)\n",
    "\n",
    "            idx_next = torch.multinomial(prob,num_samples=1)\n",
    "            idx = torch.cat((idx,idx_next),dim=1)\n",
    "\n",
    "        return idx\n",
    "\n",
    "\n",
    "m = BiagramLanguageModel(vocab_size)\n",
    "logits,loss = m(xb,yb)\n",
    "print(logits.shape)\n",
    "print(loss)\n",
    "\n",
    "\n",
    "print(decode(m.generate(idx = torch.zeros((1,1),dtype=torch.long),max_new_tokens=100)[0].tolist()))\n",
    "\n"
   ]
  },
  {
   "cell_type": "code",
   "execution_count": 13,
   "id": "9c70dea5",
   "metadata": {
    "execution": {
     "iopub.execute_input": "2025-04-25T06:55:11.941924Z",
     "iopub.status.busy": "2025-04-25T06:55:11.941535Z",
     "iopub.status.idle": "2025-04-25T06:55:17.754677Z",
     "shell.execute_reply": "2025-04-25T06:55:17.753657Z"
    },
    "papermill": {
     "duration": 5.822831,
     "end_time": "2025-04-25T06:55:17.756598",
     "exception": false,
     "start_time": "2025-04-25T06:55:11.933767",
     "status": "completed"
    },
    "tags": []
   },
   "outputs": [],
   "source": [
    "# Create Pytorch Optimizer\n",
    "optimizer = torch.optim.AdamW(m.parameters(),lr= 1e-3)"
   ]
  },
  {
   "cell_type": "code",
   "execution_count": 14,
   "id": "7025394f",
   "metadata": {
    "execution": {
     "iopub.execute_input": "2025-04-25T06:55:17.772303Z",
     "iopub.status.busy": "2025-04-25T06:55:17.771703Z",
     "iopub.status.idle": "2025-04-25T06:55:17.998314Z",
     "shell.execute_reply": "2025-04-25T06:55:17.997199Z"
    },
    "papermill": {
     "duration": 0.236153,
     "end_time": "2025-04-25T06:55:17.999928",
     "exception": false,
     "start_time": "2025-04-25T06:55:17.763775",
     "status": "completed"
    },
    "tags": []
   },
   "outputs": [
    {
     "name": "stdout",
     "output_type": "stream",
     "text": [
      "3.859891176223755\n"
     ]
    }
   ],
   "source": [
    "batch_size = 32\n",
    "for steps in range(100):\n",
    "    xb,yb = get_batch('train')\n",
    "    \n",
    "    #evaluate the loss\n",
    "    logits,loss = m(xb,yb)\n",
    "    optimizer.zero_grad(set_to_none=True)\n",
    "    loss.backward()\n",
    "    optimizer.step()\n",
    "\n",
    "print(loss.item())"
   ]
  },
  {
   "cell_type": "code",
   "execution_count": 15,
   "id": "09922ab9",
   "metadata": {
    "execution": {
     "iopub.execute_input": "2025-04-25T06:55:18.014983Z",
     "iopub.status.busy": "2025-04-25T06:55:18.014628Z",
     "iopub.status.idle": "2025-04-25T06:55:18.095977Z",
     "shell.execute_reply": "2025-04-25T06:55:18.094792Z"
    },
    "papermill": {
     "duration": 0.09079,
     "end_time": "2025-04-25T06:55:18.097662",
     "exception": false,
     "start_time": "2025-04-25T06:55:18.006872",
     "status": "completed"
    },
    "tags": []
   },
   "outputs": [
    {
     "name": "stdout",
     "output_type": "stream",
     "text": [
      " r5GbTkTjooiknWTFy’MvcS.yFFayjvMPskv'aopig’sT’R.Fywwx5W!ouhaJefellleWTfayvyxiSmkyaAyWsTvA'iTgrpIWTf.lmSueoisp aJPsW!R’5IucbSuWRaMuAiTJd.’JWg5P5eWvcolkJIScJIvgW!WkkJTlInhIpRhWPbydWjiSv’ RxjRiGhejv'lcr’RiPRxfuJutabvMPcllc cwW!JlknA5dproW’ltWWTfertSW!W!fIMPwr!rjdgW!vylcadmsbvIMAR’vgeuJwveStmov'feFgrk'kMFSuedyp WTfpichTfbGyr pluipiyxjp'p tf’uwwrAJb’v!RT’'bpmoiSuSTxnleIvtSj’JS’y5jovvFtPcwM!W’PMokFlAMf pvPnhihe!AJFavrgrwc plvtaJP’ tiyjMoWltMPSjovk!wwPa.’tS'xRgrcW!ScnIkJ!Sfs!!JyuG5Auwpt.p F IPgxmRiWl!FM\n"
     ]
    }
   ],
   "source": [
    "print(decode(m.generate(idx=torch.zeros((1,1),dtype = torch.long),max_new_tokens=500)[0].tolist()))"
   ]
  },
  {
   "cell_type": "markdown",
   "id": "92e56fe0",
   "metadata": {
    "papermill": {
     "duration": 0.006865,
     "end_time": "2025-04-25T06:55:18.111489",
     "exception": false,
     "start_time": "2025-04-25T06:55:18.104624",
     "status": "completed"
    },
    "tags": []
   },
   "source": [
    "* toy example illustrating how matrix multiplication can be used for a \"weighted aggregation\""
   ]
  },
  {
   "cell_type": "code",
   "execution_count": 16,
   "id": "2431cbc4",
   "metadata": {
    "execution": {
     "iopub.execute_input": "2025-04-25T06:55:18.126557Z",
     "iopub.status.busy": "2025-04-25T06:55:18.126222Z",
     "iopub.status.idle": "2025-04-25T06:55:18.161046Z",
     "shell.execute_reply": "2025-04-25T06:55:18.159884Z"
    },
    "papermill": {
     "duration": 0.044332,
     "end_time": "2025-04-25T06:55:18.162762",
     "exception": false,
     "start_time": "2025-04-25T06:55:18.118430",
     "status": "completed"
    },
    "tags": []
   },
   "outputs": [
    {
     "name": "stdout",
     "output_type": "stream",
     "text": [
      "a=\n",
      "tensor([[1.0000, 0.0000, 0.0000],\n",
      "        [0.5000, 0.5000, 0.0000],\n",
      "        [0.3333, 0.3333, 0.3333]])\n",
      "b=\n",
      "tensor([[2., 7.],\n",
      "        [6., 4.],\n",
      "        [6., 5.]])\n",
      "c=\n",
      "tensor([[2.0000, 7.0000],\n",
      "        [4.0000, 5.5000],\n",
      "        [4.6667, 5.3333]])\n"
     ]
    }
   ],
   "source": [
    "torch.manual_seed(42)\n",
    "a = torch.tril(torch.ones(3,3))\n",
    "a = a/torch.sum(a,1,keepdim=True)\n",
    "b = torch.randint(0,10,(3,2)).float()\n",
    "c = a @ b\n",
    "print('a=')\n",
    "print(a)\n",
    "print('b=')\n",
    "print(b)\n",
    "print('c=')\n",
    "print(c)"
   ]
  },
  {
   "cell_type": "markdown",
   "id": "c31f0292",
   "metadata": {
    "papermill": {
     "duration": 0.006419,
     "end_time": "2025-04-25T06:55:18.176190",
     "exception": false,
     "start_time": "2025-04-25T06:55:18.169771",
     "status": "completed"
    },
    "tags": []
   },
   "source": [
    "* Consider the following toy example"
   ]
  },
  {
   "cell_type": "code",
   "execution_count": 17,
   "id": "3642ee80",
   "metadata": {
    "execution": {
     "iopub.execute_input": "2025-04-25T06:55:18.190962Z",
     "iopub.status.busy": "2025-04-25T06:55:18.190416Z",
     "iopub.status.idle": "2025-04-25T06:55:18.198275Z",
     "shell.execute_reply": "2025-04-25T06:55:18.197312Z"
    },
    "papermill": {
     "duration": 0.016835,
     "end_time": "2025-04-25T06:55:18.199724",
     "exception": false,
     "start_time": "2025-04-25T06:55:18.182889",
     "status": "completed"
    },
    "tags": []
   },
   "outputs": [
    {
     "data": {
      "text/plain": [
       "torch.Size([4, 8, 2])"
      ]
     },
     "execution_count": 17,
     "metadata": {},
     "output_type": "execute_result"
    }
   ],
   "source": [
    "torch.manual_seed(1337)\n",
    "B,T,C = 4,8,2 #batch,time,channels\n",
    "x = torch.randn(B,T,C)\n",
    "x.shape"
   ]
  },
  {
   "cell_type": "code",
   "execution_count": 18,
   "id": "60b12490",
   "metadata": {
    "execution": {
     "iopub.execute_input": "2025-04-25T06:55:18.214853Z",
     "iopub.status.busy": "2025-04-25T06:55:18.214496Z",
     "iopub.status.idle": "2025-04-25T06:55:18.221077Z",
     "shell.execute_reply": "2025-04-25T06:55:18.220185Z"
    },
    "papermill": {
     "duration": 0.01578,
     "end_time": "2025-04-25T06:55:18.222554",
     "exception": false,
     "start_time": "2025-04-25T06:55:18.206774",
     "status": "completed"
    },
    "tags": []
   },
   "outputs": [],
   "source": [
    "# we want x[b,t] = mean_{i<=t} x[b,i]\n",
    "xbow = torch.zeros((B,T,C))\n",
    "for b in range(B):\n",
    "    for t in range(T):\n",
    "        xprev = x[b,:t+1] #(t,c)\n",
    "        xbow[b,t] = torch.mean(xprev,0)"
   ]
  },
  {
   "cell_type": "markdown",
   "id": "e29e06a0",
   "metadata": {
    "papermill": {
     "duration": 0.006968,
     "end_time": "2025-04-25T06:55:18.236951",
     "exception": false,
     "start_time": "2025-04-25T06:55:18.229983",
     "status": "completed"
    },
    "tags": []
   },
   "source": [
    "* version 2 using matrix multiply for a weighted aggregation."
   ]
  },
  {
   "cell_type": "code",
   "execution_count": 19,
   "id": "ab7acfb8",
   "metadata": {
    "execution": {
     "iopub.execute_input": "2025-04-25T06:55:18.252751Z",
     "iopub.status.busy": "2025-04-25T06:55:18.251782Z",
     "iopub.status.idle": "2025-04-25T06:55:18.261646Z",
     "shell.execute_reply": "2025-04-25T06:55:18.260746Z"
    },
    "papermill": {
     "duration": 0.019681,
     "end_time": "2025-04-25T06:55:18.263367",
     "exception": false,
     "start_time": "2025-04-25T06:55:18.243686",
     "status": "completed"
    },
    "tags": []
   },
   "outputs": [
    {
     "data": {
      "text/plain": [
       "False"
      ]
     },
     "execution_count": 19,
     "metadata": {},
     "output_type": "execute_result"
    }
   ],
   "source": [
    "wei = torch.tril(torch.ones(T,T))\n",
    "wei = wei / wei.sum(1,keepdim=True)\n",
    "xbow2 = wei @ x # (B,T,T) @ (B,T,C) -----> (B,T,C)\n",
    "torch.allclose(xbow,xbow2)"
   ]
  },
  {
   "cell_type": "markdown",
   "id": "d527e102",
   "metadata": {
    "papermill": {
     "duration": 0.006678,
     "end_time": "2025-04-25T06:55:18.277653",
     "exception": false,
     "start_time": "2025-04-25T06:55:18.270975",
     "status": "completed"
    },
    "tags": []
   },
   "source": [
    "* version 3 Self Attention"
   ]
  },
  {
   "cell_type": "code",
   "execution_count": 20,
   "id": "28ca193b",
   "metadata": {
    "execution": {
     "iopub.execute_input": "2025-04-25T06:55:18.292700Z",
     "iopub.status.busy": "2025-04-25T06:55:18.292395Z",
     "iopub.status.idle": "2025-04-25T06:55:18.311447Z",
     "shell.execute_reply": "2025-04-25T06:55:18.310495Z"
    },
    "papermill": {
     "duration": 0.028358,
     "end_time": "2025-04-25T06:55:18.312932",
     "exception": false,
     "start_time": "2025-04-25T06:55:18.284574",
     "status": "completed"
    },
    "tags": []
   },
   "outputs": [
    {
     "data": {
      "text/plain": [
       "torch.Size([4, 8, 16])"
      ]
     },
     "execution_count": 20,
     "metadata": {},
     "output_type": "execute_result"
    }
   ],
   "source": [
    "torch.manual_seed(1337)\n",
    "B,T,C = 4,8,32 #batch,time,channels\n",
    "x = torch.randn(B,T,C)\n",
    "\n",
    "# Let's see a single Head perform self-attention\n",
    "head_size = 16\n",
    "key = nn.Linear(C,head_size,bias=False)\n",
    "query = nn.Linear(C,head_size,bias=False)\n",
    "value = nn.Linear(C,head_size,bias=False)\n",
    "k = key(x)\n",
    "q = query(x)\n",
    "wei = q @ k.transpose(-2,-1)\n",
    "\n",
    "\n",
    "tril = torch.tril(torch.ones(T,T))\n",
    "#wei = torch.zeros((T,T))\n",
    "wei = wei.masked_fill(tril==0,float('-inf'))\n",
    "wei = F.softmax(wei,dim=1)\n",
    "\n",
    "v = value(x)\n",
    "out = wei @ v\n",
    "#out = wei @ x\n",
    "\n",
    "out.shape"
   ]
  },
  {
   "cell_type": "code",
   "execution_count": 21,
   "id": "b5c6203a",
   "metadata": {
    "execution": {
     "iopub.execute_input": "2025-04-25T06:55:18.328705Z",
     "iopub.status.busy": "2025-04-25T06:55:18.328321Z",
     "iopub.status.idle": "2025-04-25T06:55:18.336204Z",
     "shell.execute_reply": "2025-04-25T06:55:18.335339Z"
    },
    "papermill": {
     "duration": 0.017588,
     "end_time": "2025-04-25T06:55:18.337671",
     "exception": false,
     "start_time": "2025-04-25T06:55:18.320083",
     "status": "completed"
    },
    "tags": []
   },
   "outputs": [
    {
     "data": {
      "text/plain": [
       "tensor([[0.0248, 0.0000, 0.0000, 0.0000, 0.0000, 0.0000, 0.0000, 0.0000],\n",
       "        [0.0052, 0.0091, 0.0000, 0.0000, 0.0000, 0.0000, 0.0000, 0.0000],\n",
       "        [0.0521, 0.0135, 0.2482, 0.0000, 0.0000, 0.0000, 0.0000, 0.0000],\n",
       "        [0.3171, 0.0214, 0.1642, 0.1188, 0.0000, 0.0000, 0.0000, 0.0000],\n",
       "        [0.0412, 0.0487, 0.1046, 0.0742, 0.2000, 0.0000, 0.0000, 0.0000],\n",
       "        [0.1060, 0.5347, 0.2059, 0.1030, 0.7402, 0.0192, 0.0000, 0.0000],\n",
       "        [0.4298, 0.3409, 0.1769, 0.2027, 0.0480, 0.8472, 0.2329, 0.0000],\n",
       "        [0.0238, 0.0316, 0.1002, 0.5013, 0.0117, 0.1336, 0.7671, 1.0000]],\n",
       "       grad_fn=<SelectBackward0>)"
      ]
     },
     "execution_count": 21,
     "metadata": {},
     "output_type": "execute_result"
    }
   ],
   "source": [
    "wei[0]"
   ]
  },
  {
   "cell_type": "code",
   "execution_count": 22,
   "id": "b8c8dd02",
   "metadata": {
    "execution": {
     "iopub.execute_input": "2025-04-25T06:55:18.353404Z",
     "iopub.status.busy": "2025-04-25T06:55:18.353101Z",
     "iopub.status.idle": "2025-04-25T06:55:18.358609Z",
     "shell.execute_reply": "2025-04-25T06:55:18.357749Z"
    },
    "papermill": {
     "duration": 0.01501,
     "end_time": "2025-04-25T06:55:18.360101",
     "exception": false,
     "start_time": "2025-04-25T06:55:18.345091",
     "status": "completed"
    },
    "tags": []
   },
   "outputs": [],
   "source": [
    "k = torch.randn(B,T,head_size)\n",
    "q = torch.randn(B,T,head_size)\n",
    "wei = q @ k.transpose(-2,-1) * head_size**-0.5"
   ]
  },
  {
   "cell_type": "code",
   "execution_count": 23,
   "id": "245d892c",
   "metadata": {
    "execution": {
     "iopub.execute_input": "2025-04-25T06:55:18.444358Z",
     "iopub.status.busy": "2025-04-25T06:55:18.444028Z",
     "iopub.status.idle": "2025-04-25T06:55:18.451122Z",
     "shell.execute_reply": "2025-04-25T06:55:18.450301Z"
    },
    "papermill": {
     "duration": 0.016858,
     "end_time": "2025-04-25T06:55:18.452570",
     "exception": false,
     "start_time": "2025-04-25T06:55:18.435712",
     "status": "completed"
    },
    "tags": []
   },
   "outputs": [
    {
     "data": {
      "text/plain": [
       "tensor(1.0449)"
      ]
     },
     "execution_count": 23,
     "metadata": {},
     "output_type": "execute_result"
    }
   ],
   "source": [
    "k.var()"
   ]
  },
  {
   "cell_type": "code",
   "execution_count": 24,
   "id": "203dc979",
   "metadata": {
    "execution": {
     "iopub.execute_input": "2025-04-25T06:55:18.469071Z",
     "iopub.status.busy": "2025-04-25T06:55:18.468708Z",
     "iopub.status.idle": "2025-04-25T06:55:18.475942Z",
     "shell.execute_reply": "2025-04-25T06:55:18.474881Z"
    },
    "papermill": {
     "duration": 0.017229,
     "end_time": "2025-04-25T06:55:18.477475",
     "exception": false,
     "start_time": "2025-04-25T06:55:18.460246",
     "status": "completed"
    },
    "tags": []
   },
   "outputs": [
    {
     "data": {
      "text/plain": [
       "tensor(1.0700)"
      ]
     },
     "execution_count": 24,
     "metadata": {},
     "output_type": "execute_result"
    }
   ],
   "source": [
    "q.var()"
   ]
  },
  {
   "cell_type": "code",
   "execution_count": 25,
   "id": "445e4236",
   "metadata": {
    "execution": {
     "iopub.execute_input": "2025-04-25T06:55:18.493931Z",
     "iopub.status.busy": "2025-04-25T06:55:18.493526Z",
     "iopub.status.idle": "2025-04-25T06:55:18.500370Z",
     "shell.execute_reply": "2025-04-25T06:55:18.499457Z"
    },
    "papermill": {
     "duration": 0.016835,
     "end_time": "2025-04-25T06:55:18.501964",
     "exception": false,
     "start_time": "2025-04-25T06:55:18.485129",
     "status": "completed"
    },
    "tags": []
   },
   "outputs": [
    {
     "data": {
      "text/plain": [
       "tensor(1.0918)"
      ]
     },
     "execution_count": 25,
     "metadata": {},
     "output_type": "execute_result"
    }
   ],
   "source": [
    "wei.var()"
   ]
  },
  {
   "cell_type": "code",
   "execution_count": 26,
   "id": "35b5e775",
   "metadata": {
    "execution": {
     "iopub.execute_input": "2025-04-25T06:55:18.518694Z",
     "iopub.status.busy": "2025-04-25T06:55:18.518320Z",
     "iopub.status.idle": "2025-04-25T06:55:18.525612Z",
     "shell.execute_reply": "2025-04-25T06:55:18.524690Z"
    },
    "papermill": {
     "duration": 0.017597,
     "end_time": "2025-04-25T06:55:18.527130",
     "exception": false,
     "start_time": "2025-04-25T06:55:18.509533",
     "status": "completed"
    },
    "tags": []
   },
   "outputs": [
    {
     "data": {
      "text/plain": [
       "tensor([0.1925, 0.1426, 0.2351, 0.1426, 0.2872])"
      ]
     },
     "execution_count": 26,
     "metadata": {},
     "output_type": "execute_result"
    }
   ],
   "source": [
    "torch.softmax(torch.tensor([0.1,-0.2,0.3,-0.2,0.5]),dim=-1)"
   ]
  },
  {
   "cell_type": "code",
   "execution_count": 27,
   "id": "65f155b8",
   "metadata": {
    "execution": {
     "iopub.execute_input": "2025-04-25T06:55:18.543357Z",
     "iopub.status.busy": "2025-04-25T06:55:18.543052Z",
     "iopub.status.idle": "2025-04-25T06:55:18.550735Z",
     "shell.execute_reply": "2025-04-25T06:55:18.549825Z"
    },
    "papermill": {
     "duration": 0.017664,
     "end_time": "2025-04-25T06:55:18.552354",
     "exception": false,
     "start_time": "2025-04-25T06:55:18.534690",
     "status": "completed"
    },
    "tags": []
   },
   "outputs": [
    {
     "data": {
      "text/plain": [
       "tensor([0.0326, 0.0030, 0.1615, 0.0030, 0.8000])"
      ]
     },
     "execution_count": 27,
     "metadata": {},
     "output_type": "execute_result"
    }
   ],
   "source": [
    "torch.softmax(torch.tensor([0.1,-0.2,0.3,-0.2,0.5])*8,dim=-1) #gets too peaky,converge to one-hot"
   ]
  },
  {
   "cell_type": "code",
   "execution_count": 28,
   "id": "b6efe8d6",
   "metadata": {
    "execution": {
     "iopub.execute_input": "2025-04-25T06:55:18.569818Z",
     "iopub.status.busy": "2025-04-25T06:55:18.569444Z",
     "iopub.status.idle": "2025-04-25T06:55:18.582622Z",
     "shell.execute_reply": "2025-04-25T06:55:18.581686Z"
    },
    "papermill": {
     "duration": 0.024161,
     "end_time": "2025-04-25T06:55:18.584327",
     "exception": false,
     "start_time": "2025-04-25T06:55:18.560166",
     "status": "completed"
    },
    "tags": []
   },
   "outputs": [
    {
     "data": {
      "text/plain": [
       "torch.Size([32, 100])"
      ]
     },
     "execution_count": 28,
     "metadata": {},
     "output_type": "execute_result"
    }
   ],
   "source": [
    "class LayerNorm1d:\n",
    "\n",
    "    def __init__(self,dim,eps=1e-5,nomentum=0.1):\n",
    "        self.eps = eps\n",
    "        self.gamma = torch.ones(dim)\n",
    "        self.beta = torch.zeros(dim)\n",
    "\n",
    "    def __call__(self,x):\n",
    "        # calculate the forward pass\n",
    "        xmean = x.mean(1,keepdim=True) #batch mean\n",
    "        xvar = x.var(1,keepdim=True) # batch variance\n",
    "        xhat = (x - xmean) / torch.sqrt(xvar + self.eps) # normalize to unit variacne\n",
    "        self.out = self.gamma * xhat + self.beta\n",
    "        return self.out\n",
    "\n",
    "    def parameters(self):\n",
    "        return [self.gamma,self.beta]\n",
    "\n",
    "\n",
    "torch.manual_seed(1337)\n",
    "module = LayerNorm1d(100)\n",
    "x = torch.randn(32,100) # barch size 32 of 100 dimensional vectors\n",
    "x = module(x)\n",
    "x.shape\n",
    "        "
   ]
  },
  {
   "cell_type": "code",
   "execution_count": 29,
   "id": "3837d811",
   "metadata": {
    "execution": {
     "iopub.execute_input": "2025-04-25T06:55:18.601448Z",
     "iopub.status.busy": "2025-04-25T06:55:18.600749Z",
     "iopub.status.idle": "2025-04-25T06:55:18.608407Z",
     "shell.execute_reply": "2025-04-25T06:55:18.607608Z"
    },
    "papermill": {
     "duration": 0.017738,
     "end_time": "2025-04-25T06:55:18.609827",
     "exception": false,
     "start_time": "2025-04-25T06:55:18.592089",
     "status": "completed"
    },
    "tags": []
   },
   "outputs": [
    {
     "data": {
      "text/plain": [
       "(tensor(0.1469), tensor(0.8803))"
      ]
     },
     "execution_count": 29,
     "metadata": {},
     "output_type": "execute_result"
    }
   ],
   "source": [
    "x[:,0].mean(),x[:,0].std() # mean,std of one feature across all batch inputs"
   ]
  },
  {
   "cell_type": "markdown",
   "id": "197d7d57",
   "metadata": {
    "papermill": {
     "duration": 0.007445,
     "end_time": "2025-04-25T06:55:18.625013",
     "exception": false,
     "start_time": "2025-04-25T06:55:18.617568",
     "status": "completed"
    },
    "tags": []
   },
   "source": [
    "# Not yet completed, time to sleep"
   ]
  }
 ],
 "metadata": {
  "kaggle": {
   "accelerator": "none",
   "dataSources": [
    {
     "datasetId": 7005568,
     "sourceId": 11218125,
     "sourceType": "datasetVersion"
    }
   ],
   "dockerImageVersionId": 31012,
   "isGpuEnabled": false,
   "isInternetEnabled": true,
   "language": "python",
   "sourceType": "notebook"
  },
  "kernelspec": {
   "display_name": "Python 3",
   "language": "python",
   "name": "python3"
  },
  "language_info": {
   "codemirror_mode": {
    "name": "ipython",
    "version": 3
   },
   "file_extension": ".py",
   "mimetype": "text/x-python",
   "name": "python",
   "nbconvert_exporter": "python",
   "pygments_lexer": "ipython3",
   "version": "3.11.11"
  },
  "papermill": {
   "default_parameters": {},
   "duration": 23.092411,
   "end_time": "2025-04-25T06:55:21.685203",
   "environment_variables": {},
   "exception": null,
   "input_path": "__notebook__.ipynb",
   "output_path": "__notebook__.ipynb",
   "parameters": {},
   "start_time": "2025-04-25T06:54:58.592792",
   "version": "2.6.0"
  }
 },
 "nbformat": 4,
 "nbformat_minor": 5
}
