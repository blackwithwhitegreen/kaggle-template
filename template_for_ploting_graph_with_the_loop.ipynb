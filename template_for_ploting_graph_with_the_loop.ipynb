{
  "nbformat": 4,
  "nbformat_minor": 0,
  "metadata": {
    "colab": {
      "provenance": [],
      "authorship_tag": "ABX9TyN/NpyijMdBdvPM6n2wCPac",
      "include_colab_link": true
    },
    "kernelspec": {
      "name": "python3",
      "display_name": "Python 3"
    },
    "language_info": {
      "name": "python"
    }
  },
  "cells": [
    {
      "cell_type": "markdown",
      "metadata": {
        "id": "view-in-github",
        "colab_type": "text"
      },
      "source": [
        "<a href=\"https://colab.research.google.com/github/blackwithwhitegreen/kaggle-template/blob/main/template_for_ploting_graph_with_the_loop.ipynb\" target=\"_parent\"><img src=\"https://colab.research.google.com/assets/colab-badge.svg\" alt=\"Open In Colab\"/></a>"
      ]
    },
    {
      "cell_type": "code",
      "execution_count": null,
      "metadata": {
        "id": "D7hkRelMgztS"
      },
      "outputs": [],
      "source": [
        "# Plot histograms for several key numeric features\n",
        "numeric_features = ['Age', 'Academic Performance (GPA)', 'Study Hours Per Week',\n",
        "                    'Social Media Usage (Hours per day)', 'Sleep Duration (Hours per night)',\n",
        "                    'Physical Exercise (Hours per week)', 'Family Support', 'Financial Stress',\n",
        "                    'Peer Pressure', 'Relationship Stress', 'Mental Stress Level', 'Diet Quality',\n",
        "                    'Cognitive Distortions', 'Substance Use']\n",
        "\n",
        "for feature in numeric_features:\n",
        "    if feature in df.columns:\n",
        "        plt.figure(figsize=(8, 4))\n",
        "        sns.histplot(df[feature].dropna(), kde=True, color='purple')\n",
        "        plt.title(f'Histogram of {feature}')\n",
        "        plt.xlabel(feature)\n",
        "        plt.ylabel('Count')\n",
        "        plt.tight_layout()\n",
        "        plt.show()\n",
        "\n",
        "# If there are at least 4 numeric columns, show correlation heatmap\n",
        "numeric_df = df.select_dtypes(include=[np.number])\n",
        "if numeric_df.shape[1] >= 4:\n",
        "    plt.figure(figsize=(12,10))\n",
        "    correlation_matrix = numeric_df.corr()\n",
        "    sns.heatmap(correlation_matrix, annot=True, cmap='coolwarm', fmt='.2f')\n",
        "    plt.title('Correlation Heatmap of Numeric Features')\n",
        "    plt.tight_layout()\n",
        "    plt.show()\n",
        "\n",
        "# Pair plot among a subset of variables\n",
        "selected_columns = ['Academic Performance (GPA)', 'Study Hours Per Week', 'Mental Stress Level']\n",
        "if set(selected_columns).issubset(df.columns):\n",
        "    sns.pairplot(df[selected_columns].dropna(), diag_kind='kde')\n",
        "    plt.show()\n",
        "\n",
        "# Count plot for categorical variables: Gender and Counseling Attendance\n",
        "categorical_features = ['Gender', 'Counseling Attendance']\n",
        "\n",
        "for feature in categorical_features:\n",
        "    if feature in df.columns:\n",
        "        plt.figure(figsize=(6,4))\n",
        "        sns.countplot(x=feature, data=df, palette='viridis')\n",
        "        plt.title(f'Count Plot of {feature}')\n",
        "        plt.tight_layout()\n",
        "        plt.show()\n",
        "\n",
        "\n",
        "\n",
        "\n",
        "\n",
        "for features in cols:\n",
        "    if features in df.columns:\n",
        "        plt.figure(figsize=(12,5))\n",
        "        sns.lineplot(new_df[features].dropna(),marker='o',color='purple')\n",
        "        plt.title(f'Histogram of {features}')\n",
        "        plt.xlabel(features)\n",
        "        plt.ylabel('Count')\n",
        "        plt.tight_layout()\n",
        "        plt.show()\n",
        "\n",
        "\n",
        "\n",
        "\n",
        "plt.xticks(rotation='vertical')"
      ]
    },
    {
      "cell_type": "code",
      "source": [
        "for column in lab_col:\n",
        "    df[column] = le.fit_transform(df[column])"
      ],
      "metadata": {
        "id": "NXAiGDHUfDgL"
      },
      "execution_count": null,
      "outputs": []
    }
  ]
}