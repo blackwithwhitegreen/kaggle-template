{
 "cells": [
  {
   "cell_type": "code",
   "execution_count": 1,
   "id": "edc6561a",
   "metadata": {
    "_cell_guid": "b1076dfc-b9ad-4769-8c92-a6c4dae69d19",
    "_uuid": "8f2839f25d086af736a60e9eeb907d3b93b6e0e5",
    "execution": {
     "iopub.execute_input": "2025-06-02T14:51:53.766164Z",
     "iopub.status.busy": "2025-06-02T14:51:53.765795Z",
     "iopub.status.idle": "2025-06-02T14:51:55.727306Z",
     "shell.execute_reply": "2025-06-02T14:51:55.726308Z"
    },
    "papermill": {
     "duration": 1.970152,
     "end_time": "2025-06-02T14:51:55.728776",
     "exception": false,
     "start_time": "2025-06-02T14:51:53.758624",
     "status": "completed"
    },
    "tags": []
   },
   "outputs": [
    {
     "name": "stdout",
     "output_type": "stream",
     "text": [
      "/kaggle/input/fitness-tracker-data/Fitness_Tracker_Data.csv\n"
     ]
    }
   ],
   "source": [
    "# This Python 3 environment comes with many helpful analytics libraries installed\n",
    "# It is defined by the kaggle/python Docker image: https://github.com/kaggle/docker-python\n",
    "# For example, here's several helpful packages to load\n",
    "\n",
    "import numpy as np # linear algebra\n",
    "import pandas as pd # data processing, CSV file I/O (e.g. pd.read_csv)\n",
    "import warnings\n",
    "warnings.filterwarnings('ignore')\n",
    "\n",
    "# Input data files are available in the read-only \"../input/\" directory\n",
    "# For example, running this (by clicking run or pressing Shift+Enter) will list all files under the input directory\n",
    "\n",
    "import os\n",
    "for dirname, _, filenames in os.walk('/kaggle/input'):\n",
    "    for filename in filenames:\n",
    "        print(os.path.join(dirname, filename))\n",
    "\n",
    "# You can write up to 20GB to the current directory (/kaggle/working/) that gets preserved as output when you create a version using \"Save & Run All\" \n",
    "# You can also write temporary files to /kaggle/temp/, but they won't be saved outside of the current session"
   ]
  },
  {
   "cell_type": "markdown",
   "id": "cf6148dd",
   "metadata": {
    "papermill": {
     "duration": 0.004493,
     "end_time": "2025-06-02T14:51:55.738023",
     "exception": false,
     "start_time": "2025-06-02T14:51:55.733530",
     "status": "completed"
    },
    "tags": []
   },
   "source": [
    "# DATA LOADING AND PREPROCESSING"
   ]
  },
  {
   "cell_type": "code",
   "execution_count": 2,
   "id": "15f2f808",
   "metadata": {
    "execution": {
     "iopub.execute_input": "2025-06-02T14:51:55.747837Z",
     "iopub.status.busy": "2025-06-02T14:51:55.747426Z",
     "iopub.status.idle": "2025-06-02T14:51:55.796870Z",
     "shell.execute_reply": "2025-06-02T14:51:55.795752Z"
    },
    "papermill": {
     "duration": 0.055995,
     "end_time": "2025-06-02T14:51:55.798344",
     "exception": false,
     "start_time": "2025-06-02T14:51:55.742349",
     "status": "completed"
    },
    "tags": []
   },
   "outputs": [
    {
     "data": {
      "text/html": [
       "<div>\n",
       "<style scoped>\n",
       "    .dataframe tbody tr th:only-of-type {\n",
       "        vertical-align: middle;\n",
       "    }\n",
       "\n",
       "    .dataframe tbody tr th {\n",
       "        vertical-align: top;\n",
       "    }\n",
       "\n",
       "    .dataframe thead th {\n",
       "        text-align: right;\n",
       "    }\n",
       "</style>\n",
       "<table border=\"1\" class=\"dataframe\">\n",
       "  <thead>\n",
       "    <tr style=\"text-align: right;\">\n",
       "      <th></th>\n",
       "      <th>User_ID</th>\n",
       "      <th>Date</th>\n",
       "      <th>Steps</th>\n",
       "      <th>Heart_Rate_avg</th>\n",
       "      <th>Calories_Burned</th>\n",
       "      <th>Workout_Type</th>\n",
       "    </tr>\n",
       "  </thead>\n",
       "  <tbody>\n",
       "    <tr>\n",
       "      <th>0</th>\n",
       "      <td>4001</td>\n",
       "      <td>2024-01-01</td>\n",
       "      <td>14748</td>\n",
       "      <td>68</td>\n",
       "      <td>598</td>\n",
       "      <td>Cardio</td>\n",
       "    </tr>\n",
       "    <tr>\n",
       "      <th>1</th>\n",
       "      <td>4002</td>\n",
       "      <td>2024-01-02</td>\n",
       "      <td>8943</td>\n",
       "      <td>74</td>\n",
       "      <td>428</td>\n",
       "      <td>Cardio</td>\n",
       "    </tr>\n",
       "    <tr>\n",
       "      <th>2</th>\n",
       "      <td>4003</td>\n",
       "      <td>2024-01-03</td>\n",
       "      <td>14195</td>\n",
       "      <td>69</td>\n",
       "      <td>724</td>\n",
       "      <td>NaN</td>\n",
       "    </tr>\n",
       "    <tr>\n",
       "      <th>3</th>\n",
       "      <td>4004</td>\n",
       "      <td>2024-01-04</td>\n",
       "      <td>7963</td>\n",
       "      <td>97</td>\n",
       "      <td>284</td>\n",
       "      <td>Strength</td>\n",
       "    </tr>\n",
       "    <tr>\n",
       "      <th>4</th>\n",
       "      <td>4005</td>\n",
       "      <td>2024-01-05</td>\n",
       "      <td>14671</td>\n",
       "      <td>93</td>\n",
       "      <td>622</td>\n",
       "      <td>Yoga</td>\n",
       "    </tr>\n",
       "    <tr>\n",
       "      <th>...</th>\n",
       "      <td>...</td>\n",
       "      <td>...</td>\n",
       "      <td>...</td>\n",
       "      <td>...</td>\n",
       "      <td>...</td>\n",
       "      <td>...</td>\n",
       "    </tr>\n",
       "    <tr>\n",
       "      <th>95</th>\n",
       "      <td>4096</td>\n",
       "      <td>2024-04-05</td>\n",
       "      <td>7333</td>\n",
       "      <td>76</td>\n",
       "      <td>299</td>\n",
       "      <td>Yoga</td>\n",
       "    </tr>\n",
       "    <tr>\n",
       "      <th>96</th>\n",
       "      <td>4097</td>\n",
       "      <td>2024-04-06</td>\n",
       "      <td>11548</td>\n",
       "      <td>63</td>\n",
       "      <td>393</td>\n",
       "      <td>Yoga</td>\n",
       "    </tr>\n",
       "    <tr>\n",
       "      <th>97</th>\n",
       "      <td>4098</td>\n",
       "      <td>2024-04-07</td>\n",
       "      <td>12708</td>\n",
       "      <td>85</td>\n",
       "      <td>443</td>\n",
       "      <td>Cardio</td>\n",
       "    </tr>\n",
       "    <tr>\n",
       "      <th>98</th>\n",
       "      <td>4099</td>\n",
       "      <td>2024-04-08</td>\n",
       "      <td>6781</td>\n",
       "      <td>73</td>\n",
       "      <td>711</td>\n",
       "      <td>Yoga</td>\n",
       "    </tr>\n",
       "    <tr>\n",
       "      <th>99</th>\n",
       "      <td>4100</td>\n",
       "      <td>2024-04-09</td>\n",
       "      <td>8720</td>\n",
       "      <td>62</td>\n",
       "      <td>184</td>\n",
       "      <td>NaN</td>\n",
       "    </tr>\n",
       "  </tbody>\n",
       "</table>\n",
       "<p>100 rows × 6 columns</p>\n",
       "</div>"
      ],
      "text/plain": [
       "    User_ID        Date  Steps  Heart_Rate_avg  Calories_Burned Workout_Type\n",
       "0      4001  2024-01-01  14748              68              598       Cardio\n",
       "1      4002  2024-01-02   8943              74              428       Cardio\n",
       "2      4003  2024-01-03  14195              69              724          NaN\n",
       "3      4004  2024-01-04   7963              97              284     Strength\n",
       "4      4005  2024-01-05  14671              93              622         Yoga\n",
       "..      ...         ...    ...             ...              ...          ...\n",
       "95     4096  2024-04-05   7333              76              299         Yoga\n",
       "96     4097  2024-04-06  11548              63              393         Yoga\n",
       "97     4098  2024-04-07  12708              85              443       Cardio\n",
       "98     4099  2024-04-08   6781              73              711         Yoga\n",
       "99     4100  2024-04-09   8720              62              184          NaN\n",
       "\n",
       "[100 rows x 6 columns]"
      ]
     },
     "execution_count": 2,
     "metadata": {},
     "output_type": "execute_result"
    }
   ],
   "source": [
    "df = pd.read_csv('/kaggle/input/fitness-tracker-data/Fitness_Tracker_Data.csv')\n",
    "df"
   ]
  },
  {
   "cell_type": "code",
   "execution_count": 3,
   "id": "d5f8fbd4",
   "metadata": {
    "execution": {
     "iopub.execute_input": "2025-06-02T14:51:55.809186Z",
     "iopub.status.busy": "2025-06-02T14:51:55.808888Z",
     "iopub.status.idle": "2025-06-02T14:51:55.818514Z",
     "shell.execute_reply": "2025-06-02T14:51:55.817694Z"
    },
    "papermill": {
     "duration": 0.016934,
     "end_time": "2025-06-02T14:51:55.820085",
     "exception": false,
     "start_time": "2025-06-02T14:51:55.803151",
     "status": "completed"
    },
    "tags": []
   },
   "outputs": [
    {
     "data": {
      "text/plain": [
       "User_ID             0\n",
       "Date                0\n",
       "Steps               0\n",
       "Heart_Rate_avg      0\n",
       "Calories_Burned     0\n",
       "Workout_Type       21\n",
       "dtype: int64"
      ]
     },
     "execution_count": 3,
     "metadata": {},
     "output_type": "execute_result"
    }
   ],
   "source": [
    "df.isna().sum()"
   ]
  },
  {
   "cell_type": "markdown",
   "id": "46053fa3",
   "metadata": {
    "papermill": {
     "duration": 0.004425,
     "end_time": "2025-06-02T14:51:55.829171",
     "exception": false,
     "start_time": "2025-06-02T14:51:55.824746",
     "status": "completed"
    },
    "tags": []
   },
   "source": [
    "# REPLACING NaN VALUES"
   ]
  },
  {
   "cell_type": "code",
   "execution_count": 4,
   "id": "a244d97d",
   "metadata": {
    "execution": {
     "iopub.execute_input": "2025-06-02T14:51:55.839935Z",
     "iopub.status.busy": "2025-06-02T14:51:55.839189Z",
     "iopub.status.idle": "2025-06-02T14:51:55.845212Z",
     "shell.execute_reply": "2025-06-02T14:51:55.844293Z"
    },
    "papermill": {
     "duration": 0.013192,
     "end_time": "2025-06-02T14:51:55.846907",
     "exception": false,
     "start_time": "2025-06-02T14:51:55.833715",
     "status": "completed"
    },
    "tags": []
   },
   "outputs": [],
   "source": [
    "def fill_missing_values(df):\n",
    "    df_filled = df.copy()\n",
    "\n",
    "    for col in df.columns:\n",
    "        if df[col].dtype == 'object':\n",
    "            non_null_values = df[col].dropna().unique()\n",
    "            num_missing = df[col].isna().sum()\n",
    "        \n",
    "        \n",
    "            if num_missing > 0 and len(non_null_values) > 0:\n",
    "                replacements = np.tile(non_null_values,int(np.ceil(num_missing / len(non_null_values))))\n",
    "                np.random.shuffle(replacements)\n",
    "                df_filled.loc[df[col].isna(),col] = replacements[:num_missing]\n",
    "\n",
    "    return df_filled"
   ]
  },
  {
   "cell_type": "code",
   "execution_count": 5,
   "id": "df5f368d",
   "metadata": {
    "execution": {
     "iopub.execute_input": "2025-06-02T14:51:55.857932Z",
     "iopub.status.busy": "2025-06-02T14:51:55.857059Z",
     "iopub.status.idle": "2025-06-02T14:51:55.874541Z",
     "shell.execute_reply": "2025-06-02T14:51:55.873626Z"
    },
    "papermill": {
     "duration": 0.024308,
     "end_time": "2025-06-02T14:51:55.876021",
     "exception": false,
     "start_time": "2025-06-02T14:51:55.851713",
     "status": "completed"
    },
    "tags": []
   },
   "outputs": [
    {
     "data": {
      "text/html": [
       "<div>\n",
       "<style scoped>\n",
       "    .dataframe tbody tr th:only-of-type {\n",
       "        vertical-align: middle;\n",
       "    }\n",
       "\n",
       "    .dataframe tbody tr th {\n",
       "        vertical-align: top;\n",
       "    }\n",
       "\n",
       "    .dataframe thead th {\n",
       "        text-align: right;\n",
       "    }\n",
       "</style>\n",
       "<table border=\"1\" class=\"dataframe\">\n",
       "  <thead>\n",
       "    <tr style=\"text-align: right;\">\n",
       "      <th></th>\n",
       "      <th>User_ID</th>\n",
       "      <th>Date</th>\n",
       "      <th>Steps</th>\n",
       "      <th>Heart_Rate_avg</th>\n",
       "      <th>Calories_Burned</th>\n",
       "      <th>Workout_Type</th>\n",
       "    </tr>\n",
       "  </thead>\n",
       "  <tbody>\n",
       "    <tr>\n",
       "      <th>0</th>\n",
       "      <td>4001</td>\n",
       "      <td>2024-01-01</td>\n",
       "      <td>14748</td>\n",
       "      <td>68</td>\n",
       "      <td>598</td>\n",
       "      <td>Cardio</td>\n",
       "    </tr>\n",
       "    <tr>\n",
       "      <th>1</th>\n",
       "      <td>4002</td>\n",
       "      <td>2024-01-02</td>\n",
       "      <td>8943</td>\n",
       "      <td>74</td>\n",
       "      <td>428</td>\n",
       "      <td>Cardio</td>\n",
       "    </tr>\n",
       "    <tr>\n",
       "      <th>2</th>\n",
       "      <td>4003</td>\n",
       "      <td>2024-01-03</td>\n",
       "      <td>14195</td>\n",
       "      <td>69</td>\n",
       "      <td>724</td>\n",
       "      <td>Cardio</td>\n",
       "    </tr>\n",
       "    <tr>\n",
       "      <th>3</th>\n",
       "      <td>4004</td>\n",
       "      <td>2024-01-04</td>\n",
       "      <td>7963</td>\n",
       "      <td>97</td>\n",
       "      <td>284</td>\n",
       "      <td>Strength</td>\n",
       "    </tr>\n",
       "    <tr>\n",
       "      <th>4</th>\n",
       "      <td>4005</td>\n",
       "      <td>2024-01-05</td>\n",
       "      <td>14671</td>\n",
       "      <td>93</td>\n",
       "      <td>622</td>\n",
       "      <td>Yoga</td>\n",
       "    </tr>\n",
       "    <tr>\n",
       "      <th>...</th>\n",
       "      <td>...</td>\n",
       "      <td>...</td>\n",
       "      <td>...</td>\n",
       "      <td>...</td>\n",
       "      <td>...</td>\n",
       "      <td>...</td>\n",
       "    </tr>\n",
       "    <tr>\n",
       "      <th>95</th>\n",
       "      <td>4096</td>\n",
       "      <td>2024-04-05</td>\n",
       "      <td>7333</td>\n",
       "      <td>76</td>\n",
       "      <td>299</td>\n",
       "      <td>Yoga</td>\n",
       "    </tr>\n",
       "    <tr>\n",
       "      <th>96</th>\n",
       "      <td>4097</td>\n",
       "      <td>2024-04-06</td>\n",
       "      <td>11548</td>\n",
       "      <td>63</td>\n",
       "      <td>393</td>\n",
       "      <td>Yoga</td>\n",
       "    </tr>\n",
       "    <tr>\n",
       "      <th>97</th>\n",
       "      <td>4098</td>\n",
       "      <td>2024-04-07</td>\n",
       "      <td>12708</td>\n",
       "      <td>85</td>\n",
       "      <td>443</td>\n",
       "      <td>Cardio</td>\n",
       "    </tr>\n",
       "    <tr>\n",
       "      <th>98</th>\n",
       "      <td>4099</td>\n",
       "      <td>2024-04-08</td>\n",
       "      <td>6781</td>\n",
       "      <td>73</td>\n",
       "      <td>711</td>\n",
       "      <td>Yoga</td>\n",
       "    </tr>\n",
       "    <tr>\n",
       "      <th>99</th>\n",
       "      <td>4100</td>\n",
       "      <td>2024-04-09</td>\n",
       "      <td>8720</td>\n",
       "      <td>62</td>\n",
       "      <td>184</td>\n",
       "      <td>Cardio</td>\n",
       "    </tr>\n",
       "  </tbody>\n",
       "</table>\n",
       "<p>100 rows × 6 columns</p>\n",
       "</div>"
      ],
      "text/plain": [
       "    User_ID        Date  Steps  Heart_Rate_avg  Calories_Burned Workout_Type\n",
       "0      4001  2024-01-01  14748              68              598       Cardio\n",
       "1      4002  2024-01-02   8943              74              428       Cardio\n",
       "2      4003  2024-01-03  14195              69              724       Cardio\n",
       "3      4004  2024-01-04   7963              97              284     Strength\n",
       "4      4005  2024-01-05  14671              93              622         Yoga\n",
       "..      ...         ...    ...             ...              ...          ...\n",
       "95     4096  2024-04-05   7333              76              299         Yoga\n",
       "96     4097  2024-04-06  11548              63              393         Yoga\n",
       "97     4098  2024-04-07  12708              85              443       Cardio\n",
       "98     4099  2024-04-08   6781              73              711         Yoga\n",
       "99     4100  2024-04-09   8720              62              184       Cardio\n",
       "\n",
       "[100 rows x 6 columns]"
      ]
     },
     "execution_count": 5,
     "metadata": {},
     "output_type": "execute_result"
    }
   ],
   "source": [
    "df_filled = fill_missing_values(df)\n",
    "df_filled"
   ]
  },
  {
   "cell_type": "markdown",
   "id": "af1f26df",
   "metadata": {
    "papermill": {
     "duration": 0.004578,
     "end_time": "2025-06-02T14:51:55.885763",
     "exception": false,
     "start_time": "2025-06-02T14:51:55.881185",
     "status": "completed"
    },
    "tags": []
   },
   "source": [
    "# FEATURE ENGINEERING"
   ]
  },
  {
   "cell_type": "code",
   "execution_count": 6,
   "id": "5d633a41",
   "metadata": {
    "execution": {
     "iopub.execute_input": "2025-06-02T14:51:55.896954Z",
     "iopub.status.busy": "2025-06-02T14:51:55.896356Z",
     "iopub.status.idle": "2025-06-02T14:51:57.547682Z",
     "shell.execute_reply": "2025-06-02T14:51:57.546727Z"
    },
    "papermill": {
     "duration": 1.658906,
     "end_time": "2025-06-02T14:51:57.549395",
     "exception": false,
     "start_time": "2025-06-02T14:51:55.890489",
     "status": "completed"
    },
    "tags": []
   },
   "outputs": [],
   "source": [
    "from sklearn.preprocessing import LabelEncoder"
   ]
  },
  {
   "cell_type": "code",
   "execution_count": 7,
   "id": "da6149a9",
   "metadata": {
    "execution": {
     "iopub.execute_input": "2025-06-02T14:51:57.560492Z",
     "iopub.status.busy": "2025-06-02T14:51:57.560061Z",
     "iopub.status.idle": "2025-06-02T14:51:57.564414Z",
     "shell.execute_reply": "2025-06-02T14:51:57.563630Z"
    },
    "papermill": {
     "duration": 0.011476,
     "end_time": "2025-06-02T14:51:57.565861",
     "exception": false,
     "start_time": "2025-06-02T14:51:57.554385",
     "status": "completed"
    },
    "tags": []
   },
   "outputs": [],
   "source": [
    "le = LabelEncoder()"
   ]
  },
  {
   "cell_type": "code",
   "execution_count": 8,
   "id": "3c54b704",
   "metadata": {
    "execution": {
     "iopub.execute_input": "2025-06-02T14:51:57.577139Z",
     "iopub.status.busy": "2025-06-02T14:51:57.576828Z",
     "iopub.status.idle": "2025-06-02T14:51:57.582257Z",
     "shell.execute_reply": "2025-06-02T14:51:57.581327Z"
    },
    "papermill": {
     "duration": 0.013143,
     "end_time": "2025-06-02T14:51:57.583879",
     "exception": false,
     "start_time": "2025-06-02T14:51:57.570736",
     "status": "completed"
    },
    "tags": []
   },
   "outputs": [],
   "source": [
    "df['Workout_Type'] = le.fit_transform(df['Workout_Type'])"
   ]
  },
  {
   "cell_type": "code",
   "execution_count": 9,
   "id": "83923abc",
   "metadata": {
    "execution": {
     "iopub.execute_input": "2025-06-02T14:51:57.594725Z",
     "iopub.status.busy": "2025-06-02T14:51:57.594428Z",
     "iopub.status.idle": "2025-06-02T14:51:57.608380Z",
     "shell.execute_reply": "2025-06-02T14:51:57.607475Z"
    },
    "papermill": {
     "duration": 0.021162,
     "end_time": "2025-06-02T14:51:57.609950",
     "exception": false,
     "start_time": "2025-06-02T14:51:57.588788",
     "status": "completed"
    },
    "tags": []
   },
   "outputs": [
    {
     "data": {
      "text/html": [
       "<div>\n",
       "<style scoped>\n",
       "    .dataframe tbody tr th:only-of-type {\n",
       "        vertical-align: middle;\n",
       "    }\n",
       "\n",
       "    .dataframe tbody tr th {\n",
       "        vertical-align: top;\n",
       "    }\n",
       "\n",
       "    .dataframe thead th {\n",
       "        text-align: right;\n",
       "    }\n",
       "</style>\n",
       "<table border=\"1\" class=\"dataframe\">\n",
       "  <thead>\n",
       "    <tr style=\"text-align: right;\">\n",
       "      <th></th>\n",
       "      <th>User_ID</th>\n",
       "      <th>Date</th>\n",
       "      <th>Steps</th>\n",
       "      <th>Heart_Rate_avg</th>\n",
       "      <th>Calories_Burned</th>\n",
       "      <th>Workout_Type</th>\n",
       "    </tr>\n",
       "  </thead>\n",
       "  <tbody>\n",
       "    <tr>\n",
       "      <th>0</th>\n",
       "      <td>4001</td>\n",
       "      <td>2024-01-01</td>\n",
       "      <td>14748</td>\n",
       "      <td>68</td>\n",
       "      <td>598</td>\n",
       "      <td>0</td>\n",
       "    </tr>\n",
       "    <tr>\n",
       "      <th>1</th>\n",
       "      <td>4002</td>\n",
       "      <td>2024-01-02</td>\n",
       "      <td>8943</td>\n",
       "      <td>74</td>\n",
       "      <td>428</td>\n",
       "      <td>0</td>\n",
       "    </tr>\n",
       "    <tr>\n",
       "      <th>2</th>\n",
       "      <td>4003</td>\n",
       "      <td>2024-01-03</td>\n",
       "      <td>14195</td>\n",
       "      <td>69</td>\n",
       "      <td>724</td>\n",
       "      <td>3</td>\n",
       "    </tr>\n",
       "    <tr>\n",
       "      <th>3</th>\n",
       "      <td>4004</td>\n",
       "      <td>2024-01-04</td>\n",
       "      <td>7963</td>\n",
       "      <td>97</td>\n",
       "      <td>284</td>\n",
       "      <td>1</td>\n",
       "    </tr>\n",
       "    <tr>\n",
       "      <th>4</th>\n",
       "      <td>4005</td>\n",
       "      <td>2024-01-05</td>\n",
       "      <td>14671</td>\n",
       "      <td>93</td>\n",
       "      <td>622</td>\n",
       "      <td>2</td>\n",
       "    </tr>\n",
       "    <tr>\n",
       "      <th>...</th>\n",
       "      <td>...</td>\n",
       "      <td>...</td>\n",
       "      <td>...</td>\n",
       "      <td>...</td>\n",
       "      <td>...</td>\n",
       "      <td>...</td>\n",
       "    </tr>\n",
       "    <tr>\n",
       "      <th>95</th>\n",
       "      <td>4096</td>\n",
       "      <td>2024-04-05</td>\n",
       "      <td>7333</td>\n",
       "      <td>76</td>\n",
       "      <td>299</td>\n",
       "      <td>2</td>\n",
       "    </tr>\n",
       "    <tr>\n",
       "      <th>96</th>\n",
       "      <td>4097</td>\n",
       "      <td>2024-04-06</td>\n",
       "      <td>11548</td>\n",
       "      <td>63</td>\n",
       "      <td>393</td>\n",
       "      <td>2</td>\n",
       "    </tr>\n",
       "    <tr>\n",
       "      <th>97</th>\n",
       "      <td>4098</td>\n",
       "      <td>2024-04-07</td>\n",
       "      <td>12708</td>\n",
       "      <td>85</td>\n",
       "      <td>443</td>\n",
       "      <td>0</td>\n",
       "    </tr>\n",
       "    <tr>\n",
       "      <th>98</th>\n",
       "      <td>4099</td>\n",
       "      <td>2024-04-08</td>\n",
       "      <td>6781</td>\n",
       "      <td>73</td>\n",
       "      <td>711</td>\n",
       "      <td>2</td>\n",
       "    </tr>\n",
       "    <tr>\n",
       "      <th>99</th>\n",
       "      <td>4100</td>\n",
       "      <td>2024-04-09</td>\n",
       "      <td>8720</td>\n",
       "      <td>62</td>\n",
       "      <td>184</td>\n",
       "      <td>3</td>\n",
       "    </tr>\n",
       "  </tbody>\n",
       "</table>\n",
       "<p>100 rows × 6 columns</p>\n",
       "</div>"
      ],
      "text/plain": [
       "    User_ID        Date  Steps  Heart_Rate_avg  Calories_Burned  Workout_Type\n",
       "0      4001  2024-01-01  14748              68              598             0\n",
       "1      4002  2024-01-02   8943              74              428             0\n",
       "2      4003  2024-01-03  14195              69              724             3\n",
       "3      4004  2024-01-04   7963              97              284             1\n",
       "4      4005  2024-01-05  14671              93              622             2\n",
       "..      ...         ...    ...             ...              ...           ...\n",
       "95     4096  2024-04-05   7333              76              299             2\n",
       "96     4097  2024-04-06  11548              63              393             2\n",
       "97     4098  2024-04-07  12708              85              443             0\n",
       "98     4099  2024-04-08   6781              73              711             2\n",
       "99     4100  2024-04-09   8720              62              184             3\n",
       "\n",
       "[100 rows x 6 columns]"
      ]
     },
     "execution_count": 9,
     "metadata": {},
     "output_type": "execute_result"
    }
   ],
   "source": [
    "df"
   ]
  },
  {
   "cell_type": "markdown",
   "id": "d13e14e5",
   "metadata": {
    "papermill": {
     "duration": 0.004737,
     "end_time": "2025-06-02T14:51:57.619816",
     "exception": false,
     "start_time": "2025-06-02T14:51:57.615079",
     "status": "completed"
    },
    "tags": []
   },
   "source": [
    "# ANN MODEL"
   ]
  },
  {
   "cell_type": "code",
   "execution_count": 10,
   "id": "d83c705d",
   "metadata": {
    "execution": {
     "iopub.execute_input": "2025-06-02T14:51:57.631966Z",
     "iopub.status.busy": "2025-06-02T14:51:57.631694Z",
     "iopub.status.idle": "2025-06-02T14:52:15.627152Z",
     "shell.execute_reply": "2025-06-02T14:52:15.626038Z"
    },
    "papermill": {
     "duration": 18.003702,
     "end_time": "2025-06-02T14:52:15.629520",
     "exception": false,
     "start_time": "2025-06-02T14:51:57.625818",
     "status": "completed"
    },
    "tags": []
   },
   "outputs": [
    {
     "name": "stderr",
     "output_type": "stream",
     "text": [
      "2025-06-02 14:51:59.982926: E external/local_xla/xla/stream_executor/cuda/cuda_fft.cc:477] Unable to register cuFFT factory: Attempting to register factory for plugin cuFFT when one has already been registered\n",
      "WARNING: All log messages before absl::InitializeLog() is called are written to STDERR\n",
      "E0000 00:00:1748875920.290914      13 cuda_dnn.cc:8310] Unable to register cuDNN factory: Attempting to register factory for plugin cuDNN when one has already been registered\n",
      "E0000 00:00:1748875920.374679      13 cuda_blas.cc:1418] Unable to register cuBLAS factory: Attempting to register factory for plugin cuBLAS when one has already been registered\n"
     ]
    }
   ],
   "source": [
    "import tensorflow as tf\n",
    "from tensorflow.keras.models import Sequential\n",
    "from tensorflow.keras.layers import Dense,Input\n",
    "from sklearn.preprocessing import StandardScaler\n",
    "from tensorflow.keras.optimizers import Adam"
   ]
  },
  {
   "cell_type": "code",
   "execution_count": 11,
   "id": "525d3a44",
   "metadata": {
    "execution": {
     "iopub.execute_input": "2025-06-02T14:52:15.641660Z",
     "iopub.status.busy": "2025-06-02T14:52:15.641057Z",
     "iopub.status.idle": "2025-06-02T14:52:15.768593Z",
     "shell.execute_reply": "2025-06-02T14:52:15.767706Z"
    },
    "papermill": {
     "duration": 0.13546,
     "end_time": "2025-06-02T14:52:15.770333",
     "exception": false,
     "start_time": "2025-06-02T14:52:15.634873",
     "status": "completed"
    },
    "tags": []
   },
   "outputs": [],
   "source": [
    "from sklearn.model_selection import train_test_split\n",
    "from sklearn.metrics import f1_score,r2_score,accuracy_score,recall_score,classification_report, confusion_matrix\n",
    "from sklearn.preprocessing import StandardScaler\n",
    "from tensorflow.keras.layers import Dropout, BatchNormalization"
   ]
  },
  {
   "cell_type": "code",
   "execution_count": 12,
   "id": "9302b6a6",
   "metadata": {
    "execution": {
     "iopub.execute_input": "2025-06-02T14:52:15.781645Z",
     "iopub.status.busy": "2025-06-02T14:52:15.781349Z",
     "iopub.status.idle": "2025-06-02T14:52:15.788561Z",
     "shell.execute_reply": "2025-06-02T14:52:15.787672Z"
    },
    "papermill": {
     "duration": 0.014557,
     "end_time": "2025-06-02T14:52:15.790011",
     "exception": false,
     "start_time": "2025-06-02T14:52:15.775454",
     "status": "completed"
    },
    "tags": []
   },
   "outputs": [],
   "source": [
    "X = df.drop(columns=['Workout_Type','User_ID','Date'])\n",
    "y = df['Workout_Type']"
   ]
  },
  {
   "cell_type": "code",
   "execution_count": 13,
   "id": "1d09e7ec",
   "metadata": {
    "execution": {
     "iopub.execute_input": "2025-06-02T14:52:15.801719Z",
     "iopub.status.busy": "2025-06-02T14:52:15.801441Z",
     "iopub.status.idle": "2025-06-02T14:52:15.808044Z",
     "shell.execute_reply": "2025-06-02T14:52:15.807130Z"
    },
    "papermill": {
     "duration": 0.014348,
     "end_time": "2025-06-02T14:52:15.809618",
     "exception": false,
     "start_time": "2025-06-02T14:52:15.795270",
     "status": "completed"
    },
    "tags": []
   },
   "outputs": [],
   "source": [
    "X_train,X_test,y_train,y_test = train_test_split(X,y,test_size=0.2,random_state=42)"
   ]
  },
  {
   "cell_type": "code",
   "execution_count": 14,
   "id": "2dbe1be4",
   "metadata": {
    "execution": {
     "iopub.execute_input": "2025-06-02T14:52:15.821193Z",
     "iopub.status.busy": "2025-06-02T14:52:15.820915Z",
     "iopub.status.idle": "2025-06-02T14:52:15.829817Z",
     "shell.execute_reply": "2025-06-02T14:52:15.828596Z"
    },
    "papermill": {
     "duration": 0.01661,
     "end_time": "2025-06-02T14:52:15.831459",
     "exception": false,
     "start_time": "2025-06-02T14:52:15.814849",
     "status": "completed"
    },
    "tags": []
   },
   "outputs": [],
   "source": [
    "scaler = StandardScaler()\n",
    "X_train_scaled = scaler.fit_transform(X_train)\n",
    "X_test_scaled = scaler.transform(X_test)\n"
   ]
  },
  {
   "cell_type": "code",
   "execution_count": 15,
   "id": "99098165",
   "metadata": {
    "execution": {
     "iopub.execute_input": "2025-06-02T14:52:15.843055Z",
     "iopub.status.busy": "2025-06-02T14:52:15.842759Z",
     "iopub.status.idle": "2025-06-02T14:52:15.965704Z",
     "shell.execute_reply": "2025-06-02T14:52:15.964780Z"
    },
    "papermill": {
     "duration": 0.130779,
     "end_time": "2025-06-02T14:52:15.967428",
     "exception": false,
     "start_time": "2025-06-02T14:52:15.836649",
     "status": "completed"
    },
    "tags": []
   },
   "outputs": [
    {
     "name": "stderr",
     "output_type": "stream",
     "text": [
      "2025-06-02 14:52:15.851390: E external/local_xla/xla/stream_executor/cuda/cuda_driver.cc:152] failed call to cuInit: INTERNAL: CUDA error: Failed call to cuInit: UNKNOWN ERROR (303)\n"
     ]
    }
   ],
   "source": [
    "num_classes = 4  # Change this based on your dataset\n",
    "model = Sequential([\n",
    "    Dense(256, activation='relu', input_shape=(X_train.shape[1],)),\n",
    "    BatchNormalization(),\n",
    "    Dropout(0.3),\n",
    "    Dense(128, activation='relu'),\n",
    "    Dropout(0.3),\n",
    "    Dense(num_classes, activation='softmax')\n",
    "])"
   ]
  },
  {
   "cell_type": "code",
   "execution_count": 16,
   "id": "9efe3120",
   "metadata": {
    "execution": {
     "iopub.execute_input": "2025-06-02T14:52:15.980091Z",
     "iopub.status.busy": "2025-06-02T14:52:15.979798Z",
     "iopub.status.idle": "2025-06-02T14:52:15.996454Z",
     "shell.execute_reply": "2025-06-02T14:52:15.995590Z"
    },
    "papermill": {
     "duration": 0.024713,
     "end_time": "2025-06-02T14:52:15.998295",
     "exception": false,
     "start_time": "2025-06-02T14:52:15.973582",
     "status": "completed"
    },
    "tags": []
   },
   "outputs": [],
   "source": [
    "model.compile(optimizer='adam',\n",
    "              loss='sparse_categorical_crossentropy',  # use categorical_crossentropy if labels are one-hot encoded\n",
    "              metrics=['accuracy'])\n"
   ]
  },
  {
   "cell_type": "code",
   "execution_count": 17,
   "id": "018dcf38",
   "metadata": {
    "execution": {
     "iopub.execute_input": "2025-06-02T14:52:16.010520Z",
     "iopub.status.busy": "2025-06-02T14:52:16.010185Z",
     "iopub.status.idle": "2025-06-02T14:52:21.772930Z",
     "shell.execute_reply": "2025-06-02T14:52:21.772030Z"
    },
    "papermill": {
     "duration": 5.770842,
     "end_time": "2025-06-02T14:52:21.774343",
     "exception": false,
     "start_time": "2025-06-02T14:52:16.003501",
     "status": "completed"
    },
    "tags": []
   },
   "outputs": [
    {
     "name": "stdout",
     "output_type": "stream",
     "text": [
      "Epoch 1/50\n",
      "\u001b[1m3/3\u001b[0m \u001b[32m━━━━━━━━━━━━━━━━━━━━\u001b[0m\u001b[37m\u001b[0m \u001b[1m3s\u001b[0m 18ms/step - accuracy: 0.2227 - loss: 1.8463\n",
      "Epoch 2/50\n",
      "\u001b[1m3/3\u001b[0m \u001b[32m━━━━━━━━━━━━━━━━━━━━\u001b[0m\u001b[37m\u001b[0m \u001b[1m0s\u001b[0m 14ms/step - accuracy: 0.2367 - loss: 1.7186\n",
      "Epoch 3/50\n",
      "\u001b[1m3/3\u001b[0m \u001b[32m━━━━━━━━━━━━━━━━━━━━\u001b[0m\u001b[37m\u001b[0m \u001b[1m0s\u001b[0m 14ms/step - accuracy: 0.2383 - loss: 1.5984\n",
      "Epoch 4/50\n",
      "\u001b[1m3/3\u001b[0m \u001b[32m━━━━━━━━━━━━━━━━━━━━\u001b[0m\u001b[37m\u001b[0m \u001b[1m0s\u001b[0m 15ms/step - accuracy: 0.3523 - loss: 1.5422\n",
      "Epoch 5/50\n",
      "\u001b[1m3/3\u001b[0m \u001b[32m━━━━━━━━━━━━━━━━━━━━\u001b[0m\u001b[37m\u001b[0m \u001b[1m0s\u001b[0m 15ms/step - accuracy: 0.2328 - loss: 1.5135\n",
      "Epoch 6/50\n",
      "\u001b[1m3/3\u001b[0m \u001b[32m━━━━━━━━━━━━━━━━━━━━\u001b[0m\u001b[37m\u001b[0m \u001b[1m0s\u001b[0m 14ms/step - accuracy: 0.2133 - loss: 1.6340\n",
      "Epoch 7/50\n",
      "\u001b[1m3/3\u001b[0m \u001b[32m━━━━━━━━━━━━━━━━━━━━\u001b[0m\u001b[37m\u001b[0m \u001b[1m0s\u001b[0m 14ms/step - accuracy: 0.3016 - loss: 1.4254\n",
      "Epoch 8/50\n",
      "\u001b[1m3/3\u001b[0m \u001b[32m━━━━━━━━━━━━━━━━━━━━\u001b[0m\u001b[37m\u001b[0m \u001b[1m0s\u001b[0m 15ms/step - accuracy: 0.3328 - loss: 1.5975\n",
      "Epoch 9/50\n",
      "\u001b[1m3/3\u001b[0m \u001b[32m━━━━━━━━━━━━━━━━━━━━\u001b[0m\u001b[37m\u001b[0m \u001b[1m0s\u001b[0m 14ms/step - accuracy: 0.1547 - loss: 1.5708\n",
      "Epoch 10/50\n",
      "\u001b[1m3/3\u001b[0m \u001b[32m━━━━━━━━━━━━━━━━━━━━\u001b[0m\u001b[37m\u001b[0m \u001b[1m0s\u001b[0m 14ms/step - accuracy: 0.2672 - loss: 1.4828\n",
      "Epoch 11/50\n",
      "\u001b[1m3/3\u001b[0m \u001b[32m━━━━━━━━━━━━━━━━━━━━\u001b[0m\u001b[37m\u001b[0m \u001b[1m0s\u001b[0m 14ms/step - accuracy: 0.2219 - loss: 1.4662\n",
      "Epoch 12/50\n",
      "\u001b[1m3/3\u001b[0m \u001b[32m━━━━━━━━━━━━━━━━━━━━\u001b[0m\u001b[37m\u001b[0m \u001b[1m0s\u001b[0m 14ms/step - accuracy: 0.3305 - loss: 1.5069\n",
      "Epoch 13/50\n",
      "\u001b[1m3/3\u001b[0m \u001b[32m━━━━━━━━━━━━━━━━━━━━\u001b[0m\u001b[37m\u001b[0m \u001b[1m0s\u001b[0m 14ms/step - accuracy: 0.1867 - loss: 1.5320\n",
      "Epoch 14/50\n",
      "\u001b[1m3/3\u001b[0m \u001b[32m━━━━━━━━━━━━━━━━━━━━\u001b[0m\u001b[37m\u001b[0m \u001b[1m0s\u001b[0m 14ms/step - accuracy: 0.3648 - loss: 1.4049\n",
      "Epoch 15/50\n",
      "\u001b[1m3/3\u001b[0m \u001b[32m━━━━━━━━━━━━━━━━━━━━\u001b[0m\u001b[37m\u001b[0m \u001b[1m0s\u001b[0m 14ms/step - accuracy: 0.3203 - loss: 1.4219\n",
      "Epoch 16/50\n",
      "\u001b[1m3/3\u001b[0m \u001b[32m━━━━━━━━━━━━━━━━━━━━\u001b[0m\u001b[37m\u001b[0m \u001b[1m0s\u001b[0m 14ms/step - accuracy: 0.3242 - loss: 1.4276\n",
      "Epoch 17/50\n",
      "\u001b[1m3/3\u001b[0m \u001b[32m━━━━━━━━━━━━━━━━━━━━\u001b[0m\u001b[37m\u001b[0m \u001b[1m0s\u001b[0m 14ms/step - accuracy: 0.3586 - loss: 1.4517\n",
      "Epoch 18/50\n",
      "\u001b[1m3/3\u001b[0m \u001b[32m━━━━━━━━━━━━━━━━━━━━\u001b[0m\u001b[37m\u001b[0m \u001b[1m0s\u001b[0m 14ms/step - accuracy: 0.3359 - loss: 1.4278\n",
      "Epoch 19/50\n",
      "\u001b[1m3/3\u001b[0m \u001b[32m━━━━━━━━━━━━━━━━━━━━\u001b[0m\u001b[37m\u001b[0m \u001b[1m0s\u001b[0m 14ms/step - accuracy: 0.3477 - loss: 1.4702\n",
      "Epoch 20/50\n",
      "\u001b[1m3/3\u001b[0m \u001b[32m━━━━━━━━━━━━━━━━━━━━\u001b[0m\u001b[37m\u001b[0m \u001b[1m0s\u001b[0m 14ms/step - accuracy: 0.3125 - loss: 1.5484\n",
      "Epoch 21/50\n",
      "\u001b[1m3/3\u001b[0m \u001b[32m━━━━━━━━━━━━━━━━━━━━\u001b[0m\u001b[37m\u001b[0m \u001b[1m0s\u001b[0m 14ms/step - accuracy: 0.4648 - loss: 1.2841\n",
      "Epoch 22/50\n",
      "\u001b[1m3/3\u001b[0m \u001b[32m━━━━━━━━━━━━━━━━━━━━\u001b[0m\u001b[37m\u001b[0m \u001b[1m0s\u001b[0m 14ms/step - accuracy: 0.3414 - loss: 1.3929\n",
      "Epoch 23/50\n",
      "\u001b[1m3/3\u001b[0m \u001b[32m━━━━━━━━━━━━━━━━━━━━\u001b[0m\u001b[37m\u001b[0m \u001b[1m0s\u001b[0m 14ms/step - accuracy: 0.4062 - loss: 1.4085\n",
      "Epoch 24/50\n",
      "\u001b[1m3/3\u001b[0m \u001b[32m━━━━━━━━━━━━━━━━━━━━\u001b[0m\u001b[37m\u001b[0m \u001b[1m0s\u001b[0m 14ms/step - accuracy: 0.4258 - loss: 1.3815\n",
      "Epoch 25/50\n",
      "\u001b[1m3/3\u001b[0m \u001b[32m━━━━━━━━━━━━━━━━━━━━\u001b[0m\u001b[37m\u001b[0m \u001b[1m0s\u001b[0m 14ms/step - accuracy: 0.3820 - loss: 1.3332\n",
      "Epoch 26/50\n",
      "\u001b[1m3/3\u001b[0m \u001b[32m━━━━━━━━━━━━━━━━━━━━\u001b[0m\u001b[37m\u001b[0m \u001b[1m0s\u001b[0m 14ms/step - accuracy: 0.3328 - loss: 1.4214\n",
      "Epoch 27/50\n",
      "\u001b[1m3/3\u001b[0m \u001b[32m━━━━━━━━━━━━━━━━━━━━\u001b[0m\u001b[37m\u001b[0m \u001b[1m0s\u001b[0m 14ms/step - accuracy: 0.3492 - loss: 1.3417\n",
      "Epoch 28/50\n",
      "\u001b[1m3/3\u001b[0m \u001b[32m━━━━━━━━━━━━━━━━━━━━\u001b[0m\u001b[37m\u001b[0m \u001b[1m0s\u001b[0m 14ms/step - accuracy: 0.4016 - loss: 1.3982\n",
      "Epoch 29/50\n",
      "\u001b[1m3/3\u001b[0m \u001b[32m━━━━━━━━━━━━━━━━━━━━\u001b[0m\u001b[37m\u001b[0m \u001b[1m0s\u001b[0m 14ms/step - accuracy: 0.3453 - loss: 1.3938\n",
      "Epoch 30/50\n",
      "\u001b[1m3/3\u001b[0m \u001b[32m━━━━━━━━━━━━━━━━━━━━\u001b[0m\u001b[37m\u001b[0m \u001b[1m0s\u001b[0m 13ms/step - accuracy: 0.3875 - loss: 1.3830\n",
      "Epoch 31/50\n",
      "\u001b[1m3/3\u001b[0m \u001b[32m━━━━━━━━━━━━━━━━━━━━\u001b[0m\u001b[37m\u001b[0m \u001b[1m0s\u001b[0m 13ms/step - accuracy: 0.3734 - loss: 1.4321\n",
      "Epoch 32/50\n",
      "\u001b[1m3/3\u001b[0m \u001b[32m━━━━━━━━━━━━━━━━━━━━\u001b[0m\u001b[37m\u001b[0m \u001b[1m0s\u001b[0m 14ms/step - accuracy: 0.3375 - loss: 1.4171\n",
      "Epoch 33/50\n",
      "\u001b[1m3/3\u001b[0m \u001b[32m━━━━━━━━━━━━━━━━━━━━\u001b[0m\u001b[37m\u001b[0m \u001b[1m0s\u001b[0m 13ms/step - accuracy: 0.3641 - loss: 1.3976\n",
      "Epoch 34/50\n",
      "\u001b[1m3/3\u001b[0m \u001b[32m━━━━━━━━━━━━━━━━━━━━\u001b[0m\u001b[37m\u001b[0m \u001b[1m0s\u001b[0m 14ms/step - accuracy: 0.4203 - loss: 1.2990\n",
      "Epoch 35/50\n",
      "\u001b[1m3/3\u001b[0m \u001b[32m━━━━━━━━━━━━━━━━━━━━\u001b[0m\u001b[37m\u001b[0m \u001b[1m0s\u001b[0m 14ms/step - accuracy: 0.4117 - loss: 1.2866\n",
      "Epoch 36/50\n",
      "\u001b[1m3/3\u001b[0m \u001b[32m━━━━━━━━━━━━━━━━━━━━\u001b[0m\u001b[37m\u001b[0m \u001b[1m0s\u001b[0m 15ms/step - accuracy: 0.3625 - loss: 1.3988\n",
      "Epoch 37/50\n",
      "\u001b[1m3/3\u001b[0m \u001b[32m━━━━━━━━━━━━━━━━━━━━\u001b[0m\u001b[37m\u001b[0m \u001b[1m0s\u001b[0m 14ms/step - accuracy: 0.4656 - loss: 1.2498\n",
      "Epoch 38/50\n",
      "\u001b[1m3/3\u001b[0m \u001b[32m━━━━━━━━━━━━━━━━━━━━\u001b[0m\u001b[37m\u001b[0m \u001b[1m0s\u001b[0m 14ms/step - accuracy: 0.4648 - loss: 1.2212\n",
      "Epoch 39/50\n",
      "\u001b[1m3/3\u001b[0m \u001b[32m━━━━━━━━━━━━━━━━━━━━\u001b[0m\u001b[37m\u001b[0m \u001b[1m0s\u001b[0m 14ms/step - accuracy: 0.3453 - loss: 1.3618\n",
      "Epoch 40/50\n",
      "\u001b[1m3/3\u001b[0m \u001b[32m━━━━━━━━━━━━━━━━━━━━\u001b[0m\u001b[37m\u001b[0m \u001b[1m0s\u001b[0m 14ms/step - accuracy: 0.3930 - loss: 1.3694\n",
      "Epoch 41/50\n",
      "\u001b[1m3/3\u001b[0m \u001b[32m━━━━━━━━━━━━━━━━━━━━\u001b[0m\u001b[37m\u001b[0m \u001b[1m0s\u001b[0m 14ms/step - accuracy: 0.3992 - loss: 1.3851\n",
      "Epoch 42/50\n",
      "\u001b[1m3/3\u001b[0m \u001b[32m━━━━━━━━━━━━━━━━━━━━\u001b[0m\u001b[37m\u001b[0m \u001b[1m0s\u001b[0m 14ms/step - accuracy: 0.4305 - loss: 1.2530\n",
      "Epoch 43/50\n",
      "\u001b[1m3/3\u001b[0m \u001b[32m━━━━━━━━━━━━━━━━━━━━\u001b[0m\u001b[37m\u001b[0m \u001b[1m0s\u001b[0m 14ms/step - accuracy: 0.3445 - loss: 1.3819\n",
      "Epoch 44/50\n",
      "\u001b[1m3/3\u001b[0m \u001b[32m━━━━━━━━━━━━━━━━━━━━\u001b[0m\u001b[37m\u001b[0m \u001b[1m0s\u001b[0m 14ms/step - accuracy: 0.3680 - loss: 1.4379\n",
      "Epoch 45/50\n",
      "\u001b[1m3/3\u001b[0m \u001b[32m━━━━━━━━━━━━━━━━━━━━\u001b[0m\u001b[37m\u001b[0m \u001b[1m0s\u001b[0m 14ms/step - accuracy: 0.3492 - loss: 1.2753\n",
      "Epoch 46/50\n",
      "\u001b[1m3/3\u001b[0m \u001b[32m━━━━━━━━━━━━━━━━━━━━\u001b[0m\u001b[37m\u001b[0m \u001b[1m0s\u001b[0m 14ms/step - accuracy: 0.4047 - loss: 1.2969\n",
      "Epoch 47/50\n",
      "\u001b[1m3/3\u001b[0m \u001b[32m━━━━━━━━━━━━━━━━━━━━\u001b[0m\u001b[37m\u001b[0m \u001b[1m0s\u001b[0m 14ms/step - accuracy: 0.4539 - loss: 1.3642\n",
      "Epoch 48/50\n",
      "\u001b[1m3/3\u001b[0m \u001b[32m━━━━━━━━━━━━━━━━━━━━\u001b[0m\u001b[37m\u001b[0m \u001b[1m0s\u001b[0m 15ms/step - accuracy: 0.4594 - loss: 1.1852\n",
      "Epoch 49/50\n",
      "\u001b[1m3/3\u001b[0m \u001b[32m━━━━━━━━━━━━━━━━━━━━\u001b[0m\u001b[37m\u001b[0m \u001b[1m0s\u001b[0m 14ms/step - accuracy: 0.3812 - loss: 1.3847\n",
      "Epoch 50/50\n",
      "\u001b[1m3/3\u001b[0m \u001b[32m━━━━━━━━━━━━━━━━━━━━\u001b[0m\u001b[37m\u001b[0m \u001b[1m0s\u001b[0m 14ms/step - accuracy: 0.4422 - loss: 1.2991\n"
     ]
    },
    {
     "data": {
      "text/plain": [
       "<keras.src.callbacks.history.History at 0x7cdbea8a6b50>"
      ]
     },
     "execution_count": 17,
     "metadata": {},
     "output_type": "execute_result"
    }
   ],
   "source": [
    "# model.fit(X_train_scaled, y_train, epochs=10, batch_size=32)\n",
    "from sklearn.utils import class_weight\n",
    "\n",
    "classes = np.unique(y_train)\n",
    "class_weights_array = class_weight.compute_class_weight('balanced', classes=classes, y=y_train)\n",
    "\n",
    "# Convert array to dict: {class_label: weight}\n",
    "class_weights = dict(zip(classes, class_weights_array))\n",
    "\n",
    "# Now use in model.fit()\n",
    "model.fit(X_train, y_train, epochs=50, batch_size=32, class_weight=class_weights)\n"
   ]
  },
  {
   "cell_type": "code",
   "execution_count": 18,
   "id": "f5806dce",
   "metadata": {
    "execution": {
     "iopub.execute_input": "2025-06-02T14:52:21.800783Z",
     "iopub.status.busy": "2025-06-02T14:52:21.800390Z",
     "iopub.status.idle": "2025-06-02T14:52:21.968944Z",
     "shell.execute_reply": "2025-06-02T14:52:21.968055Z"
    },
    "papermill": {
     "duration": 0.183267,
     "end_time": "2025-06-02T14:52:21.970706",
     "exception": false,
     "start_time": "2025-06-02T14:52:21.787439",
     "status": "completed"
    },
    "tags": []
   },
   "outputs": [
    {
     "name": "stdout",
     "output_type": "stream",
     "text": [
      "\u001b[1m1/1\u001b[0m \u001b[32m━━━━━━━━━━━━━━━━━━━━\u001b[0m\u001b[37m\u001b[0m \u001b[1m0s\u001b[0m 103ms/step\n"
     ]
    }
   ],
   "source": [
    "# Predict probabilities for each class\n",
    "y_probs = model.predict(X_test_scaled)\n",
    "\n",
    "# Get class with highest probability\n",
    "y_pred = y_probs.argmax(axis=1)\n"
   ]
  },
  {
   "cell_type": "code",
   "execution_count": 19,
   "id": "f4594eac",
   "metadata": {
    "execution": {
     "iopub.execute_input": "2025-06-02T14:52:21.996150Z",
     "iopub.status.busy": "2025-06-02T14:52:21.995841Z",
     "iopub.status.idle": "2025-06-02T14:52:22.000911Z",
     "shell.execute_reply": "2025-06-02T14:52:21.999847Z"
    },
    "papermill": {
     "duration": 0.019145,
     "end_time": "2025-06-02T14:52:22.002325",
     "exception": false,
     "start_time": "2025-06-02T14:52:21.983180",
     "status": "completed"
    },
    "tags": []
   },
   "outputs": [
    {
     "name": "stdout",
     "output_type": "stream",
     "text": [
      "[3 3 3 3 3 3 3 3 3 3 3 3 3 3 3 3 3 3 3 3]\n"
     ]
    }
   ],
   "source": [
    "print(y_pred)\n"
   ]
  },
  {
   "cell_type": "code",
   "execution_count": 20,
   "id": "887ed05c",
   "metadata": {
    "execution": {
     "iopub.execute_input": "2025-06-02T14:52:22.028687Z",
     "iopub.status.busy": "2025-06-02T14:52:22.028084Z",
     "iopub.status.idle": "2025-06-02T14:52:22.044781Z",
     "shell.execute_reply": "2025-06-02T14:52:22.043581Z"
    },
    "papermill": {
     "duration": 0.031445,
     "end_time": "2025-06-02T14:52:22.046404",
     "exception": false,
     "start_time": "2025-06-02T14:52:22.014959",
     "status": "completed"
    },
    "tags": []
   },
   "outputs": [
    {
     "name": "stdout",
     "output_type": "stream",
     "text": [
      "Accuracy: 0.15\n",
      "\n",
      "Classification Report:\n",
      "               precision    recall  f1-score   support\n",
      "\n",
      "           0       0.00      0.00      0.00         3\n",
      "           1       0.00      0.00      0.00         6\n",
      "           2       0.00      0.00      0.00         8\n",
      "           3       0.15      1.00      0.26         3\n",
      "\n",
      "    accuracy                           0.15        20\n",
      "   macro avg       0.04      0.25      0.07        20\n",
      "weighted avg       0.02      0.15      0.04        20\n",
      "\n",
      "\n",
      "Confusion Matrix:\n",
      " [[0 0 0 3]\n",
      " [0 0 0 6]\n",
      " [0 0 0 8]\n",
      " [0 0 0 3]]\n"
     ]
    }
   ],
   "source": [
    "# Print accuracy\n",
    "print(\"Accuracy:\", accuracy_score(y_test, y_pred))\n",
    "\n",
    "# Print detailed classification report (precision, recall, f1-score)\n",
    "print(\"\\nClassification Report:\\n\", classification_report(y_test, y_pred))\n",
    "\n",
    "# Print confusion matrix\n",
    "print(\"\\nConfusion Matrix:\\n\", confusion_matrix(y_test, y_pred))\n"
   ]
  },
  {
   "cell_type": "markdown",
   "id": "4067e41a",
   "metadata": {
    "papermill": {
     "duration": 0.011978,
     "end_time": "2025-06-02T14:52:22.070688",
     "exception": false,
     "start_time": "2025-06-02T14:52:22.058710",
     "status": "completed"
    },
    "tags": []
   },
   "source": [
    "# CONCLUSION:\n",
    "\n",
    "> NEED TO MORE WORK ON IT..\n",
    ">\n",
    "> MAY BE BY USING DATA-AUGMENTATION WE CAN IMPORVE THE RESULTS."
   ]
  },
  {
   "cell_type": "code",
   "execution_count": null,
   "id": "b9ecc133",
   "metadata": {
    "papermill": {
     "duration": 0.011653,
     "end_time": "2025-06-02T14:52:22.094424",
     "exception": false,
     "start_time": "2025-06-02T14:52:22.082771",
     "status": "completed"
    },
    "tags": []
   },
   "outputs": [],
   "source": []
  }
 ],
 "metadata": {
  "kaggle": {
   "accelerator": "none",
   "dataSources": [
    {
     "datasetId": 7533033,
     "sourceId": 11978427,
     "sourceType": "datasetVersion"
    }
   ],
   "dockerImageVersionId": 31040,
   "isGpuEnabled": false,
   "isInternetEnabled": true,
   "language": "python",
   "sourceType": "notebook"
  },
  "kernelspec": {
   "display_name": "Python 3",
   "language": "python",
   "name": "python3"
  },
  "language_info": {
   "codemirror_mode": {
    "name": "ipython",
    "version": 3
   },
   "file_extension": ".py",
   "mimetype": "text/x-python",
   "name": "python",
   "nbconvert_exporter": "python",
   "pygments_lexer": "ipython3",
   "version": "3.11.11"
  },
  "papermill": {
   "default_parameters": {},
   "duration": 36.161339,
   "end_time": "2025-06-02T14:52:25.043760",
   "environment_variables": {},
   "exception": null,
   "input_path": "__notebook__.ipynb",
   "output_path": "__notebook__.ipynb",
   "parameters": {},
   "start_time": "2025-06-02T14:51:48.882421",
   "version": "2.6.0"
  }
 },
 "nbformat": 4,
 "nbformat_minor": 5
}
